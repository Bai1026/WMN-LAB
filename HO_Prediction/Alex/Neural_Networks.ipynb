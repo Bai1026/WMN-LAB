{
  "nbformat": 4,
  "nbformat_minor": 0,
  "metadata": {
    "colab": {
      "provenance": []
    },
    "kernelspec": {
      "name": "python3",
      "display_name": "Python 3"
    },
    "language_info": {
      "name": "python"
    }
  },
  "cells": [
    {
      "cell_type": "markdown",
      "source": [
        "This notebook makes predictions using Neural Networks \\\\\n",
        " \\\\\n",
        "How to use it: \\\\\n",
        " \\\\\n",
        "Run all cells from \"Importation\", \"Model\", \"Get data from files\" and \"Useful functions\" \\\\\n",
        " \\\\\n",
        "In the \"Main\" part, run \"Columns and files\" \\\\\n",
        " \\\\\n",
        "In the \"Build X and y\" Section of \"Main\", choose the value of the parameters and run the section to build the dataset. \\\\\n",
        " \\\\\n",
        "\"Train\" and \"Test\" should be run respectively for the cross validation and the testing after choosing the value of the parameters. \\\\"
      ],
      "metadata": {
        "id": "jKZi5_v81ej_"
      }
    },
    {
      "cell_type": "markdown",
      "source": [
        "#Importation"
      ],
      "metadata": {
        "id": "HWHLErNeMA0q"
      }
    },
    {
      "cell_type": "code",
      "execution_count": null,
      "metadata": {
        "id": "y9FxoV9LL86o",
        "colab": {
          "base_uri": "https://localhost:8080/"
        },
        "outputId": "c0a45bfe-9517-4d90-8fa1-546b3c57ce3d"
      },
      "outputs": [
        {
          "output_type": "stream",
          "name": "stdout",
          "text": [
            "Looking in indexes: https://pypi.org/simple, https://us-python.pkg.dev/colab-wheels/public/simple/\n",
            "Collecting dpkt\n",
            "  Downloading dpkt-1.9.8-py3-none-any.whl (194 kB)\n",
            "\u001b[2K     \u001b[90m━━━━━━━━━━━━━━━━━━━━━━━━━━━━━━━━━━━━━━━\u001b[0m \u001b[32m195.0/195.0 KB\u001b[0m \u001b[31m9.4 MB/s\u001b[0m eta \u001b[36m0:00:00\u001b[0m\n",
            "\u001b[?25hInstalling collected packages: dpkt\n",
            "Successfully installed dpkt-1.9.8\n"
          ]
        }
      ],
      "source": [
        "from sklearn.neural_network import MLPClassifier, MLPRegressor\n",
        "import numpy as np\n",
        "from sklearn import preprocessing\n",
        "import datetime as dt\n",
        "import pandas as pd\n",
        "!pip install dpkt\n",
        "import dpkt\n",
        "import matplotlib.pyplot as plt"
      ]
    },
    {
      "cell_type": "markdown",
      "source": [
        "#Model"
      ],
      "metadata": {
        "id": "owhDwZl2MTlC"
      }
    },
    {
      "cell_type": "markdown",
      "source": [
        "##Neural Networks"
      ],
      "metadata": {
        "id": "LkrpPDPUMiGE"
      }
    },
    {
      "cell_type": "code",
      "source": [
        "# nn_classification: scales the data, create a NN classification model and makes prediction\n",
        "\n",
        "def nn_classification( solv, a, lay, Xtrain, ytrain, Xtest ):\n",
        "    scaler = preprocessing.StandardScaler().fit(Xtrain)\n",
        "    Xtrain = scaler.transform(Xtrain)\n",
        "    Xtest = scaler.transform(Xtest)\n",
        "    clf = MLPClassifier(solver=solv, alpha=a, hidden_layer_sizes=lay, random_state=1,max_iter=10000)\n",
        "    clf.fit(Xtrain,ytrain)\n",
        "    return clf.predict(Xtest)\n",
        "\n",
        "# nn_regression: scales the data, create a NN regression model and makes prediction\n",
        "\n",
        "def nn_regression( solv, a, lay, Xtrain, ytrain, Xtest ):\n",
        "    Xtr=Xtrain.copy()\n",
        "    ytr=ytrain.copy()\n",
        "    Xte=Xtest.copy()\n",
        "    scaler = preprocessing.StandardScaler().fit(Xtr)\n",
        "    Xtr = scaler.transform(Xtr)\n",
        "    Xte = scaler.transform(Xte)\n",
        "    Mi=min(ytrain)\n",
        "    Ma=max(ytrain)\n",
        "    #scalery = preprocessing.MinMaxScaler().fit(ytr.reshape(-1,1))\n",
        "    #y = scalery.transform(ytr.reshape(-1,1))\n",
        "    #for i in range(len(ytr)):\n",
        "    #  ytr[i]=y[i][0]\n",
        "    regr = MLPRegressor(random_state=1, max_iter=50000, hidden_layer_sizes=lay, alpha=a, solver=solv, learning_rate_init=1e-2, shuffle=False).fit(Xtr, ytr)\n",
        "\n",
        "    ypred = regr.predict(Xte)\n",
        "    #ypred=ypred*(Ma-Mi)+Mi\n",
        "    return ypred"
      ],
      "metadata": {
        "id": "Mh6w8KVeObqW"
      },
      "execution_count": null,
      "outputs": []
    },
    {
      "cell_type": "markdown",
      "source": [
        "##Cross Validation"
      ],
      "metadata": {
        "id": "soYXFTsnMnee"
      }
    },
    {
      "cell_type": "code",
      "source": [
        "# performs a time series cross validation\n",
        "\n",
        "def cv_time(X,y,solv,a,lay,error,c):\n",
        "\n",
        "  # Create the 5 different X and y to do the cross validation\n",
        "\n",
        "  (n,m)=np.shape(X)\n",
        "  ncv=int(n/10)           # divide the data into 10 parts (0 to 9)\n",
        "\n",
        "  Xtrain1=X[0:5*ncv,:]    # cross 1:\n",
        "  ytrain1=y[0:5*ncv]      #         train: parts 0 to 4\n",
        "  Xval1=X[5*ncv:6*ncv,:]  #         validation: part 5\n",
        "  yval1=y[5*ncv:6*ncv]\n",
        "\n",
        "  Xtrain2=X[0:6*ncv,:]    # cross 2:\n",
        "  ytrain2=y[0:6*ncv]      #         train: parts 0 to 5\n",
        "  Xval2=X[6*ncv:7*ncv,:]  #         validation: part 6\n",
        "  yval2=y[6*ncv:7*ncv]\n",
        "\n",
        "  Xtrain3=X[0:7*ncv,:]    # cross 3:\n",
        "  ytrain3=y[0:7*ncv]      #         train: parts 0 to 6\n",
        "  Xval3=X[7*ncv:8*ncv,:]  #         validation: part 7\n",
        "  yval3=y[7*ncv:8*ncv]\n",
        "\n",
        "  Xtrain4=X[0:8*ncv,:]    # cross 4:\n",
        "  ytrain4=y[0:8*ncv]      #         train: parts 0 to 7\n",
        "  Xval4=X[8*ncv:9*ncv,:]  #         validation: part 8\n",
        "  yval4=y[8*ncv:9*ncv]\n",
        "\n",
        "  Xtrain5=X[0:9*ncv,:]    # cross 5:\n",
        "  ytrain5=y[0:9*ncv]      #         train: parts 0 to 8\n",
        "  Xval5=X[9*ncv:n,:]      #         validation: part 9\n",
        "  yval5=y[9*ncv:n]\n",
        "\n",
        "  # Make the predictions and calculate the error for each cross\n",
        "\n",
        "  e1 = CV(solv, a, lay, Xtrain1, ytrain1, Xval1, yval1, error, c)\n",
        "  e2 = CV(solv, a, lay, Xtrain2, ytrain2, Xval2, yval2, error, c)\n",
        "  e3 = CV(solv, a, lay, Xtrain3, ytrain3, Xval3, yval3, error, c)\n",
        "  e4 = CV(solv, a, lay, Xtrain4, ytrain4, Xval4, yval4, error, c)\n",
        "  e5 = CV(solv, a, lay, Xtrain5, ytrain5, Xval5, yval5, error, c)\n",
        "\n",
        "  return (e1+e2+e3+e4+e5)/5\n",
        "\n",
        "def CV(solv, a, lay, Xtrain, ytrain, Xval, yval, error, c):\n",
        "  if c==1:\n",
        "    ypred=nn_classification(solv,a,lay,Xtrain,ytrain,Xval)\n",
        "  else:\n",
        "    ypred=nn_regression(solv,a,lay,Xtrain,ytrain,Xval)\n",
        "  e=choice_err(ypred, yval, error)\n",
        "  return e"
      ],
      "metadata": {
        "id": "Pt2-HFKiM6Z6"
      },
      "execution_count": null,
      "outputs": []
    },
    {
      "cell_type": "markdown",
      "source": [
        "##Error"
      ],
      "metadata": {
        "id": "mwdeoQgqMpvP"
      }
    },
    {
      "cell_type": "code",
      "source": [
        "def choice_err(y1, y2, c):\n",
        "  if c==1:\n",
        "    return F1score(y1, y2)\n",
        "  if c==2:\n",
        "    return mae(y1, y2)\n",
        "  if c==60:\n",
        "    return mae_alpha(y1, y2, 60)\n",
        "  if c==30:\n",
        "    return mae_alpha(y1, y2, 30)\n",
        "  if c==3:\n",
        "    return nz_mae(y1, y2, 100)\n",
        "\n",
        "def F1score(ypred,y):\n",
        "    tp=0\n",
        "    fp=0\n",
        "    tn=0\n",
        "    fn=0\n",
        "    for i in range(len(y)):\n",
        "        if y[i]==ypred[i]:\n",
        "            if y[i]==0:\n",
        "                tn=tn+1\n",
        "            else:\n",
        "                tp=tp+1\n",
        "        else:\n",
        "            if y[i]==0:\n",
        "                fp=fp+1\n",
        "            else:\n",
        "                fn=fn+1\n",
        "    if tp==0:\n",
        "        return 0\n",
        "    precision=tp/(tp+fp)\n",
        "    recall=tp/(tp+fn)\n",
        "    f1=2*precision*recall/(precision+recall)\n",
        "    return f1\n",
        "\n",
        "def mae(ypred, y):\n",
        "    s=0\n",
        "    for i in range(len(y)):\n",
        "        s=s+abs(y[i]-ypred[i])\n",
        "    return s/len(y)\n",
        "\n",
        "def mae_alpha(ypred, y, alpha):\n",
        "  s=0\n",
        "  for i in range(len(y)):\n",
        "    a = min(y[i],alpha)\n",
        "    b = min(ypred[i],alpha)\n",
        "    b = max(0,b)\n",
        "    s = s+abs(a-b)\n",
        "  return s/len(y)\n",
        "\n",
        "def nz_mae(ypred, y, weight):\n",
        "  s=0\n",
        "  for i in range(len(y)):\n",
        "    if y[i]==0:\n",
        "      s = s + abs(ypred[i])\n",
        "    else:\n",
        "      s = s + weight*abs(ypred[i]-y[i])\n",
        "  return s/len(y)"
      ],
      "metadata": {
        "id": "6noa5mK6O1xD"
      },
      "execution_count": null,
      "outputs": []
    },
    {
      "cell_type": "markdown",
      "source": [
        "#Get data from files"
      ],
      "metadata": {
        "id": "qGLQryYURfF8"
      }
    },
    {
      "cell_type": "markdown",
      "source": [
        "##Packet Loss"
      ],
      "metadata": {
        "id": "zAeAaYDRRk70"
      }
    },
    {
      "cell_type": "code",
      "source": [
        "# selects the data we want in the dataset to predict the number of packet losses\n",
        "# using regression (reg) and classification (class)\n",
        "\n",
        "def Xy_loss_reg(pcap,csv):\n",
        "  loss, latency = get_loss_latency(pcap)\n",
        "  change_PCI, rsrp, rsrq, rsrp5, rsrq5, current_cell, next_cell, speed, rx, tx, fiveg = get_datacsv(csv)\n",
        "  PCI,p,q,p5,q5,cc,nc,s,rx2,tx2,loss,latency,fg = transf_data(change_PCI, rsrp, rsrq, rsrp5, rsrq5, current_cell, next_cell, speed, rx, tx, loss, latency, fiveg)\n",
        "  (n,)=np.shape(s)\n",
        "  X=np.zeros((n-1,7))\n",
        "  Y=[]\n",
        "  for i in range(n-1):\n",
        "    X[i,0]=p5[i+1]\n",
        "    X[i,1]=q5[i+1]\n",
        "    X[i,2]=s[i+1]\n",
        "    X[i,3]=rx2[i+1]\n",
        "    X[i,4]=tx2[i+1]\n",
        "    X[i,5]=latency[i+1]\n",
        "    X[i,6]=loss[i]\n",
        "    Y.append(loss[i+1])\n",
        "  return X,Y\n",
        "\n",
        "def Xy_loss_reg2(pcap,csv):\n",
        "  loss, latency = get_loss_latency(pcap)\n",
        "  change_PCI, rsrp, rsrq, rsrp5, rsrq5, current_cell, next_cell, speed, rx, tx, fiveg = get_datacsv(csv)\n",
        "  PCI,p,q,p5,q5,cc,nc,s,rx2,tx2,loss,latency,fg = transf_data(change_PCI, rsrp, rsrq, rsrp5, rsrq5, current_cell, next_cell, speed, rx, tx, loss, latency, fiveg)\n",
        "  loss2=transf_nbloss(loss)\n",
        "  (n,)=np.shape(s)\n",
        "  X=np.zeros((n,4))\n",
        "  Y=[]\n",
        "  for i in range(n):\n",
        "    X[i,0]=p5[i]\n",
        "    X[i,1]=q5[i]\n",
        "    X[i,2]=s[i]\n",
        "    X[i,3]=latency[i]\n",
        "    Y.append(loss2[i])\n",
        "  return X,Y\n",
        "\n",
        "def Xy_loss_class(pcap,csv):\n",
        "  loss, latency = get_loss_latency(pcap)\n",
        "  change_PCI, rsrp, rsrq, rsrp5, rsrq5, current_cell, next_cell, speed, rx, tx, fiveg = get_datacsv(csv)\n",
        "  PCI,p,q,p5,q5,cc,nc,s,rx2,tx2,loss,latency,fg = transf_data(change_PCI, rsrp, rsrq, rsrp5, rsrq5, current_cell, next_cell, speed, rx, tx, loss, latency, fiveg)\n",
        "  (n,)=np.shape(s)\n",
        "  X=np.zeros((n-1,7))\n",
        "  Y=[]\n",
        "  for i in range(n-1):\n",
        "    X[i,0]=p5[i+1]\n",
        "    X[i,1]=q5[i+1]\n",
        "    X[i,2]=s[i+1]\n",
        "    X[i,3]=rx2[i+1]\n",
        "    X[i,4]=tx2[i+1]\n",
        "    X[i,5]=latency[i+1]\n",
        "    if loss[i]==0:\n",
        "      X[i,6]=loss[i]\n",
        "    else:\n",
        "      X[i,6]=1\n",
        "    if loss[i+1]==0:\n",
        "      Y.append(loss[i+1])\n",
        "    else:\n",
        "      Y.append(1)\n",
        "  return X,Y"
      ],
      "metadata": {
        "id": "0rEYoCEHRu9A"
      },
      "execution_count": null,
      "outputs": []
    },
    {
      "cell_type": "markdown",
      "source": [
        "##Latency"
      ],
      "metadata": {
        "id": "wuq7EwpBRpdw"
      }
    },
    {
      "cell_type": "code",
      "source": [
        "# selects the data we want in the dataset to predict the latency\n",
        "# with SigStrength (Xy_lat) and without (Xy_lat2)\n",
        "\n",
        "def Xy_lat(pcap,csv):\n",
        "  loss, latency = get_loss_latency(pcap)\n",
        "  change_PCI, rsrp, rsrq, rsrp5, rsrq5, current_cell, next_cell, speed, rx, tx, fiveg = get_datacsv(csv)\n",
        "  PCI,p,q,p5,q5,cc,nc,s,rx2,tx2,loss,latency,fg = transf_data(change_PCI, rsrp, rsrq, rsrp5, rsrq5, current_cell, next_cell, speed, rx, tx, loss, latency, fiveg)\n",
        "  (n,)=np.shape(s)\n",
        "  X=np.zeros((n-1,9))\n",
        "  Y=[]\n",
        "  for i in range(n-1):\n",
        "    X[i,0]=p5[i+1]\n",
        "    X[i,1]=q5[i+1]\n",
        "    if cc[i+1]=='-' and csv=='3232_6.csv':\n",
        "      cc[i+1]=-83\n",
        "    X[i,2]=cc[i+1]\n",
        "    X[i,3]=nc[i+1]\n",
        "    X[i,4]=s[i+1]\n",
        "    X[i,5]=rx2[i+1]\n",
        "    X[i,6]=tx2[i+1]\n",
        "    X[i,7]=loss[i+1]\n",
        "    X[i,8]=latency[i]\n",
        "    Y.append(latency[i+1])\n",
        "  return X,Y\n",
        "\n",
        "def Xy_lat2(pcap,csv):\n",
        "  loss, latency = get_loss_latency(pcap)\n",
        "  change_PCI, rsrp, rsrq, rsrp5, rsrq5, current_cell, next_cell, speed, rx, tx, fiveg = get_datacsv(csv)\n",
        "  PCI,p,q,p5,q5,cc,nc,s,rx2,tx2,loss,latency,fg = transf_data(change_PCI, rsrp, rsrq, rsrp5, rsrq5, current_cell, next_cell, speed, rx, tx, loss, latency, fiveg)\n",
        "  (n,)=np.shape(s)\n",
        "  X=np.zeros((n-1,7))\n",
        "  Y=[]\n",
        "  for i in range(n-1):\n",
        "    X[i,0]=p5[i+1]\n",
        "    X[i,1]=q5[i+1]\n",
        "    X[i,2]=s[i+1]\n",
        "    X[i,3]=rx2[i+1]\n",
        "    X[i,4]=tx2[i+1]\n",
        "    X[i,5]=loss[i+1]\n",
        "    X[i,6]=latency[i]\n",
        "    Y.append(latency[i+1])\n",
        "  return X,Y"
      ],
      "metadata": {
        "id": "PJLpmAYxRqz9"
      },
      "execution_count": null,
      "outputs": []
    },
    {
      "cell_type": "markdown",
      "source": [
        "##Base Station"
      ],
      "metadata": {
        "id": "oYKcnvVRRs73"
      }
    },
    {
      "cell_type": "markdown",
      "source": [
        "###Presence of change (0 or 1)"
      ],
      "metadata": {
        "id": "AAgL_SRbW3q0"
      }
    },
    {
      "cell_type": "code",
      "source": [
        "# selects the data we want in the dataset to predict if there is a change of base station\n",
        "\n",
        "def Xy_change(pcap,csv):\n",
        "  loss, latency = get_loss_latency(pcap)\n",
        "  change_PCI, rsrp, rsrq, rsrp5, rsrq5, current_cell, next_cell, speed, rx, tx, fiveg = get_datacsv(csv)\n",
        "  PCI,p,q,p5,q5,cc,nc,s,rx2,tx2,loss,latency,fg = transf_data(change_PCI, rsrp, rsrq, rsrp5, rsrq5, current_cell, next_cell, speed, rx, tx, loss, latency, fiveg)\n",
        "  (n,)=np.shape(s)\n",
        "  X=np.zeros((n-1,10))\n",
        "  Y=[]\n",
        "  for i in range(n-1):\n",
        "    X[i,0]=p[i+1]\n",
        "    X[i,1]=q[i+1]\n",
        "    X[i,2]=cc[i+1]\n",
        "    X[i,3]=nc[i+1]\n",
        "    X[i,4]=s[i+1]\n",
        "    X[i,5]=rx2[i+1]\n",
        "    X[i,6]=tx2[i+1]\n",
        "    X[i,7]=loss[i+1]\n",
        "    X[i,8]=latency[i+1]\n",
        "    X[i,9]=PCI[i]\n",
        "    Y.append(PCI[i+1])\n",
        "  return X,Y"
      ],
      "metadata": {
        "id": "OxQf7gyWXCAM"
      },
      "execution_count": null,
      "outputs": []
    },
    {
      "cell_type": "markdown",
      "source": [
        "###Time before the next change"
      ],
      "metadata": {
        "id": "XlMF34IFW-bp"
      }
    },
    {
      "cell_type": "code",
      "source": [
        "# selects the data we want in the dataset to predict the time before the next change of base station\n",
        "# with SigStrength (Xy_time) and without (Xy_time2)\n",
        "\n",
        "def Xy_time(pcap,csv):\n",
        "  loss, latency = get_loss_latency(pcap)\n",
        "  change_PCI, rsrp, rsrq, rsrp5, rsrq5, current_cell, next_cell, speed, rx, tx, fiveg = get_datacsv(csv)\n",
        "  time_PCI, rsrp, rsrq, rsrp5, rsrq5, current_cell, next_cell, speed, rx, tx, fiveg = transf_pci(change_PCI, rsrp, rsrq, rsrp5, rsrq5, current_cell, next_cell, speed, rx, tx, fiveg)\n",
        "  PCI,p,q,p5,q5,cc,nc,s,rx2,tx2,loss,latency,fg = transf_data(time_PCI, rsrp, rsrq, rsrp5, rsrq5, current_cell, next_cell, speed, rx, tx, loss, latency, fiveg)\n",
        "  (n,)=np.shape(s)\n",
        "  X=np.zeros((n,9))\n",
        "  Y=[]\n",
        "  for i in range(n):\n",
        "    X[i,0]=p[i]\n",
        "    X[i,1]=q[i]\n",
        "    if cc[i]=='-' and csv=='3232_6.csv':\n",
        "      cc[i]=-83\n",
        "    X[i,2]=cc[i]\n",
        "    X[i,3]=nc[i]\n",
        "    X[i,4]=s[i]\n",
        "    X[i,5]=rx2[i]\n",
        "    X[i,6]=tx2[i]\n",
        "    X[i,7]=loss[i]\n",
        "    X[i,8]=latency[i]\n",
        "    Y.append(PCI[i])\n",
        "  return X,Y\n",
        "\n",
        "def Xy_time2(pcap,csv):\n",
        "  loss, latency = get_loss_latency(pcap)\n",
        "  change_PCI, rsrp, rsrq, rsrp5, rsrq5, current_cell, next_cell, speed, rx, tx, fiveg = get_datacsv(csv)\n",
        "  time_PCI, rsrp, rsrq, rsrp5, rsrq5, current_cell, next_cell, speed, rx, tx, fiveg = transf_pci(change_PCI, rsrp, rsrq, rsrp5, rsrq5, current_cell, next_cell, speed, rx, tx, fiveg)\n",
        "  PCI,p,q,p5,q5,cc,nc,s,rx2,tx2,loss,latency,fg = transf_data(time_PCI, rsrp, rsrq, rsrp5, rsrq5, current_cell, next_cell, speed, rx, tx, loss, latency, fiveg)\n",
        "  (n,)=np.shape(s)\n",
        "  X=np.zeros((n,7))\n",
        "  Y=[]\n",
        "  for i in range(n):\n",
        "    X[i,0]=p[i]\n",
        "    X[i,1]=q[i]\n",
        "    X[i,2]=s[i]\n",
        "    X[i,3]=rx2[i]\n",
        "    X[i,4]=tx2[i]\n",
        "    X[i,5]=loss[i]\n",
        "    X[i,6]=latency[i]\n",
        "    Y.append(PCI[i])\n",
        "  return X,Y"
      ],
      "metadata": {
        "id": "O_13f7PfYUzO"
      },
      "execution_count": null,
      "outputs": []
    },
    {
      "cell_type": "markdown",
      "source": [
        "##Get Loss and Latency from pcap files"
      ],
      "metadata": {
        "id": "4awoM5XWZnFe"
      }
    },
    {
      "cell_type": "code",
      "source": [
        "def get_loss_latency(file):     # returns the packet loss and latency datas\n",
        "    timestamp_list = []\n",
        "\n",
        "    f = open(file, \"rb\")\n",
        "    pcap = dpkt.pcap.Reader(f)\n",
        "\n",
        "    for ts, buf in pcap:\n",
        "        if len(buf) != 292:\n",
        "            continue\n",
        "\n",
        "        #Extract payload of the UDP packet\n",
        "        #---------------------------------\n",
        "        eth = dpkt.ethernet.Ethernet(buf)\n",
        "        ip = eth.ip\n",
        "        udp = ip.data\n",
        "\n",
        "        if len(udp) == 250+8:       # We set the payload length to be 250 in iperf, so here we set the length checking to be 250 + 8\n",
        "            #                       #當 packet payload 大小改變時，此大小需要修正\n",
        "\n",
        "            datetimedec = int(udp.data.hex()[0:8], 16)\n",
        "            microsec = int(udp.data.hex()[8:16], 16)\n",
        "\n",
        "            seq = int(udp.data.hex()[16:24], 16)\n",
        "\n",
        "            if seq == 1:            #可能在做實驗時，會有 iperf3 重新開始的狀況。\n",
        "                timestamp_list = []\n",
        "\n",
        "            timestamp_list.append((ts, datetimedec, microsec, seq))\n",
        "\n",
        "    timestamp_list = sorted(timestamp_list, key = lambda v : v[3])\n",
        "\n",
        "\n",
        "    #Checking packet loss...\n",
        "    #----------------------------------------------\n",
        "    pointer = 1\n",
        "    timestamp_store = None\n",
        "    loss_time_list = []\n",
        "\n",
        "    for timestamp in timestamp_list:\n",
        "        if timestamp[3] == pointer:\n",
        "            timestamp_store = timestamp\n",
        "        else:\n",
        "            if timestamp_store == None:\n",
        "                continue\n",
        "            loss_linspace = np.linspace(timestamp_store, timestamp, timestamp[3]-pointer+2)\n",
        "\n",
        "            for i in loss_linspace:\n",
        "                lost_time = dt.datetime.utcfromtimestamp(i[1]+i[2]/1000000.) + dt.timedelta(hours=8) #for pcap packets, the timestamps are needed to add 8 hours (timezone)\n",
        "                loss_time_list.append(lost_time)\n",
        "\n",
        "\n",
        "        pointer = timestamp[3] + 1\n",
        "\n",
        "\n",
        "    #x and y stands for the timestamp (x) and the one-way latency (y) on the timestamp, respectively\n",
        "    #----------------------------------------------\n",
        "    x = []\n",
        "    y = []\n",
        "    for i in range(len(timestamp_list)):\n",
        "        transmitted_time = dt.datetime.utcfromtimestamp(timestamp_list[i][1] + timestamp_list[i][2]/1000000.) + dt.timedelta(seconds=3600*8) #for pcap packets, the timestamps are needed to add 8 hours (timezone)\n",
        "        x.append(transmitted_time)\n",
        "        y.append( ( timestamp_list[i][0]+3600*8 - (timestamp_list[i][1] + timestamp_list[i][2]/1000000. + 3600*8) ) * 1000 )\n",
        "\n",
        "    latency = [x, y]\n",
        "\n",
        "    res_loss = transf_loss(loss_time_list)\n",
        "    res_latency = transf_latency(latency)\n",
        "\n",
        "    return res_loss, res_latency\n",
        "\n",
        "def transf_loss(loss):      # counts the number of packet losses for every second when there is at least 1 packet loss\n",
        "    nloss=len(loss)\n",
        "    count_loss=[]\n",
        "    time2=''\n",
        "    k=-1\n",
        "    for i in range(nloss):\n",
        "        dateloss=str(loss[i])\n",
        "        time=''\n",
        "        for j in range(8):\n",
        "            a=dateloss[11+j]\n",
        "            time=time+a\n",
        "        if time!=time2:                 # if the time of the new packet loss is not the same as the previous one\n",
        "            count_loss.append([time,1]) # we add a new element with the time and the number of packet loss (1)\n",
        "            k=k+1\n",
        "        else:                                     # else\n",
        "            count_loss[k][1]=count_loss[k][1]+1   # we update the number of packet losses for that time (+1)\n",
        "        time2=time\n",
        "\n",
        "    return count_loss\n",
        "\n",
        "def transf_latency(latency):  # returns the average of the latency at each second\n",
        "    la1=latency[0]\n",
        "    la2=latency[1]\n",
        "    nlatency=len(la1)\n",
        "    avg_latency=[]\n",
        "    time2=''\n",
        "    k=-1\n",
        "    s=0\n",
        "    c=0\n",
        "    for i in range(nlatency):\n",
        "        datelatency=str(la1[i])\n",
        "        valuelatency=la2[i]\n",
        "        time=''\n",
        "        for j in range(8):\n",
        "            a=datelatency[11+j]\n",
        "            time=time+a\n",
        "        if time!=time2:                   # if the new latency is not in the same second as the previous one\n",
        "            avg_latency.append([time,0])    # create a new element with the new time\n",
        "            if k>=0:\n",
        "                avg_latency[k][1]=s/c       # puts the average of the latency of the previous second in the previous element\n",
        "            k=k+1\n",
        "            s=valuelatency                  # initialize the new sum\n",
        "            c=1                             # initialize c to 1 (counts the number of element in each second)\n",
        "        else:                             # else\n",
        "            s=s+valuelatency                # update the sum\n",
        "            c=c+1                           # update c\n",
        "        time2=time\n",
        "\n",
        "    avg_latency[k][1]=s/c\n",
        "    return(avg_latency)\n",
        "\n",
        "def transf_loss_latency(loss,latency):  # puts loss=0 every time latency is collected and there is no packet loss\n",
        "    la=[]\n",
        "    lo=[]\n",
        "    t=[]\n",
        "    k=0\n",
        "    for i in range(len(latency)):\n",
        "        la.append(latency[i][1])\n",
        "        t.append(transf_time(latency[i][0]))\n",
        "        if k<len(loss):\n",
        "            if latency[i][0]==loss[k][0]:\n",
        "                lo.append(loss[k][1])\n",
        "                k=k+1\n",
        "            else:\n",
        "                lo.append(0)\n",
        "        else:\n",
        "            lo.append(0)\n",
        "    return t,lo,la"
      ],
      "metadata": {
        "id": "pnHV8txIZxW0"
      },
      "execution_count": null,
      "outputs": []
    },
    {
      "cell_type": "markdown",
      "source": [
        "##Get data from csv files"
      ],
      "metadata": {
        "id": "fzvC_uaxZsDI"
      }
    },
    {
      "cell_type": "code",
      "source": [
        "def get_datacsv(file):      # collects the data from the csv file\n",
        "    data = pd.read_csv(file)\n",
        "    n=len(data)\n",
        "    change_PCI=[]\n",
        "    rsrp=[]\n",
        "    rsrq=[]\n",
        "    rsrp5=[]\n",
        "    rsrq5=[]\n",
        "    speed=[]\n",
        "    rx=[]\n",
        "    tx=[]\n",
        "    current_cell=[]\n",
        "    next_cell=[]\n",
        "    fiveg=[]\n",
        "    PCI=0\n",
        "    s1=0\n",
        "    s2=0\n",
        "    for i in range(n):\n",
        "        time=''\n",
        "        for j in range(8):\n",
        "            time=time+data['Date'][i][j+9]\n",
        "\n",
        "        if PCI!=data['PCI'][i]:\n",
        "            c=1\n",
        "            PCI=data['PCI'][i]\n",
        "        else:\n",
        "            c=0\n",
        "        change_PCI.append([time,c])\n",
        "        if data['NR_SSRSRP'][i]=='-':\n",
        "            fiveg.append([time,0])\n",
        "            s1=s1+1\n",
        "            cor=data['LTE_RSRP'][i]\n",
        "            coq=data['LTE_RSRQ'][i]\n",
        "        else:\n",
        "            fiveg.append([time,1])\n",
        "            s2=s2+1\n",
        "            cor=data['NR_SSRSRP'][i]\n",
        "            coq=data['NR_SSRSRQ'][i]\n",
        "\n",
        "        rsrp5.append([time,cor])\n",
        "        rsrq5.append([time,coq])\n",
        "\n",
        "        rsrp.append([time,data['LTE_RSRP'][i]])\n",
        "        rsrq.append([time,data['LTE_RSRQ'][i]])\n",
        "\n",
        "        current_cell.append([time,data['SigStrength'][i]])\n",
        "        if data['SigStrength1'][i]=='-':\n",
        "            nc=100\n",
        "        else:\n",
        "            nc=data['SigStrength1'][i]\n",
        "        next_cell.append([time,nc])\n",
        "\n",
        "        speed.append([time,data['GPSSpeed'][i]])\n",
        "\n",
        "        rx.append([time,data['RxRate'][i]])\n",
        "        tx.append([time,data['TxRate'][i]])\n",
        "    return change_PCI, rsrp, rsrq, rsrp5, rsrq5, current_cell, next_cell, speed, rx, tx, fiveg\n",
        "\n",
        "\n",
        "# transf_pci is used to build the features when we want to predict the time before the next change of base station\n",
        "def transf_pci(PCI, rsrp, rsrq, rsrp5, rsrq5, current_cell, next_cell, speed, rx, tx, fiveg):\n",
        "    time_PCI=[]\n",
        "    p=[]\n",
        "    q=[]\n",
        "    p5=[]\n",
        "    q5=[]\n",
        "    cc=[]\n",
        "    nc=[]\n",
        "    s=[]\n",
        "    rr=[]\n",
        "    tt=[]\n",
        "    fg=[]\n",
        "    n=len(PCI)\n",
        "    k=0\n",
        "    time=0\n",
        "    for i in range(n):          # go from the the end of the list PCI to the 1st element\n",
        "        c=PCI[n-1-i][1]\n",
        "        t=PCI[n-1-i][0]\n",
        "        if c==1:                # if there is a change\n",
        "            time=transf_time(t) # we set time to the time of the change\n",
        "            time2=0\n",
        "            k=1   # after the first change we see (so the last one in a chronological order), we put k=1\n",
        "        else:\n",
        "            time2=time-transf_time(t)\n",
        "        if k==1:                          # if k==1, we take the values of the fatures\n",
        "            time_PCI.append([t,time2])    # I did that to ignore the moment after the last change\n",
        "            p.append(rsrp[n-1-i])         # as we don't know the time before the next change\n",
        "            q.append(rsrq[n-1-i])\n",
        "            p5.append(rsrp5[n-1-i])\n",
        "            q5.append(rsrq5[n-1-i])\n",
        "            cc.append(current_cell[n-1-i])\n",
        "            nc.append(next_cell[n-1-i])\n",
        "            s.append(speed[n-1-i])\n",
        "            rr.append(rx[n-1-i])\n",
        "            tt.append(tx[n-1-i])\n",
        "            fg.append(fiveg[n-1-i])\n",
        "    n2=len(time_PCI)\n",
        "    time_PCI2=[]\n",
        "    p2=[]\n",
        "    q2=[]\n",
        "    p52=[]\n",
        "    q52=[]\n",
        "    cc2=[]\n",
        "    nc2=[]\n",
        "    s2=[]\n",
        "    rr2=[]\n",
        "    tt2=[]\n",
        "    fg2=[]\n",
        "    for i in range(n2):\n",
        "        time_PCI2.append(time_PCI[n2-1-i])\n",
        "        p2.append(p[n2-1-i])\n",
        "        q2.append(q[n2-1-i])\n",
        "        p52.append(p5[n2-1-i])\n",
        "        q52.append(q5[n2-1-i])\n",
        "        cc2.append(cc[n2-1-i])\n",
        "        nc2.append(nc[n2-1-i])\n",
        "        s2.append(s[n2-1-i])\n",
        "        rr2.append(rr[n2-1-i])\n",
        "        tt2.append(tt[n2-1-i])\n",
        "        fg2.append(fg[n2-1-i])\n",
        "    return time_PCI2,p2,q2,p52,q52,cc2,nc2,s2,rr2,tt2,fg2\n",
        "\n",
        "def transf_data(change_PCI, rsrp, rsrq, rsrp5, rsrq5, current_cell, next_cell, speed, rx, tx, loss, latency, fiveg):\n",
        "    t,lo,la=transf_loss_latency(loss,latency)\n",
        "    return transf(change_PCI, rsrp, rsrq, rsrp5, rsrq5, current_cell, next_cell, speed, rx, tx, fiveg, t, lo, la)\n",
        "\n",
        "def transf_time(t):       # transforms a time in string to an int\n",
        "    hours=int(t[0]+t[1])\n",
        "    minutes=int(t[3]+t[4])\n",
        "    seconds=int(t[6]+t[7])\n",
        "    t2=seconds+60*minutes+3600*hours\n",
        "    return t2\n",
        "\n",
        "\n",
        "# csv and pcap files don't have the same beginning and finishing collecting times, and csv files miss some times\n",
        "# transf takes the features at the times when the datas from the csv files AND those from pcap are collected\n",
        "def transf(change_PCI, rsrp, rsrq, rsrp5, rsrq5, current_cell, next_cell, speed, rx, tx, fiveg, t, lo, la):\n",
        "    PCI=[]\n",
        "    p=[]\n",
        "    q=[]\n",
        "    p5=[]\n",
        "    q5=[]\n",
        "    cc=[]\n",
        "    nc=[]\n",
        "    s=[]\n",
        "    rx2=[]\n",
        "    tx2=[]\n",
        "    loss=[]\n",
        "    latency=[]\n",
        "    fg=[]\n",
        "    t1,t2,c,ia,ib=check(t[0],transf_time(rx[0][0]),0,0)\n",
        "    x=0\n",
        "    while x==0:\n",
        "        if t1==t2:                          # if at that iteration, the time from both list are the same:\n",
        "            PCI.append(change_PCI[ib][1])   # take all features\n",
        "            p.append(rsrp[ib][1])\n",
        "            q.append(rsrq[ib][1])\n",
        "            p5.append(rsrp5[ib][1])\n",
        "            q5.append(rsrq5[ib][1])\n",
        "            cc.append(current_cell[ib][1])\n",
        "            nc.append(next_cell[ib][1])\n",
        "            s.append(speed[ib][1])\n",
        "            rx2.append(rx[ib][1])\n",
        "            tx2.append(tx[ib][1])\n",
        "            fg.append(fiveg[ib][1])\n",
        "            loss.append(lo[ia])\n",
        "            latency.append(la[ia])\n",
        "\n",
        "            if (ib+1>=len(rx)) or (ia+1>=len(la)):\n",
        "                return PCI,p,q,p5,q5,cc,nc,s,rx2,tx2,loss,latency,fg\n",
        "\n",
        "            t1,t2,c,ia,ib=check(t[ia+1],transf_time(rx[ib+1][0]),ia+1,ib+1)\n",
        "            # check the smaller time for the next elements of both lists\n",
        "\n",
        "        else:   # if the times are not the same\n",
        "            t1,t2,c,ia,ib=check(t[ia],transf_time(rx[ib][0]),ia,ib)\n",
        "            # check which time is smaller\n",
        "\n",
        "            if (c==1 and ib+1>=len(rx)) or (c==2 and ia+1>=len(la)):\n",
        "                return PCI,p,q,p5,q5,cc,nc,s,rx2,tx2,loss,latency,fg\n",
        "\n",
        "            if c==1:  # if the time of csv files is smaller\n",
        "                # take the next elements (time and index) of the csv list\n",
        "                t1,ib=updatet1(transf_time(rx[ib+1][0]),ib)\n",
        "\n",
        "            if c==2:  # if the time of pcap files is smaller\n",
        "                # take the next elements of the pcap list\n",
        "                t1,ia=updatet1(t[ia+1],ia)\n",
        "\n",
        "def check(a,b,ia,ib):\n",
        "    if a>=b:\n",
        "        t1=b            # puts the smaller time to t1\n",
        "        t2=a\n",
        "        c=1             # c=1 when the smaller time is b (the time of csv files in transf)\n",
        "    else:\n",
        "        t1=a\n",
        "        t2=b\n",
        "        c=2             # c==2 when the smaller time is a (the time of pcap files in transf)\n",
        "    return t1,t2,c,ia,ib\n",
        "\n",
        "def updatet1(a,i):\n",
        "    t=a\n",
        "    i=i+1\n",
        "    return t,i\n",
        "\n",
        "# transf_nbloss transforms the loss features to have \"enlarged peaks\", to have less values =0\n",
        "def transf_nbloss(loss):\n",
        "  loss2=loss.copy()\n",
        "  n=len(loss)\n",
        "  for i in range(n):\n",
        "    if loss[i]>0:\n",
        "      v=loss[i]\n",
        "      k=0\n",
        "      while v>=0.01:\n",
        "        loss2,v=update_Xd(loss2,i-k,v)\n",
        "        loss2,v=update_Xu(loss2,i+k,v)\n",
        "        k=k+1\n",
        "  return loss2\n",
        "\n",
        "def update_Xd(X,k,v):\n",
        "  if k-1>=0:\n",
        "    if X[k-1]<0.95*v:\n",
        "      X[k-1]=0.95*v     # the element before the non-zero value is equal to 0.95*the value\n",
        "  return X,v\n",
        "\n",
        "def update_Xu(X,k,v):\n",
        "  if k+1<len(X):\n",
        "    if X[k+1]<0.95*v:\n",
        "      X[k+1]=0.95*v     # the element after the non-zero value is equal to 0.95*the value\n",
        "  return X,0.95*v"
      ],
      "metadata": {
        "id": "mE4sfff-aZec"
      },
      "execution_count": null,
      "outputs": []
    },
    {
      "cell_type": "markdown",
      "source": [
        "#Useful Functions"
      ],
      "metadata": {
        "id": "NK8iZg_4a8x4"
      }
    },
    {
      "cell_type": "markdown",
      "source": [
        "##Dataset"
      ],
      "metadata": {
        "id": "cN2ruEF0bIF7"
      }
    },
    {
      "cell_type": "code",
      "source": [
        "# create the dataset\n",
        "\n",
        "def dataset(pcap,csv,col,c):\n",
        "    if c==0:\n",
        "        X,y = Xy_change(pcap[0],csv[0])\n",
        "    if c==3:\n",
        "        X,y = Xy_lat(pcap[0],csv[0])\n",
        "    if c==4:\n",
        "        X,y = Xy_lat2(pcap[0],csv[0])\n",
        "    if c==5:\n",
        "        X,y = Xy_loss_reg(pcap[0],csv[0])\n",
        "    if c==6:\n",
        "        X,y = Xy_loss_class(pcap[0],csv[0])\n",
        "    if c==1:\n",
        "        X,y = Xy_time(pcap[0],csv[0])\n",
        "    if c==2:\n",
        "        X,y = Xy_time2(pcap[0],csv[0])\n",
        "    if c==7:\n",
        "        X,y = Xy_loss_reg(pcap[0],csv[0])\n",
        "    df=pd.DataFrame(X)\n",
        "    dyy=pd.DataFrame(y)\n",
        "    for i in range(1,len(csv)):\n",
        "        if c==0:\n",
        "            X1,y1 = Xy_change(pcap[i],csv[i])\n",
        "        if c==3:\n",
        "            X1,y1 = Xy_lat(pcap[i],csv[i])\n",
        "        if c==4:\n",
        "            X1,y1 = Xy_lat2(pcap[i],csv[i])\n",
        "        if c==5:\n",
        "            X1,y1 = Xy_loss_reg(pcap[i],csv[i])\n",
        "        if c==6:\n",
        "            X1,y1 = Xy_loss_class(pcap[i],csv[i])\n",
        "        if c==1:\n",
        "            X1,y1 = Xy_time(pcap[i],csv[i])\n",
        "        if c==2:\n",
        "            X1,y1 = Xy_time2(pcap[i],csv[i])\n",
        "        if c==5:\n",
        "            X1,y1 = Xy_loss_reg(pcap[i],csv[i])\n",
        "        X1d=pd.DataFrame(X1)\n",
        "        y1d=pd.DataFrame(y1)\n",
        "        df=pd.concat([df,X1d], ignore_index=True)\n",
        "        dyy=pd.concat([dyy,y1d])\n",
        "\n",
        "    df.columns=col\n",
        "\n",
        "    dyy.columns=['y']\n",
        "    dy=dyy['y']\n",
        "\n",
        "    # Divide the dataset into training and testing sets\n",
        "\n",
        "    lim=0.80\n",
        "    df1=df.iloc[0:int(len(dy)*lim)]\n",
        "    df2=df.iloc[int(len(dy)*lim):len(dy)]\n",
        "    dy1=dy.iloc[0:int(len(dy)*lim)]\n",
        "    dy2=dy.iloc[int(len(dy)*lim):len(dy)]\n",
        "\n",
        "    Xtrain=df1.to_numpy()\n",
        "    Xtest=df2.to_numpy()\n",
        "    ytrain=dy1.to_numpy()\n",
        "    ytest=dy2.to_numpy()\n",
        "\n",
        "    return Xtrain,ytrain,Xtest,ytest"
      ],
      "metadata": {
        "id": "eFl8oyTGcoG9"
      },
      "execution_count": null,
      "outputs": []
    },
    {
      "cell_type": "markdown",
      "source": [
        "##Test"
      ],
      "metadata": {
        "id": "37jghbYcbRop"
      }
    },
    {
      "cell_type": "code",
      "source": [
        "def test(Xtrain,ytrain,Xtest,ytest,alpha,layer,solv,model,time,error):\n",
        "  if model==0:\n",
        "    ypred = nn_regression(solv,alpha,layer,Xtrain,ytrain,Xtest)\n",
        "  else:\n",
        "    ypred = nn_classification(solv,alpha,layer,Xtrain,ytrain,Xtest)\n",
        "\n",
        "  t=[]\n",
        "  if time==1:\n",
        "    t1=-1\n",
        "    k=0\n",
        "    for i in range(len(ytest)):\n",
        "        if t1==-1:\n",
        "            t.append(i)\n",
        "            t1=ytest[i]\n",
        "        else:\n",
        "            a=t1-ytest[i]\n",
        "            if a>0:\n",
        "                k=k+a\n",
        "                t.append(k)\n",
        "            else:\n",
        "                k=k+1\n",
        "                t.append(k)\n",
        "            t1=ytest[i]\n",
        "  else:\n",
        "    for i in range(len(ytest)):\n",
        "        t.append(i)\n",
        "\n",
        "  e = choice_err(ypred, ytest, error)\n",
        "\n",
        "  return t,ypred,e"
      ],
      "metadata": {
        "id": "0_ymhdr7mX9i"
      },
      "execution_count": null,
      "outputs": []
    },
    {
      "cell_type": "markdown",
      "source": [
        "#Main"
      ],
      "metadata": {
        "id": "f0Z4t9y-a6mb"
      }
    },
    {
      "cell_type": "markdown",
      "source": [
        "##Columns and files"
      ],
      "metadata": {
        "id": "mYuVqw0ZbTHS"
      }
    },
    {
      "cell_type": "code",
      "source": [
        "pcap3231 = [\"3231_1.pcap\",\"3231_2.pcap\",\"3231_3.pcap\",\"3231_4.pcap\",\"3231_5.pcap\",\"3231_6.pcap\"]\n",
        "csv3231 = [\"3231_1.csv\",\"3231_2.csv\",\"3231_3.csv\",\"3231_4.csv\",\"3231_5.csv\",\"3231_6.csv\"]\n",
        "\n",
        "pcap0929 = [\"0929_1.pcap\",\"0929_2.pcap\",\"0929_3.pcap\",\"0929_4.pcap\"]\n",
        "csv0929 = [\"0929_1.csv\",\"0929_2.csv\",\"0929_3.csv\",\"0929_4.csv\"]\n",
        "\n",
        "pcap3232 = [\"3232_1.pcap\",\"3232_2.pcap\",\"3232_3.pcap\",\"3232_4.pcap\",\"3232_5.pcap\",\"3232_6.pcap\"]\n",
        "csv3232 = [\"3232_1.csv\",\"3232_2.csv\",\"3232_3.csv\",\"3232_4.csv\",\"3232_5.csv\",\"3232_6.csv\"]\n",
        "\n",
        "pcapfile = [pcap3231,pcap3232,pcap0929]\n",
        "csvfile = [csv3231,csv3232,csv0929]\n",
        "\n",
        "col_loss_class = ['RSRP', 'RSRQ', 'Speed', 'Rx', 'Tx', 'Latency', 'loss01']\n",
        "col_loss_reg = ['RSRP', 'RSRQ', 'Speed', 'Rx', 'Tx', 'Latency', 'loss']\n",
        "col_loss2 = ['RSRP', 'RSRQ', 'Speed', 'Latency']\n",
        "\n",
        "col_lat = ['RSRP', 'RSRQ', 'Current cell', 'Next cell', 'Speed', 'Rx', 'Tx', 'Packet loss','Latency']\n",
        "col_lat2 = ['RSRP', 'RSRQ', 'Speed', 'Rx', 'Tx', 'Packet loss','Latency']\n",
        "\n",
        "col_change = ['RSRP', 'RSRQ', 'Current cell', 'Next cell', 'Speed', 'Rx', 'Tx', 'Packet loss', 'Latency','Change']\n",
        "col_time = ['RSRP', 'RSRQ', 'Current cell', 'Next cell', 'Speed', 'Rx', 'Tx', 'Packet loss', 'Latency']\n",
        "col_time2 = ['RSRP', 'RSRQ', 'Speed', 'Rx', 'Tx', 'Packet loss', 'Latency']\n",
        "\n",
        "col = [col_change, col_time, col_time2, col_lat, col_lat2, col_loss_reg, col_loss_class, col_loss2]"
      ],
      "metadata": {
        "id": "EGi3Ay-9bl4O"
      },
      "execution_count": null,
      "outputs": []
    },
    {
      "cell_type": "markdown",
      "source": [
        "##Build X and y"
      ],
      "metadata": {
        "id": "YFazeLdmbm2s"
      }
    },
    {
      "cell_type": "code",
      "source": [
        "data = 0   # 0=dataset1 - 1=dataset2 - 2=dataset3\n",
        "c = 3\n",
        "# 0=change of base station - 1=time before change - 2=time without SigStrength - 3=latency - 4=latency without SigStrength -\n",
        "# 5=Loss with regression - 6=Loss with classification - 7=Loss regression with enlarged peaks\n",
        "\n",
        "Xtrain,ytrain,Xtest,ytest = dataset(pcapfile[data],csvfile[data],col[c], c)"
      ],
      "metadata": {
        "id": "dpZzRlNfVV48"
      },
      "execution_count": null,
      "outputs": []
    },
    {
      "cell_type": "markdown",
      "source": [
        "##Stat"
      ],
      "metadata": {
        "id": "v_JaWCEyRT0t"
      }
    },
    {
      "cell_type": "code",
      "source": [
        "rsrp=[]\n",
        "rsrq=[]\n",
        "cc=[]\n",
        "nc=[]\n",
        "speed=[]\n",
        "rx=[]\n",
        "tx=[]\n",
        "loss=[]\n",
        "lat=[]\n",
        "for i in range(len(Xtrain)):\n",
        "  rsrp.append(Xtrain[i][0])\n",
        "  rsrq.append(Xtrain[i][1])\n",
        "  cc.append(Xtrain[i][2])\n",
        "  nc.append(Xtrain[i][3])\n",
        "  speed.append(Xtrain[i][4])\n",
        "  rx.append(Xtrain[i][5])\n",
        "  tx.append(Xtrain[i][6])\n",
        "  loss.append(Xtrain[i][7])\n",
        "  lat.append(Xtrain[i][8])"
      ],
      "metadata": {
        "id": "XVwFnO2N-TBQ"
      },
      "execution_count": null,
      "outputs": []
    },
    {
      "cell_type": "code",
      "source": [
        "from scipy.stats import pearsonr, spearmanr\n",
        "f=[rsrp,rsrq,cc,nc,speed,rx,tx,loss,lat]\n",
        "pear=np.zeros((9,9))\n",
        "spear=np.zeros((9,9))\n",
        "for i in range(9):\n",
        "  for j in range(9):\n",
        "    corr, _ = pearsonr(f[i], f[j])\n",
        "    corr2, _ = spearmanr(f[i], f[j])\n",
        "    pear[i,j]=corr\n",
        "    spear[i,j]=corr2\n",
        "spear"
      ],
      "metadata": {
        "colab": {
          "base_uri": "https://localhost:8080/"
        },
        "id": "pi1V1qp5HddM",
        "outputId": "5362996b-f009-4ed4-caba-ff1ef82b24bf"
      },
      "execution_count": null,
      "outputs": [
        {
          "output_type": "execute_result",
          "data": {
            "text/plain": [
              "array([[ 1.00000000e+00,  2.73323231e-01,  3.88847952e-01,\n",
              "         4.78538779e-01,  1.49221296e-01, -4.60545105e-02,\n",
              "        -1.94866101e-02, -3.50767243e-02, -2.21520003e-01],\n",
              "       [ 2.73323231e-01,  1.00000000e+00,  3.58574354e-02,\n",
              "         1.37937427e-02,  1.35792350e-01, -6.09105272e-02,\n",
              "         2.13566582e-02, -7.05053450e-02,  5.04282499e-02],\n",
              "       [ 3.88847952e-01,  3.58574354e-02,  1.00000000e+00,\n",
              "         8.36151105e-01,  1.35418288e-01, -3.76052053e-03,\n",
              "         5.20035790e-02, -2.78660870e-02, -2.67516411e-01],\n",
              "       [ 4.78538779e-01,  1.37937427e-02,  8.36151105e-01,\n",
              "         1.00000000e+00,  1.11323976e-01, -2.28130191e-03,\n",
              "         1.86131903e-02, -1.62767391e-04, -2.31855673e-01],\n",
              "       [ 1.49221296e-01,  1.35792350e-01,  1.35418288e-01,\n",
              "         1.11323976e-01,  1.00000000e+00, -6.44559938e-02,\n",
              "        -3.58948280e-02,  5.95245050e-02,  6.01319527e-02],\n",
              "       [-4.60545105e-02, -6.09105272e-02, -3.76052053e-03,\n",
              "        -2.28130191e-03, -6.44559938e-02,  1.00000000e+00,\n",
              "         6.62863477e-02, -2.05438541e-02, -9.56379774e-02],\n",
              "       [-1.94866101e-02,  2.13566582e-02,  5.20035790e-02,\n",
              "         1.86131903e-02, -3.58948280e-02,  6.62863477e-02,\n",
              "         1.00000000e+00, -1.05846579e-02,  7.24402369e-02],\n",
              "       [-3.50767243e-02, -7.05053450e-02, -2.78660870e-02,\n",
              "        -1.62767391e-04,  5.95245050e-02, -2.05438541e-02,\n",
              "        -1.05846579e-02,  1.00000000e+00,  3.30115522e-02],\n",
              "       [-2.21520003e-01,  5.04282499e-02, -2.67516411e-01,\n",
              "        -2.31855673e-01,  6.01319527e-02, -9.56379774e-02,\n",
              "         7.24402369e-02,  3.30115522e-02,  1.00000000e+00]])"
            ]
          },
          "metadata": {},
          "execution_count": 31
        }
      ]
    },
    {
      "cell_type": "markdown",
      "source": [
        "##Train"
      ],
      "metadata": {
        "id": "mm-jDKmRcFiu"
      }
    },
    {
      "cell_type": "code",
      "source": [
        "alpha = [1e-2,1e-3,1e-4,1e-5,1e-6]\n",
        "layer = 5\n",
        "error = 2     # 1: F1score - 2: MAE - 3: NZ MAE - 60: MAE 60 - 30: MAE 30\n",
        "solv = 'lbfgs'\n",
        "model = 0\n",
        "\n",
        "for i in range(len(alpha)):\n",
        "  err = cv_time(Xtrain, ytrain, solv, alpha[i], layer, error, model)\n",
        "\n",
        "  print(err)"
      ],
      "metadata": {
        "id": "a39IPUl5xLZn",
        "colab": {
          "base_uri": "https://localhost:8080/",
          "height": 232
        },
        "outputId": "47f7a732-d59f-4827-8521-12e8c26e9388"
      },
      "execution_count": null,
      "outputs": [
        {
          "output_type": "error",
          "ename": "NameError",
          "evalue": "ignored",
          "traceback": [
            "\u001b[0;31m---------------------------------------------------------------------------\u001b[0m",
            "\u001b[0;31mNameError\u001b[0m                                 Traceback (most recent call last)",
            "\u001b[0;32m<ipython-input-15-ced156658a39>\u001b[0m in \u001b[0;36m<module>\u001b[0;34m\u001b[0m\n\u001b[1;32m      6\u001b[0m \u001b[0;34m\u001b[0m\u001b[0m\n\u001b[1;32m      7\u001b[0m \u001b[0;32mfor\u001b[0m \u001b[0mi\u001b[0m \u001b[0;32min\u001b[0m \u001b[0mrange\u001b[0m\u001b[0;34m(\u001b[0m\u001b[0mlen\u001b[0m\u001b[0;34m(\u001b[0m\u001b[0malpha\u001b[0m\u001b[0;34m)\u001b[0m\u001b[0;34m)\u001b[0m\u001b[0;34m:\u001b[0m\u001b[0;34m\u001b[0m\u001b[0;34m\u001b[0m\u001b[0m\n\u001b[0;32m----> 8\u001b[0;31m   \u001b[0merr\u001b[0m \u001b[0;34m=\u001b[0m \u001b[0mcv_time\u001b[0m\u001b[0;34m(\u001b[0m\u001b[0mXtrain\u001b[0m\u001b[0;34m,\u001b[0m \u001b[0mytrain\u001b[0m\u001b[0;34m,\u001b[0m \u001b[0msolv\u001b[0m\u001b[0;34m,\u001b[0m \u001b[0malpha\u001b[0m\u001b[0;34m[\u001b[0m\u001b[0mi\u001b[0m\u001b[0;34m]\u001b[0m\u001b[0;34m,\u001b[0m \u001b[0mlayer\u001b[0m\u001b[0;34m,\u001b[0m \u001b[0merror\u001b[0m\u001b[0;34m,\u001b[0m \u001b[0mmodel\u001b[0m\u001b[0;34m)\u001b[0m\u001b[0;34m\u001b[0m\u001b[0;34m\u001b[0m\u001b[0m\n\u001b[0m\u001b[1;32m      9\u001b[0m \u001b[0;34m\u001b[0m\u001b[0m\n\u001b[1;32m     10\u001b[0m   \u001b[0mprint\u001b[0m\u001b[0;34m(\u001b[0m\u001b[0merr\u001b[0m\u001b[0;34m)\u001b[0m\u001b[0;34m\u001b[0m\u001b[0;34m\u001b[0m\u001b[0m\n",
            "\u001b[0;31mNameError\u001b[0m: name 'cv_time' is not defined"
          ]
        }
      ]
    },
    {
      "cell_type": "markdown",
      "source": [
        "##Test"
      ],
      "metadata": {
        "id": "NxPiVC80cJCq"
      }
    },
    {
      "cell_type": "code",
      "source": [
        "model = 0     # =0 for regression and =1 for classification\n",
        "time = 0      # =1 if we predict the time before the change of base station, =0 otherwise\n",
        "error = 2     # 1: F1score - 2: MAE - 3: NZ MAE - 60: MAE 60 - 30: MAE 30\n",
        "\n",
        "alpha=1e-2\n",
        "layer=6\n",
        "\n",
        "t,ypred,err = test(Xtrain,ytrain,Xtest,ytest,alpha,layer,solv,model,time,error)\n",
        "\n",
        "err"
      ],
      "metadata": {
        "id": "gLiROkADqMpv",
        "colab": {
          "base_uri": "https://localhost:8080/"
        },
        "outputId": "6ca86e06-c3d5-4a98-fe29-64c53680f90c"
      },
      "execution_count": null,
      "outputs": [
        {
          "output_type": "execute_result",
          "data": {
            "text/plain": [
              "1.839305337057441"
            ]
          },
          "metadata": {},
          "execution_count": 25
        }
      ]
    },
    {
      "cell_type": "code",
      "source": [
        "plt.plot(t,ypred)\n",
        "plt.plot(t,ytest)"
      ],
      "metadata": {
        "colab": {
          "base_uri": "https://localhost:8080/",
          "height": 282
        },
        "id": "ex5jJ552Get5",
        "outputId": "9064d20a-6e3f-4eb9-c6c7-c97f2482a070"
      },
      "execution_count": null,
      "outputs": [
        {
          "output_type": "execute_result",
          "data": {
            "text/plain": [
              "[<matplotlib.lines.Line2D at 0x7fb9409635e0>]"
            ]
          },
          "metadata": {},
          "execution_count": 26
        },
        {
          "output_type": "display_data",
          "data": {
            "text/plain": [
              "<Figure size 432x288 with 1 Axes>"
            ],
            "image/png": "[encoded data removed]"
          },
          "metadata": {
            "needs_background": "light"
          }
        }
      ]
    }
  ]
}
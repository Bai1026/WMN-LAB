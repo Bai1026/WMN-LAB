{
 "cells": [
  {
   "cell_type": "markdown",
   "metadata": {},
   "source": [
    "# Federated Learning of a Recurrent Neural Network"
   ]
  },
  {
   "cell_type": "markdown",
   "metadata": {},
   "source": [
    "## 1. Step: Dependencies!"
   ]
  },
  {
   "cell_type": "code",
   "execution_count": 2,
   "metadata": {},
   "outputs": [],
   "source": [
    "from __future__ import unicode_literals, print_function, division\n",
    "from torch.utils.data import Dataset\n",
    "\n",
    "import torch\n",
    "from io import open\n",
    "import glob\n",
    "import os\n",
    "import numpy as np\n",
    "import unicodedata\n",
    "import string\n",
    "import random\n",
    "import torch.nn as nn\n",
    "import time\n",
    "import math\n",
    "import pandas as pd\n",
    "import random\n",
    "from tqdm import tqdm\n",
    "\n",
    "import syft as sy\n",
    "# from syft.frameworks.torch.fl import utils\n",
    "# from syft.workers import WebsocketClientWorker\n",
    "import matplotlib.pyplot as plt\n",
    "import matplotlib.ticker as ticker"
   ]
  },
  {
   "cell_type": "code",
   "execution_count": 3,
   "metadata": {},
   "outputs": [],
   "source": [
    "# Arguments for the program\n",
    "class Arguments():\n",
    "    def __init__(self):\n",
    "        self.batch_size = 1\n",
    "        self.learning_rate = 0.005\n",
    "        self.epochs = 10000\n",
    "        self.federate_after_n_batches =15000\n",
    "        self.seed = 1\n",
    "        self.print_every = 200\n",
    "        self.plot_every = 100\n",
    "        self.use_cuda = True\n",
    "        self.time_seq = 20\n",
    "    \n",
    "args = Arguments()\n",
    "features = ['LTE_HO', 'MN_HO', 'eNB_to_ENDC', 'gNB_Rel', 'gNB_HO', 'RLF', 'SCG_RLF',\n",
    "        'num_of_neis', 'RSRP', 'RSRQ', 'RSRP1', 'RSRQ1','nr-RSRP', 'nr-RSRQ', 'nr-RSRP1', 'nr-RSRQ1']\n",
    "target = ['LTE_HO', 'MN_HO']\n"
   ]
  },
  {
   "cell_type": "markdown",
   "metadata": {},
   "source": [
    "## 2. Step: Data pre-processing"
   ]
  },
  {
   "cell_type": "code",
   "execution_count": 4,
   "metadata": {},
   "outputs": [],
   "source": [
    "def ts_array_create(dirname, dir_list, time_seq):\n",
    "    columns = ['RSRP', 'RSRQ', 'RSRP1', 'RSRQ1', 'RSRP2', 'RSRQ2',\n",
    "                'nr-RSRP', 'nr-RSRQ', 'nr-RSRP1', 'nr-RSRQ1', 'nr-RSRP2', 'nr-RSRQ2']\n",
    "        \n",
    "    \n",
    "    split_time = []\n",
    "    \n",
    "    for i, f in enumerate(tqdm(dir_list)):\n",
    "\n",
    "        f = os.path.join(dirname, f)\n",
    "        df = pd.read_csv(f)\n",
    "        \n",
    "        # preprocess data with ffill method\n",
    "        del df['Timestamp'], df['lat'], df['long'], df['gpsspeed']\n",
    "        # df[columns] = df[columns].replace(0, np.nan)\n",
    "        # df[columns] = df[columns].fillna(method='ffill')\n",
    "        # df.dropna(inplace=True)\n",
    "        # df.replace(np.nan,0,inplace=True); df.replace('-',0,inplace=True)\n",
    "        \n",
    "        X = df[features]\n",
    "        Y = df[target]\n",
    "\n",
    "        Xt_list = []\n",
    "\n",
    "        for j in range(time_seq):\n",
    "            X_t = X.shift(periods=-j)\n",
    "            Xt_list.append(X_t)\n",
    "\n",
    "        X_ts = np.array(Xt_list); X_ts = np.transpose(X_ts, (1,0,2)); X_ts = X_ts[:-(time_seq),:,:]\n",
    "        \n",
    "        Y = Y.to_numpy()\n",
    "        Y = [1 if sum(y) > 0 else 0 for y in Y]\n",
    "        \n",
    "        YY = []\n",
    "        \n",
    "        for j in range(time_seq, len(Y)):\n",
    "            count = 0\n",
    "            for k in range(j, len(Y)):\n",
    "                count += 1\n",
    "                if Y[k] != 0:\n",
    "                    break\n",
    "            YY.append(count)\n",
    "            \n",
    "        YY = np.array(YY)    \n",
    "\n",
    "        split_time.append(len(X_ts))\n",
    "\n",
    "        if i == 0:\n",
    "            X_final = X_ts\n",
    "            Y_final = YY\n",
    "        else:\n",
    "            X_final = np.concatenate((X_final,X_ts), axis=0)\n",
    "            Y_final = np.concatenate((Y_final,YY), axis=0)\n",
    "\n",
    "        \n",
    "    split_time = [(sum(split_time[:i]), sum(split_time[:i])+x) for i, x in enumerate(split_time)]\n",
    "\n",
    "    return  X_final, Y_final, split_time # forecast HO"
   ]
  },
  {
   "cell_type": "code",
   "execution_count": 5,
   "metadata": {},
   "outputs": [
    {
     "name": "stderr",
     "output_type": "stream",
     "text": [
      "100%|██████████| 169/169 [00:02<00:00, 83.43it/s]"
     ]
    },
    {
     "name": "stdout",
     "output_type": "stream",
     "text": [
      "(45383, 20, 16)\n",
      "(45383,)\n"
     ]
    },
    {
     "name": "stderr",
     "output_type": "stream",
     "text": [
      "\n"
     ]
    }
   ],
   "source": [
    "dirname = \"/home/wmnlab/Documents/sheng-ru/HO-Prediction/data/single\"\n",
    "# dirname = \"/home/wmnlab/Documents/sheng-ru/data/single0.5\"\n",
    "dir_list = os.listdir(dirname)\n",
    "dir_list = [f for f in dir_list if ( f.endswith('.csv') and (not 'sm' in f) ) ] # Take out cell phone data\n",
    "\n",
    "X, Y, split_time = ts_array_create(dirname, dir_list, args.time_seq)\n",
    "print(X.shape)\n",
    "print(Y.shape)"
   ]
  },
  {
   "cell_type": "markdown",
   "metadata": {},
   "source": [
    "### Data unbalancing and batch randomization:\n",
    "You may have noticed that our dataset is strongly unbalanced and contains a lot of data points in the \"russian.txt\" dataset. However, we would still like to take a random batch during our training procedure at every iteration. In order to prevent our neural network from classifying a data point as always belonging to the \"Russian\" category, we first pick a random category and then select a data point from that category. To do that, we construct a dictionary mapping a certain category to the corresponding starting index in the list of data points (e.g.: lines). Afterwards, we will take a datapoint starting from the starting_index identified"
   ]
  },
  {
   "cell_type": "markdown",
   "metadata": {},
   "source": [
    "Let's define a few functions to take a random index from from the dataset, so that we'll be able to select a random data point and a random category."
   ]
  },
  {
   "cell_type": "code",
   "execution_count": 6,
   "metadata": {},
   "outputs": [],
   "source": [
    "def randomChoice(l):\n",
    "    rand_value = random.randint(0, len(l) - 1)\n",
    "    return l[rand_value], rand_value\n",
    "\n",
    "\n",
    "# def randomTrainingIndex():\n",
    "#     category, rand_cat_index = randomChoice(all_categories) #cat = category, it's not a random animal\n",
    "#     #rand_line_index is a relative index for a data point within the random category rand_cat_index\n",
    "#     line, rand_line_index = randomChoice(category_lines[category])\n",
    "#     category_start_index = categories_start_index[category]\n",
    "#     absolute_index = category_start_index + rand_line_index\n",
    "#     return(absolute_index)"
   ]
  },
  {
   "cell_type": "markdown",
   "metadata": {},
   "source": [
    "## 3. Step: Model - Recurrent Neural Network\n",
    "Hey, I must admit that was indeed a lot of data preprocessing and transformation, but it was well worth it! \n",
    "We have defined almost all the function we'll be needing during the training procedure and our data is ready\n",
    "to be fed into the neural network, which we're creating now:"
   ]
  },
  {
   "cell_type": "code",
   "execution_count": 7,
   "metadata": {},
   "outputs": [
    {
     "name": "stdout",
     "output_type": "stream",
     "text": [
      "RNN(\n",
      "  (i2h): Linear(in_features=148, out_features=128, bias=True)\n",
      "  (i2o): Linear(in_features=148, out_features=1, bias=True)\n",
      "  (softmax): LogSoftmax(dim=1)\n",
      ")\n"
     ]
    }
   ],
   "source": [
    "#Two hidden layers, based on simple linear layers\n",
    "\n",
    "class RNN(nn.Module):\n",
    "    def __init__(self, input_size, hidden_size, output_size):\n",
    "        super(RNN, self).__init__()\n",
    "        self.hidden_size = hidden_size\n",
    "        self.i2h = nn.Linear(input_size + hidden_size, hidden_size)\n",
    "        self.i2o = nn.Linear(input_size + hidden_size, output_size)\n",
    "        self.softmax = nn.LogSoftmax(dim=1)\n",
    "\n",
    "    def forward(self, input, hidden):\n",
    "        combined = torch.cat((input, hidden), 1)\n",
    "        hidden = self.i2h(combined)\n",
    "        output = self.i2o(combined)\n",
    "        output = self.softmax(output)\n",
    "        return output, hidden\n",
    "\n",
    "    def initHidden(self):\n",
    "        return torch.zeros(1, self.hidden_size)\n",
    "\n",
    "#Let's instantiate the neural network already:\n",
    "n_hidden = 128\n",
    "#Instantiate RNN\n",
    "\n",
    "device = torch.device(\"cuda\" if args.use_cuda else \"cpu\")\n",
    "model = RNN(args.time_seq, n_hidden, 1).to(device)\n",
    "#The final softmax layer will produce a probability for each one of our 18 categories\n",
    "print(model)    \n",
    "    "
   ]
  },
  {
   "cell_type": "code",
   "execution_count": 10,
   "metadata": {},
   "outputs": [
    {
     "ename": "AttributeError",
     "evalue": "module 'syft' has no attribute 'virtualWorker'",
     "output_type": "error",
     "traceback": [
      "\u001b[0;31m---------------------------------------------------------------------------\u001b[0m",
      "\u001b[0;31mAttributeError\u001b[0m                            Traceback (most recent call last)",
      "\u001b[1;32m/home/wmnlab/Documents/sheng-ru/YU/FL/Federated Recurrent Neural Network.ipynb Cell 13\u001b[0m line \u001b[0;36m3\n\u001b[1;32m      <a href='vscode-notebook-cell://ssh-remote%2B140.112.20.183/home/wmnlab/Documents/sheng-ru/YU/FL/Federated%20Recurrent%20Neural%20Network.ipynb#X15sdnNjb2RlLXJlbW90ZQ%3D%3D?line=0'>1</a>\u001b[0m \u001b[39m#Now let's define our workers. You can either use remote workers or virtual workers\u001b[39;00m\n\u001b[1;32m      <a href='vscode-notebook-cell://ssh-remote%2B140.112.20.183/home/wmnlab/Documents/sheng-ru/YU/FL/Federated%20Recurrent%20Neural%20Network.ipynb#X15sdnNjb2RlLXJlbW90ZQ%3D%3D?line=1'>2</a>\u001b[0m \u001b[39m# hook = sy.TorchHook(torch)  # <-- NEW: hook PyTorch ie add extra functionalities to support Federated Learning\u001b[39;00m\n\u001b[0;32m----> <a href='vscode-notebook-cell://ssh-remote%2B140.112.20.183/home/wmnlab/Documents/sheng-ru/YU/FL/Federated%20Recurrent%20Neural%20Network.ipynb#X15sdnNjb2RlLXJlbW90ZQ%3D%3D?line=2'>3</a>\u001b[0m alice \u001b[39m=\u001b[39m sy\u001b[39m.\u001b[39mvirtualWorker(\u001b[39mid\u001b[39m\u001b[39m=\u001b[39m\u001b[39m\"\u001b[39m\u001b[39malice\u001b[39m\u001b[39m\"\u001b[39m)  \n\u001b[1;32m      <a href='vscode-notebook-cell://ssh-remote%2B140.112.20.183/home/wmnlab/Documents/sheng-ru/YU/FL/Federated%20Recurrent%20Neural%20Network.ipynb#X15sdnNjb2RlLXJlbW90ZQ%3D%3D?line=3'>4</a>\u001b[0m bob \u001b[39m=\u001b[39m sy\u001b[39m.\u001b[39mvirtualWorker(\u001b[39mid\u001b[39m\u001b[39m=\u001b[39m\u001b[39m\"\u001b[39m\u001b[39mbob\u001b[39m\u001b[39m\"\u001b[39m)  \n\u001b[1;32m      <a href='vscode-notebook-cell://ssh-remote%2B140.112.20.183/home/wmnlab/Documents/sheng-ru/YU/FL/Federated%20Recurrent%20Neural%20Network.ipynb#X15sdnNjb2RlLXJlbW90ZQ%3D%3D?line=4'>5</a>\u001b[0m \u001b[39m#charlie = sy.VirtualWorker(hook, id=\"charlie\") \u001b[39;00m\n\u001b[1;32m      <a href='vscode-notebook-cell://ssh-remote%2B140.112.20.183/home/wmnlab/Documents/sheng-ru/YU/FL/Federated%20Recurrent%20Neural%20Network.ipynb#X15sdnNjb2RlLXJlbW90ZQ%3D%3D?line=5'>6</a>\u001b[0m \n\u001b[1;32m      <a href='vscode-notebook-cell://ssh-remote%2B140.112.20.183/home/wmnlab/Documents/sheng-ru/YU/FL/Federated%20Recurrent%20Neural%20Network.ipynb#X15sdnNjb2RlLXJlbW90ZQ%3D%3D?line=6'>7</a>\u001b[0m \u001b[39m#workers_virtual = [alice, bob]\u001b[39;00m\n\u001b[0;32m   (...)\u001b[0m\n\u001b[1;32m     <a href='vscode-notebook-cell://ssh-remote%2B140.112.20.183/home/wmnlab/Documents/sheng-ru/YU/FL/Federated%20Recurrent%20Neural%20Network.ipynb#X15sdnNjb2RlLXJlbW90ZQ%3D%3D?line=11'>12</a>\u001b[0m \u001b[39m#kwargs_websocket_bob = {\"host\": \"ip_bob\", \"hook\": hook}\u001b[39;00m\n\u001b[1;32m     <a href='vscode-notebook-cell://ssh-remote%2B140.112.20.183/home/wmnlab/Documents/sheng-ru/YU/FL/Federated%20Recurrent%20Neural%20Network.ipynb#X15sdnNjb2RlLXJlbW90ZQ%3D%3D?line=12'>13</a>\u001b[0m \u001b[39m#bob = WebsocketClientWorker(id=\"bob\", port=8778, **kwargs_websocket_bob)\u001b[39;00m\n",
      "File \u001b[0;32m~/anaconda3/envs/yu/lib/python3.11/site-packages/syft/__init__.py:114\u001b[0m, in \u001b[0;36mmodule_property.<locals>.new_getattr\u001b[0;34m(name)\u001b[0m\n\u001b[1;32m    112\u001b[0m     \u001b[39mreturn\u001b[39;00m func()\n\u001b[1;32m    113\u001b[0m \u001b[39melse\u001b[39;00m:\n\u001b[0;32m--> 114\u001b[0m     \u001b[39mreturn\u001b[39;00m old_getattr(name)\n",
      "File \u001b[0;32m~/anaconda3/envs/yu/lib/python3.11/site-packages/syft/__init__.py:114\u001b[0m, in \u001b[0;36mmodule_property.<locals>.new_getattr\u001b[0;34m(name)\u001b[0m\n\u001b[1;32m    112\u001b[0m     \u001b[39mreturn\u001b[39;00m func()\n\u001b[1;32m    113\u001b[0m \u001b[39melse\u001b[39;00m:\n\u001b[0;32m--> 114\u001b[0m     \u001b[39mreturn\u001b[39;00m old_getattr(name)\n",
      "    \u001b[0;31m[... skipping similar frames: module_property.<locals>.new_getattr at line 114 (1 times)]\u001b[0m\n",
      "File \u001b[0;32m~/anaconda3/envs/yu/lib/python3.11/site-packages/syft/__init__.py:114\u001b[0m, in \u001b[0;36mmodule_property.<locals>.new_getattr\u001b[0;34m(name)\u001b[0m\n\u001b[1;32m    112\u001b[0m     \u001b[39mreturn\u001b[39;00m func()\n\u001b[1;32m    113\u001b[0m \u001b[39melse\u001b[39;00m:\n\u001b[0;32m--> 114\u001b[0m     \u001b[39mreturn\u001b[39;00m old_getattr(name)\n",
      "File \u001b[0;32m~/anaconda3/envs/yu/lib/python3.11/site-packages/syft/__init__.py:106\u001b[0m, in \u001b[0;36mmodule_property.<locals>.base_getattr\u001b[0;34m(name)\u001b[0m\n\u001b[1;32m    105\u001b[0m \u001b[39mdef\u001b[39;00m \u001b[39mbase_getattr\u001b[39m(name: \u001b[39mstr\u001b[39m) \u001b[39m-\u001b[39m\u001b[39m>\u001b[39m \u001b[39mNone\u001b[39;00m:\n\u001b[0;32m--> 106\u001b[0m     \u001b[39mraise\u001b[39;00m \u001b[39mAttributeError\u001b[39;00m(\u001b[39mf\u001b[39m\u001b[39m\"\u001b[39m\u001b[39mmodule \u001b[39m\u001b[39m{\u001b[39;00mmodule\u001b[39m.\u001b[39m\u001b[39m__name__\u001b[39m\u001b[39m!r}\u001b[39;00m\u001b[39m has no attribute \u001b[39m\u001b[39m{\u001b[39;00mname\u001b[39m!r}\u001b[39;00m\u001b[39m\"\u001b[39m)\n",
      "\u001b[0;31mAttributeError\u001b[0m: module 'syft' has no attribute 'virtualWorker'"
     ]
    }
   ],
   "source": [
    "#Now let's define our workers. You can either use remote workers or virtual workers\n",
    "# hook = sy.TorchHook(torch)  # <-- NEW: hook PyTorch ie add extra functionalities to support Federated Learning\n",
    "alice = sy.virtualWorker(id=\"alice\")  \n",
    "bob = sy.virtualWorker(id=\"bob\")  \n",
    "#charlie = sy.VirtualWorker(hook, id=\"charlie\") \n",
    "\n",
    "#workers_virtual = [alice, bob]\n",
    "\n",
    "#If you have your workers operating remotely, like on Raspberry PIs\n",
    "# kwargs_websocket_alice = {\"host\": \"192.168.2.106\", \"hook\": hook}\n",
    "# alice = WebsocketClientWorker(id=\"alice\", port=8777, **kwargs_websocket_alice)\n",
    "#kwargs_websocket_bob = {\"host\": \"ip_bob\", \"hook\": hook}\n",
    "#bob = WebsocketClientWorker(id=\"bob\", port=8778, **kwargs_websocket_bob)\n",
    "workers_virtual = [alice, bob]"
   ]
  },
  {
   "cell_type": "code",
   "execution_count": 18,
   "metadata": {},
   "outputs": [],
   "source": [
    "#array_lines_proper_dimension = our data points(X)\n",
    "#categories_numpy = our labels (Y)\n",
    "dataset = Dataset(X, Y)\n",
    "\n",
    "#assign the data points and the corresponding categories to workers.\n",
    "federated_train_loader = sy.FederatedDataLoader(\n",
    "            dataset.federate(workers_virtual),\n",
    "            batch_size=args.batch_size)  \n"
   ]
  },
  {
   "cell_type": "markdown",
   "metadata": {},
   "source": [
    "## 4. Step - Model Training!\n",
    "\n",
    "\n",
    "It's now time to train our Recurrent Neural Network based on the processed data. To do that, we need to define a few more functions"
   ]
  },
  {
   "cell_type": "code",
   "execution_count": 19,
   "metadata": {},
   "outputs": [],
   "source": [
    "def categoryFromOutput(output):\n",
    "    top_n, top_i = output.topk(1)\n",
    "    category_i = top_i[0].item()\n",
    "    return all_categories[category_i], category_i\n",
    "\n",
    "def timeSince(since):\n",
    "    now = time.time()\n",
    "    s = now - since\n",
    "    m = math.floor(s / 60)\n",
    "    s -= m * 60\n",
    "    return '%dm %ds' % (m, s)\n",
    "\n",
    "\n",
    "def fed_avg_every_n_iters(model_pointers, iter, federate_after_n_batches):\n",
    "        models_local = {}\n",
    "        \n",
    "        if(iter % args.federate_after_n_batches == 0):\n",
    "            for worker_name, model_pointer in model_pointers.items():\n",
    "#                #need to assign the model to the worker it belongs to.\n",
    "                models_local[worker_name] = model_pointer.copy().get()\n",
    "            model_avg = utils.federated_avg(models_local)\n",
    "           \n",
    "            for worker in workers_virtual:\n",
    "                model_copied_avg = model_avg.copy()\n",
    "                model_ptr = model_copied_avg.send(worker) \n",
    "                model_pointers[worker.id] = model_ptr\n",
    "                \n",
    "        return(model_pointers)     \n",
    "\n",
    "def fw_bw_pass_model(model_pointers, line_single, category_single):\n",
    "    #get the right initialized model\n",
    "    model_ptr = model_pointers[line_single.location.id]   \n",
    "    line_reshaped = line_single.reshape(max_line_size, 1, len(all_letters))\n",
    "    line_reshaped, category_single = line_reshaped.to(device), category_single.to(device)\n",
    "    #Firstly, initialize hidden layer\n",
    "    hidden_init = model_ptr.initHidden() \n",
    "    #And now zero grad the model\n",
    "    model_ptr.zero_grad()\n",
    "    hidden_ptr = hidden_init.send(line_single.location)\n",
    "    amount_lines_non_zero = len(torch.nonzero(line_reshaped.copy().get()))\n",
    "    #now need to perform forward passes\n",
    "    for i in range(amount_lines_non_zero): \n",
    "        output, hidden_ptr = model_ptr(line_reshaped[i], hidden_ptr) \n",
    "    criterion = nn.NLLLoss()   \n",
    "    loss = criterion(output, category_single) \n",
    "    loss.backward()\n",
    "    \n",
    "    model_got = model_ptr.get() \n",
    "    \n",
    "    #Perform model weights' updates    \n",
    "    for param in model_got.parameters():\n",
    "        param.data.add_(-args.learning_rate, param.grad.data)\n",
    "        \n",
    "        \n",
    "    model_sent = model_got.send(line_single.location.id)\n",
    "    model_pointers[line_single.location.id] = model_sent\n",
    "    \n",
    "    return(model_pointers, loss, output)\n",
    "            \n",
    "  \n",
    "    \n",
    "def train_RNN(n_iters, print_every, plot_every, federate_after_n_batches, list_federated_train_loader):\n",
    "    current_loss = 0\n",
    "    all_losses = []    \n",
    "    \n",
    "    model_pointers = {}\n",
    "    \n",
    "    #Send the initialized model to every single worker just before the training procedure starts\n",
    "    for worker in workers_virtual:\n",
    "        model_copied = model.copy()\n",
    "        model_ptr = model_copied.send(worker) \n",
    "        model_pointers[worker.id] = model_ptr\n",
    "\n",
    "    #extract a random element from the list and perform training on it\n",
    "    for iter in range(1, n_iters + 1):        \n",
    "        random_index = randomTrainingIndex()\n",
    "        line_single, category_single = list_federated_train_loader[random_index]\n",
    "        #print(category_single.copy().get())\n",
    "        line_name = names_list[random_index]\n",
    "        model_pointers, loss, output = fw_bw_pass_model(model_pointers, line_single, category_single)\n",
    "        #model_pointers = fed_avg_every_n_iters(model_pointers, iter, args.federate_after_n_batches)\n",
    "        #Update the current loss a\n",
    "        loss_got = loss.get().item() \n",
    "        current_loss += loss_got\n",
    "        \n",
    "        if iter % plot_every == 0:\n",
    "            all_losses.append(current_loss / plot_every)\n",
    "            current_loss = 0\n",
    "             \n",
    "        if(iter % print_every == 0):\n",
    "            output_got = output.get()  #Without copy()\n",
    "            guess, guess_i = categoryFromOutput(output_got)\n",
    "            category = all_categories[category_single.copy().get().item()]\n",
    "            correct = '✓' if guess == category else '✗ (%s)' % category\n",
    "            print('%d %d%% (%s) %.4f %s / %s %s' % (iter, iter / n_iters * 100, timeSince(start), loss_got, line_name, guess, correct))\n",
    "    return(all_losses, model_pointers)"
   ]
  },
  {
   "cell_type": "markdown",
   "metadata": {},
   "source": [
    "In order for the defined randomization process to work, we need to wrap the data points and categories into a list, from that we're going to take a batch at a random index.\n"
   ]
  },
  {
   "cell_type": "code",
   "execution_count": 20,
   "metadata": {},
   "outputs": [
    {
     "name": "stdout",
     "output_type": "stream",
     "text": [
      "Generating list of batches for the workers...\n"
     ]
    }
   ],
   "source": [
    "#This may take a few seconds to complete.\n",
    "print(\"Generating list of batches for the workers...\")\n",
    "list_federated_train_loader = list(federated_train_loader) "
   ]
  },
  {
   "cell_type": "markdown",
   "metadata": {},
   "source": [
    "And finally,let's launch our training"
   ]
  },
  {
   "cell_type": "code",
   "execution_count": 21,
   "metadata": {},
   "outputs": [
    {
     "name": "stdout",
     "output_type": "stream",
     "text": [
      "200 2% (2m 41s) 2.9615 Vavra / Italian ✗ (Czech)\n",
      "400 4% (5m 17s) 2.8854 Goulding / Dutch ✗ (English)\n",
      "600 6% (7m 41s) 2.7429 Giolla / Italian ✗ (Irish)\n",
      "800 8% (9m 55s) 2.7886 Loh / Irish ✗ (Chinese)\n",
      "1000 10% (12m 38s) 2.7706 Kassis / Greek ✗ (Arabic)\n",
      "1200 12% (15m 5s) 2.6043 Attia / Japanese ✗ (Arabic)\n",
      "1400 14% (17m 29s) 2.9495 Hasek / Irish ✗ (German)\n",
      "1600 16% (19m 44s) 2.8492 OwYang / French ✗ (Chinese)\n",
      "1800 18% (22m 16s) 3.5426 Paternoster / Czech ✗ (French)\n",
      "2000 20% (24m 33s) 2.6828 Munro / Irish ✗ (English)\n",
      "2200 22% (26m 57s) 1.7740 Sastre / Russian ✗ (Spanish)\n",
      "2400 24% (29m 15s) 2.5922 Glatter / German ✗ (Czech)\n",
      "2600 26% (31m 39s) 2.3622 Ryan / German ✗ (English)\n",
      "2800 28% (34m 3s) 2.1249 Bayer / German ✓\n",
      "3000 30% (36m 44s) 2.3963 Switzer / English ✗ (German)\n",
      "3200 32% (39m 1s) 2.0385 Sander / English ✗ (German)\n",
      "3400 34% (41m 29s) 2.2575 Greco / Italian ✓\n",
      "3600 36% (43m 56s) 2.4276 Antwerp / Japanese ✗ (Dutch)\n",
      "3800 38% (46m 15s) 3.9401 Jagoda / Japanese ✗ (Polish)\n",
      "4000 40% (48m 31s) 1.5673 Sniegowski / Russian ✗ (Polish)\n",
      "4200 42% (50m 53s) 1.6100 Noguerra / Russian ✗ (Spanish)\n",
      "4400 44% (53m 14s) 2.6038 Maille / French ✗ (Irish)\n",
      "4600 46% (55m 52s) 2.1656 Kreskas / Arabic ✗ (Greek)\n",
      "4800 48% (58m 18s) 2.5540 Biganska / Japanese ✗ (Czech)\n",
      "5000 50% (60m 42s) 1.7683 Raneri / Italian ✓\n",
      "5200 52% (62m 55s) 1.9636 Daher / Arabic ✓\n",
      "5400 54% (65m 31s) 2.0645 Nascimbene / German ✗ (Italian)\n",
      "5600 56% (67m 52s) 1.4537 Adamidis / Greek ✓\n",
      "5800 57% (70m 13s) 2.1810 Houston / Japanese ✗ (English)\n",
      "6000 60% (72m 31s) 1.8177 Reid / Vietnamese ✗ (Scottish)\n",
      "6200 62% (74m 45s) 1.5453 Alves / Portuguese ✗ (Spanish)\n",
      "6400 64% (77m 12s) 1.6742 Shadid / Arabic ✓\n",
      "6600 66% (79m 35s) 1.7736 Kringos / Greek ✓\n",
      "6800 68% (82m 9s) 1.3323 Medeiros / Portuguese ✓\n",
      "7000 70% (84m 31s) 2.5444 Sowka / Spanish ✗ (Polish)\n",
      "7200 72% (86m 58s) 1.1558 Miller / Scottish ✓\n",
      "7400 74% (89m 32s) 1.5310 Drechsler / German ✓\n",
      "7600 76% (91m 51s) 1.7707 Slaski / Scottish ✗ (Polish)\n",
      "7800 78% (94m 21s) 3.8905 Cap / Chinese ✗ (Czech)\n",
      "8000 80% (96m 45s) 2.3369 Kiefer / Japanese ✗ (German)\n",
      "8200 82% (99m 5s) 2.2376 Moto / Korean ✗ (Japanese)\n",
      "8400 84% (101m 29s) 2.2516 Brzezicki / Italian ✗ (Polish)\n",
      "8600 86% (104m 14s) 1.8153 Huber / Arabic ✗ (German)\n",
      "8800 88% (106m 29s) 1.3442 Lu / Korean ✗ (Chinese)\n",
      "9000 90% (108m 28s) 2.3854 Oorschot / Polish ✗ (Dutch)\n",
      "9200 92% (110m 57s) 2.5888 Gillard / French ✗ (English)\n",
      "9400 94% (113m 31s) 0.1574 Paraskevopoulos / Greek ✓\n",
      "9600 96% (116m 0s) 2.0317 Sauvageon / English ✗ (French)\n",
      "9800 98% (118m 26s) 3.0610 Bambach / English ✗ (German)\n",
      "10000 100% (120m 44s) 0.7867 Sokolsky / Polish ✓\n"
     ]
    }
   ],
   "source": [
    "\n",
    "start = time.time()\n",
    "all_losses, model_pointers = train_RNN(args.epochs, args.print_every, args.plot_every, args.federate_after_n_batches, list_federated_train_loader)"
   ]
  },
  {
   "cell_type": "code",
   "execution_count": 22,
   "metadata": {},
   "outputs": [
    {
     "data": {
      "text/plain": [
       "[<matplotlib.lines.Line2D at 0x14a9f477c18>]"
      ]
     },
     "execution_count": 22,
     "metadata": {},
     "output_type": "execute_result"
    },
    {
     "data": {
      "image/png": "[encoded data removed]",
      "text/plain": [
       "<Figure size 432x288 with 1 Axes>"
      ]
     },
     "metadata": {
      "needs_background": "light"
     },
     "output_type": "display_data"
    }
   ],
   "source": [
    "#Let's plot the loss we got during the training procedure\n",
    "plt.figure()\n",
    "plt.ylabel(\"Loss\")\n",
    "plt.xlabel('Epochs (100s)')\n",
    "plt.plot(all_losses)"
   ]
  },
  {
   "cell_type": "markdown",
   "metadata": {},
   "source": [
    "## 5. Step - Predict!\n",
    "Great! We have successfully created our two models for bob and alice in parallel using federated learning! I experimented with federated averaging of the two models, but it turned out that for a batch size of 1, as in the present case, the model loss was diverging. Let's try using our models for prediction now, shall we? This is the final reward for our endeavours."
   ]
  },
  {
   "cell_type": "code",
   "execution_count": 23,
   "metadata": {},
   "outputs": [
    {
     "name": "stdout",
     "output_type": "stream",
     "text": [
      "(-1.66) French\n",
      "(-1.77) Dutch\n",
      "(-1.99) English\n"
     ]
    }
   ],
   "source": [
    "input_line = \"Daniele\"\n",
    "model_remote = model_pointers[\"alice\"]\n",
    "line_tensor = lineToTensor(input_line)\n",
    "line_tensor\n",
    "line_remote = line_tensor.send(alice)\n",
    "hidden = model_remote.initHidden()\n",
    "hidden_remote = hidden.copy().send(alice)\n",
    "hidden_remote\n",
    "with torch.no_grad():\n",
    "    for i in range(line_remote.shape[0]):\n",
    "        output, hidden_remote = model_remote(line_remote[i], hidden_remote)\n",
    "        \n",
    "n_predictions = 3\n",
    "topv, topi = output.copy().get().topk(n_predictions, 1, True)\n",
    "topv\n",
    "\n",
    "predictions = []\n",
    "\n",
    "\n",
    "for i in range(n_predictions):\n",
    "            value = topv[0][i].item()\n",
    "            category_index = topi[0][i].item()\n",
    "            print('(%.2f) %s' % (value, all_categories[category_index]))\n",
    "            predictions.append([value, all_categories[category_index]])\n",
    "\n"
   ]
  },
  {
   "cell_type": "code",
   "execution_count": 24,
   "metadata": {},
   "outputs": [],
   "source": [
    "def predict(model, input_line, worker, n_predictions=3):\n",
    "    model = model.copy().get()\n",
    "    print('\\n> %s' % input_line)\n",
    "    model_remote = model.send(worker)\n",
    "    line_tensor = lineToTensor(input_line)\n",
    "    line_remote = line_tensor.copy().send(worker)\n",
    "    #line_tensor = lineToTensor(input_line)\n",
    "    #output = evaluate(model, line_remote)\n",
    "    # Get top N categories\n",
    "    hidden = model_remote.initHidden()\n",
    "    hidden_remote = hidden.copy().send(worker)\n",
    "        \n",
    "    with torch.no_grad():\n",
    "        for i in range(line_remote.shape[0]):\n",
    "            output, hidden_remote = model_remote(line_remote[i], hidden_remote)\n",
    "        \n",
    "    topv, topi = output.copy().get().topk(n_predictions, 1, True)\n",
    "    predictions = []\n",
    "\n",
    "    for i in range(n_predictions):\n",
    "        value = topv[0][i].item()\n",
    "        category_index = topi[0][i].item()\n",
    "        print('(%.2f) %s' % (value, all_categories[category_index]))\n",
    "        predictions.append([value, all_categories[category_index]])\n",
    "\n"
   ]
  },
  {
   "cell_type": "markdown",
   "metadata": {},
   "source": [
    "Notice how the different models learned may perform different predictions, based on the data that was shown to them."
   ]
  },
  {
   "cell_type": "code",
   "execution_count": 25,
   "metadata": {},
   "outputs": [
    {
     "name": "stdout",
     "output_type": "stream",
     "text": [
      "\n",
      "> Qing\n",
      "(-0.65) Chinese\n",
      "(-1.36) Korean\n",
      "(-3.31) Arabic\n"
     ]
    }
   ],
   "source": [
    "predict(model_pointers[\"alice\"], \"Qing\", alice) \n",
    "\n"
   ]
  },
  {
   "cell_type": "markdown",
   "metadata": {},
   "source": [
    "You may try experimenting with this example right now, for example by increasing or decreasing the amount of epochs and seeing how the two models perform. You may also try to de-commenting the part about federating averaging and check the new resulting loss function. There can be lots of other optimizations we may think of as well!"
   ]
  },
  {
   "cell_type": "markdown",
   "metadata": {},
   "source": [
    "# Congratulations!!! - Time to Join the Community!\n",
    "\n",
    "Congratulations on completing this notebook tutorial! If you enjoyed this and would like to join the movement toward privacy preserving, decentralized ownership of AI and the AI supply chain (data), you can do so in the following ways!\n",
    "\n",
    "### Star PySyft on GitHub\n",
    "\n",
    "The easiest way to help our community is just by starring the Repos! This helps raise awareness of the cool tools we're building.\n",
    "\n",
    "- [Star PySyft](https://github.com/OpenMined/PySyft)\n",
    "\n",
    "### Join our Slack!\n",
    "\n",
    "The best way to keep up to date on the latest advancements is to join our community! You can do so by filling out the form at [http://slack.openmined.org](http://slack.openmined.org)\n",
    "\n",
    "### Join a Code Project!\n",
    "\n",
    "The best way to contribute to our community is to become a code contributor! At any time you can go to PySyft GitHub Issues page and filter for \"Projects\". This will show you all the top level Tickets giving an overview of what projects you can join! If you don't want to join a project, but you would like to do a bit of coding, you can also look for more \"one off\" mini-projects by searching for GitHub issues marked \"good first issue\".\n",
    "\n",
    "- [PySyft Projects](https://github.com/OpenMined/PySyft/issues?q=is%3Aopen+is%3Aissue+label%3AProject)\n",
    "- [Good First Issue Tickets](https://github.com/OpenMined/PySyft/issues?q=is%3Aopen+is%3Aissue+label%3A%22good+first+issue%22)\n",
    "\n",
    "### Donate\n",
    "\n",
    "If you don't have time to contribute to our codebase, but would still like to lend support, you can also become a Backer on our Open Collective. All donations go toward our web hosting and other community expenses such as hackathons and meetups!\n",
    "\n",
    "[OpenMined's Open Collective Page](https://opencollective.com/openmined)"
   ]
  },
  {
   "cell_type": "code",
   "execution_count": null,
   "metadata": {},
   "outputs": [],
   "source": []
  }
 ],
 "metadata": {
  "kernelspec": {
   "display_name": "yu",
   "language": "python",
   "name": "python3"
  },
  "language_info": {
   "codemirror_mode": {
    "name": "ipython",
    "version": 3
   },
   "file_extension": ".py",
   "mimetype": "text/x-python",
   "name": "python",
   "nbconvert_exporter": "python",
   "pygments_lexer": "ipython3",
   "version": "3.11.5"
  },
  "vscode": {
   "interpreter": {
    "hash": "3494dcfcd52c55b25a7848f36e57424f1d17b33d28bff9414162c9bcf7577d60"
   }
  }
 },
 "nbformat": 4,
 "nbformat_minor": 2
}

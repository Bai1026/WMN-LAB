{
 "cells": [
  {
   "cell_type": "code",
   "execution_count": 3,
   "metadata": {
    "id": "Crd2rvUda7B_"
   },
   "outputs": [],
   "source": [
    "import numpy as np # linear algebra\n",
    "import pandas as pd # data processing, CSV file I/O (e.g. pd.read_csv)\n",
    "import os\n",
    "import matplotlib.pyplot as plt\n",
    "import xgboost as xgb\n",
    "from tqdm.notebook import tqdm\n",
    "\n",
    "# from xgboost import plot_importance, plot_tree\n",
    "\n",
    "# from sklearn.model_selection import TimeSeriesSplit, GridSearchCV\n",
    "from sklearn.metrics import auc, precision_recall_curve\n",
    "from sklearn.metrics import roc_curve, auc\n",
    "from sklearn.metrics import f1_score\n",
    "# from sklearn.metrics import mean_squared_error, mean_absolute_error\n",
    "\n",
    "import torch\n",
    "import random\n",
    "plt.style.use('fivethirtyeight')"
   ]
  },
  {
   "cell_type": "code",
   "execution_count": 4,
   "metadata": {},
   "outputs": [
    {
     "name": "stdout",
     "output_type": "stream",
     "text": [
      "# ex.\r\n",
      "# Now in use: ccc\r\n",
      "# Start time: 03/31 12:00\r\n",
      "# Estimated end time(option): 03/31 18:00\r\n",
      "\r\n",
      "Now in use:YU\r\n",
      "Start time: 12:42 5/13\r\n",
      "Estimated end time(option):15:00 5/13 \r\n",
      "\r\n",
      "Next one who want to use: \r\n",
      "Estimated start time:\r\n",
      "Estimated end time(option):\r\n",
      "\r\n"
     ]
    }
   ],
   "source": [
    "!cat ~/user_state"
   ]
  },
  {
   "cell_type": "code",
   "execution_count": 5,
   "metadata": {
    "colab": {
     "base_uri": "https://localhost:8080/"
    },
    "id": "ElQmwPsew9Bi",
    "outputId": "86570616-ff9c-401d-e7c3-7299702aa969"
   },
   "outputs": [
    {
     "name": "stdout",
     "output_type": "stream",
     "text": [
      "Sat May 13 14:52:36 2023       \r\n",
      "+---------------------------------------------------------------------------------------+\r\n",
      "| NVIDIA-SMI 530.30.02              Driver Version: 530.30.02    CUDA Version: 12.1     |\r\n",
      "|-----------------------------------------+----------------------+----------------------+\r\n",
      "| GPU  Name                  Persistence-M| Bus-Id        Disp.A | Volatile Uncorr. ECC |\r\n",
      "| Fan  Temp  Perf            Pwr:Usage/Cap|         Memory-Usage | GPU-Util  Compute M. |\r\n",
      "|                                         |                      |               MIG M. |\r\n",
      "|=========================================+======================+======================|\r\n",
      "|   0  NVIDIA GeForce RTX 4090         Off| 00000000:01:00.0 Off |                  Off |\r\n",
      "|  0%   46C    P8               38W / 480W|      6MiB / 24564MiB |      0%      Default |\r\n",
      "|                                         |                      |                  N/A |\r\n",
      "+-----------------------------------------+----------------------+----------------------+\r\n",
      "                                                                                         \r\n",
      "+---------------------------------------------------------------------------------------+\r\n",
      "| Processes:                                                                            |\r\n",
      "|  GPU   GI   CI        PID   Type   Process name                            GPU Memory |\r\n",
      "|        ID   ID                                                             Usage      |\r\n",
      "|=======================================================================================|\r\n",
      "|    0   N/A  N/A   2331254      G   /usr/lib/xorg/Xorg                            4MiB |\r\n",
      "+---------------------------------------------------------------------------------------+\r\n"
     ]
    }
   ],
   "source": [
    "!nvidia-smi"
   ]
  },
  {
   "cell_type": "code",
   "execution_count": 6,
   "metadata": {
    "id": "PqFfaTJ6oNw3"
   },
   "outputs": [],
   "source": [
    "# Time sequence length and prediction time length\n",
    "#seed = 55688\n",
    "#time_seq = 15\n",
    "#predict_t = 5\n",
    "#valid_ratio = 0.2\n",
    "#task = 'classification'"
   ]
  },
  {
   "cell_type": "code",
   "execution_count": 7,
   "metadata": {},
   "outputs": [],
   "source": [
    "# Time sequence length and prediction time length\n",
    "seed = 55688\n",
    "time_seq = 30\n",
    "predict_t = 10\n",
    "valid_ratio = 0.2\n",
    "task = 'classification'"
   ]
  },
  {
   "cell_type": "code",
   "execution_count": 8,
   "metadata": {
    "colab": {
     "base_uri": "https://localhost:8080/",
     "height": 133,
     "referenced_widgets": [
      "a8fda64c546e4b348c749f051194faba",
      "5636d2bb0cd449b48d116d3298d58bee",
      "e8d4d6ecd06a4e5db72690a07218e55b",
      "96b79b33bdcb44be81a3c4d7ac67003e",
      "f50b59266ff241b79ff92690b3639788",
      "ebc772528cf84271998836470aeba36c",
      "678f5fea727e457a8c870f25ff6a05cf",
      "b1d6f2469ad440fc83453f57a549a91e",
      "5bbf1cb462d049ad88d8499bab6cc95b",
      "4d1d9bc4b7cf4c7fa24ead7c520b89ec",
      "a62edc7a241244888ba8a015c9bda9e2",
      "c2a1a91fd6634e5297125ba0837fee03",
      "b5375aa7864748c89a420c181e6c91af",
      "7bcca89101404ec5934817decb555743",
      "0b790cbe3fbb4473a6a2032f3289978c",
      "e7534fee1e8c4b099c1922e2360d5459",
      "40d6481fc76a434684edc487e01598d7",
      "3f3f3722cda848e4bd9d91dab9d5a039",
      "b0bc8f855a78471f8dce833c0fc5c784",
      "73cf02420329491992b68f57829cdbc2",
      "da193c2493f94ffa83f9515c593dec7b",
      "e52a8d7a89ef4e69a51ec0beba114f88"
     ]
    },
    "id": "20Oas-k6bdVU",
    "outputId": "24686519-a87e-4754-8c74-b376967a7109"
   },
   "outputs": [
    {
     "name": "stdout",
     "output_type": "stream",
     "text": [
      "GPU 0: NVIDIA GeForce RTX 4090\n",
      "Loading training data...\n"
     ]
    },
    {
     "data": {
      "application/vnd.jupyter.widget-view+json": {
       "model_id": "b57353edba684df9811bcd957c1511e6",
       "version_major": 2,
       "version_minor": 0
      },
      "text/plain": [
       "  0%|          | 0/116 [00:00<?, ?it/s]"
      ]
     },
     "metadata": {},
     "output_type": "display_data"
    },
    {
     "name": "stdout",
     "output_type": "stream",
     "text": [
      "Loading testing data...\n"
     ]
    },
    {
     "data": {
      "application/vnd.jupyter.widget-view+json": {
       "model_id": "00775bbee4f54905bbdc7945c65c86c3",
       "version_major": 2,
       "version_minor": 0
      },
      "text/plain": [
       "  0%|          | 0/29 [00:00<?, ?it/s]"
      ]
     },
     "metadata": {},
     "output_type": "display_data"
    }
   ],
   "source": [
    "# Setup seed\n",
    "random.seed(seed)\n",
    "\n",
    "# Get GPU\n",
    "device_count = torch.cuda.device_count()\n",
    "num_of_gpus = device_count\n",
    "\n",
    "for i in range(device_count):\n",
    "    print(\"GPU {}: {}\".format(i, torch.cuda.get_device_name(i)))\n",
    "    gpu_id = i\n",
    "\n",
    "# Save best model to \n",
    "save_path = \"/home/wmnlab/Documents/sheng-ru/chang/model\"\n",
    "\n",
    "# Define DataSet\n",
    "# dirname = \"/home/wmnlab/Documents/sheng-ru/data/single\"\n",
    "dirname = \"/home/wmnlab/Documents/sheng-ru/data/single0.5\"\n",
    "dir_list = os.listdir(dirname)\n",
    "dir_list = [f for f in dir_list if ( f.endswith('.csv') and (not 'sm' in f) ) ]\n",
    "\n",
    "train_dates = ['03-26', '04-01']\n",
    "test_dates = ['04-10']\n",
    "\n",
    "def days_in_file(file, dates):\n",
    "    \n",
    "    for date in dates:\n",
    "        if date in file: return True \n",
    "    return False\n",
    "\n",
    "def train_valid_split(L, valid_size=0.2):\n",
    "    \n",
    "    length = len(L)\n",
    "    v_num = int(length*valid_size)\n",
    "    v_files = random.sample(L, v_num)\n",
    "    t_files = list(set(L) - set(v_files))\n",
    "    \n",
    "    return t_files, v_files\n",
    "    \n",
    "# train_dir_list = [f for f in dir_list if ( f.endswith('.csv') and ('All' in f) and days_in_file(f, train_dates) )]\n",
    "# test_dir_list = [f for f in dir_list if ( f.endswith('.csv') and ('All' in f) and days_in_file(f, test_dates) )]\n",
    "\n",
    "train_dir_list, test_dir_list = train_valid_split(dir_list, valid_ratio)\n",
    "\n",
    "\n",
    "# features = ['LTE_HO', 'MN_HO', 'eNB_to_ENDC', 'gNB_Rel', 'gNB_HO', 'RLF', 'SCG_RLF',\n",
    "#         'num_of_neis', 'RSRP', 'RSRQ', 'RSRP1', 'RSRQ1', 'RSRP2', 'RSRQ2',\n",
    "#         'nr-RSRP', 'nr-RSRQ', 'nr-RSRP1', 'nr-RSRQ1', 'nr-RSRP2', 'nr-RSRQ2' ]\n",
    "features = ['LTE_HO', 'MN_HO', 'eNB_to_ENDC', 'gNB_Rel', 'gNB_HO', 'RLF', 'SCG_RLF',\n",
    "        'num_of_neis', 'RSRP', 'RSRQ', 'RSRP1', 'RSRQ1','nr-RSRP', 'nr-RSRQ', 'nr-RSRP1', 'nr-RSRQ1']\n",
    "# features = ['LTE_HO', 'MN_HO', 'eNB_to_ENDC', 'gNB_Rel', 'gNB_HO', 'RLF', 'SCG_RLF',\n",
    "#         'num_of_neis', 'RSRP', 'RSRQ', 'RSRP1', 'RSRQ1', 'RSRP2', 'RSRQ2']\n",
    "\n",
    "num_of_features = len(features)\n",
    "\n",
    "target = ['LTE_HO', 'MN_HO'] # For eNB HO.\n",
    "# target = ['eNB_to_ENDC'] # Setup gNB\n",
    "# target = ['gNB_Rel', 'gNB_HO'] # For gNB HO.\n",
    "# target = ['RLF'] # For RLF\n",
    "# target = ['SCG_RLF'] # For scg failure\n",
    "# target = ['dl-loss'] # For DL loss\n",
    "# target = ['ul-loss'] # For UL loss\n",
    "\n",
    "def ts_array_create(dirname, dir_list, time_seq):\n",
    "    columns = ['RSRP', 'RSRQ', 'RSRP1', 'RSRQ1', 'RSRP2', 'RSRQ2',\n",
    "               'nr-RSRP', 'nr-RSRQ', 'nr-RSRP1', 'nr-RSRQ1', 'nr-RSRP2', 'nr-RSRQ2']\n",
    "    def reamin_HO_time(y_train):\n",
    "        def f(L):    \n",
    "            for i, e in enumerate(L):\n",
    "                if e: return i+1\n",
    "            return 0\n",
    "\n",
    "        out = []\n",
    "        for a2 in y_train:\n",
    "            a1_out = []\n",
    "            for a1 in a2:\n",
    "                a1_out.append(a1.any())\n",
    "      \n",
    "            out.append(f(a1_out))\n",
    "        return out\n",
    "    \n",
    "    def HO(y_train):\n",
    "        out = []\n",
    "        for a2 in y_train:\n",
    "            if sum(a2.reshape(-1)) == 0: ho = 0\n",
    "            elif sum(a2.reshape(-1)) > 0: ho = 1\n",
    "            out.append(ho)\n",
    "        return out\n",
    "\n",
    "    split_time = []\n",
    "    for i, f in enumerate(tqdm(dir_list)):\n",
    "    \n",
    "        f = os.path.join(dirname, f)\n",
    "        df = pd.read_csv(f)\n",
    "\n",
    "        # preprocess data with ffill method\n",
    "        del df['Timestamp'], df['lat'], df['long'], df['gpsspeed']\n",
    "        df[columns] = df[columns].replace(0,np.nan)\n",
    "        df[columns] = df[columns].fillna(method='ffill')\n",
    "        # df.dropna(inplace=True)\n",
    "        \n",
    "        df.replace(np.nan,0); df.replace('-',0)\n",
    "        \n",
    "        X = df[features]\n",
    "        Y = df[target]\n",
    "\n",
    "        Xt_list = []\n",
    "        Yt_list = []\n",
    "\n",
    "        for j in range(time_seq):\n",
    "            X_t = X.shift(periods=-j)\n",
    "            Xt_list.append(X_t)\n",
    "    \n",
    "        for j in range(time_seq,time_seq+predict_t):\n",
    "            Y_t = Y.shift(periods=-(j))\n",
    "            Yt_list.append(Y_t)\n",
    "\n",
    "        # YY = Y.shift(periods=-(0))\n",
    "\n",
    "        X_ts = np.array(Xt_list); X_ts = np.transpose(X_ts, (1,0,2)); X_ts = X_ts[:-(time_seq+predict_t-1),:,:];\n",
    "        Y_ts = np.array(Yt_list); Y_ts = np.transpose(Y_ts, (1,0,2)); Y_ts = Y_ts[:-(time_seq+predict_t-1),:,:];\n",
    "        split_time.append(len(X_ts))\n",
    "\n",
    "        if i == 0:\n",
    "            X_final = X_ts\n",
    "            Y_final = Y_ts\n",
    "        else:\n",
    "            X_final = np.concatenate((X_final,X_ts), axis=0)\n",
    "            Y_final = np.concatenate((Y_final,Y_ts), axis=0)\n",
    "\n",
    "    split_time = [(sum(split_time[:i]), sum(split_time[:i])+x) for i, x in enumerate(split_time)]\n",
    "\n",
    "    if task == 'classification':\n",
    "        return X_final, HO(Y_final), split_time # classification\n",
    "    elif task == 'forecast':\n",
    "        return X_final, reamin_HO_time(Y_final), split_time # forecast HO\n",
    "#         return X_final, np.sum(Y_final, axis=1), split_time # forecase loss\n",
    "\n",
    "print('Loading training data...')\n",
    "X_train, y_train, split_time_train = ts_array_create(dirname, train_dir_list, time_seq)\n",
    "X_train_2d = X_train.reshape(-1, time_seq*num_of_features)\n",
    "\n",
    "print('Loading testing data...')\n",
    "X_test, y_test, split_time_test = ts_array_create(dirname, test_dir_list, time_seq)\n",
    "X_test_2d = X_test.reshape(-1, time_seq*num_of_features)\n",
    "\n",
    "train_data = xgb.DMatrix(X_train_2d, label=y_train)\n",
    "test_data = xgb.DMatrix(X_test_2d, label=y_test)"
   ]
  },
  {
   "cell_type": "code",
   "execution_count": 9,
   "metadata": {},
   "outputs": [
    {
     "data": {
      "text/plain": [
       "(62094, 480)"
      ]
     },
     "execution_count": 9,
     "metadata": {},
     "output_type": "execute_result"
    }
   ],
   "source": [
    "X_train_2d.shape"
   ]
  },
  {
   "cell_type": "code",
   "execution_count": 10,
   "metadata": {
    "id": "1tK2m5iv2nJ4"
   },
   "outputs": [],
   "source": [
    "# train_dir_list, test_dir_list"
   ]
  },
  {
   "cell_type": "code",
   "execution_count": 11,
   "metadata": {
    "id": "iWYmCLBkAAZA"
   },
   "outputs": [],
   "source": [
    "# Parameters\n",
    "if task == 'forecast':\n",
    "    params = {\"objective\": \"reg:squarederror\", \"tree_method\": \"gpu_hist\", 'max_depth': 20, 'eval_metric': ['rmse', 'mae'], 'seed': seed}\n",
    "elif task == 'classification':\n",
    "    params = {'objective': 'binary:logistic', \"tree_method\": \"gpu_hist\", 'max_depth': 15, 'eta': 0.1,\n",
    "              'seed': seed,'eval_metric': ['error','logloss','aucpr']}\n",
    "n = 600"
   ]
  },
  {
   "cell_type": "code",
   "execution_count": 12,
   "metadata": {
    "colab": {
     "base_uri": "https://localhost:8080/"
    },
    "id": "ifdrrI3W3LQh",
    "outputId": "b9101f06-8a85-42c3-d3f2-123fe0630636"
   },
   "outputs": [],
   "source": [
    "evals_result = {}\n",
    "model = xgb.train(\n",
    "    params=params,\n",
    "    dtrain=train_data,\n",
    "    num_boost_round=n,\n",
    "    evals=[(train_data, 'train'), (test_data, 'valid')],\n",
    "    evals_result=evals_result,\n",
    "    early_stopping_rounds=5,\n",
    "    verbose_eval=False\n",
    ")\n",
    "\n"
   ]
  },
  {
   "cell_type": "code",
   "execution_count": 13,
   "metadata": {},
   "outputs": [
    {
     "data": {
      "image/png": "[encoded data removed]",
      "text/plain": [
       "<Figure size 640x480 with 1 Axes>"
      ]
     },
     "metadata": {},
     "output_type": "display_data"
    },
    {
     "data": {
      "image/png": "[encoded data removed]",
      "text/plain": [
       "<Figure size 640x480 with 1 Axes>"
      ]
     },
     "metadata": {},
     "output_type": "display_data"
    },
    {
     "data": {
      "image/png": "[encoded data removed]",
      "text/plain": [
       "<Figure size 640x480 with 1 Axes>"
      ]
     },
     "metadata": {},
     "output_type": "display_data"
    }
   ],
   "source": [
    "# plot evaluation metrics\n",
    "epochs = len(evals_result['train']['error'])\n",
    "x_axis = range(0, epochs)\n",
    "\n",
    "fig, ax = plt.subplots()\n",
    "ax.plot(x_axis, evals_result['train']['error'], label='Train')\n",
    "ax.plot(x_axis, evals_result['valid']['error'], label='valid')\n",
    "ax.legend()\n",
    "plt.ylabel('Error')\n",
    "plt.title('XGBoost Error')\n",
    "\n",
    "# plot log loss\n",
    "fig, ax = plt.subplots()\n",
    "ax.plot(x_axis, evals_result['train']['logloss'], label='Train')\n",
    "ax.plot(x_axis, evals_result['valid']['logloss'], label='valid')\n",
    "ax.legend()\n",
    "plt.ylabel('Log Loss')\n",
    "plt.title('XGBoost Log Loss')\n",
    "\n",
    "# plot log loss\n",
    "fig, ax = plt.subplots()\n",
    "ax.plot(x_axis, evals_result['train']['aucpr'], label='Train')\n",
    "ax.plot(x_axis, evals_result['valid']['aucpr'], label='valid')\n",
    "ax.legend()\n",
    "plt.ylabel('aucpr')\n",
    "plt.title('XGBoost aucpr')\n",
    "plt.show()"
   ]
  },
  {
   "cell_type": "code",
   "execution_count": 14,
   "metadata": {},
   "outputs": [],
   "source": [
    "preds = model.predict(test_data)"
   ]
  },
  {
   "cell_type": "code",
   "execution_count": 15,
   "metadata": {
    "colab": {
     "base_uri": "https://localhost:8080/",
     "height": 496
    },
    "id": "iG6MFd4MFE6b",
    "outputId": "16455e4a-d236-45bd-8e76-d8c889425148"
   },
   "outputs": [
    {
     "name": "stdout",
     "output_type": "stream",
     "text": [
      "th: 0.2; Acc: 84.33988764044943; precision: 0.68; recall:0.74; f1:0.71\n",
      "th: 0.3; Acc: 85.19535240040858; precision: 0.72; recall:0.68; f1:0.7\n",
      "th: 0.4; Acc: 85.16343207354443; precision: 0.76; recall:0.62; f1:0.68\n",
      "th: 0.5; Acc: 84.88891726251276; precision: 0.78; recall:0.56; f1:0.65\n",
      "th: 0.6; Acc: 84.26966292134831; precision: 0.81; recall:0.5; f1:0.62\n",
      "th: 0.7; Acc: 83.60572012257406; precision: 0.84; recall:0.44; f1:0.58\n",
      "th: 0.8; Acc: 82.62257405515832; precision: 0.88; recall:0.37; f1:0.52\n"
     ]
    },
    {
     "data": {
      "image/png": "[encoded data removed]",
      "text/plain": [
       "<Figure size 640x480 with 1 Axes>"
      ]
     },
     "metadata": {},
     "output_type": "display_data"
    },
    {
     "data": {
      "image/png": "[encoded data removed]",
      "text/plain": [
       "<Figure size 640x480 with 1 Axes>"
      ]
     },
     "metadata": {},
     "output_type": "display_data"
    },
    {
     "name": "stdout",
     "output_type": "stream",
     "text": [
      "ROC Auc is 0.9045675060307642.\n"
     ]
    },
    {
     "data": {
      "image/png": "[encoded data removed]",
      "text/plain": [
       "<Figure size 640x480 with 1 Axes>"
      ]
     },
     "metadata": {},
     "output_type": "display_data"
    }
   ],
   "source": [
    "# plot all data point on a plot\n",
    "ths = [0.2,0.3,0.4,0.5,0.6,0.7,0.8]\n",
    "\n",
    "if task == 'forecast':\n",
    "    rmse = round(np.sqrt(np.mean((preds-y_test)**2)), 2)\n",
    "    plt.title(f'RMSE is {rmse}.')\n",
    "elif task == 'classification':\n",
    "    # PR and AUCPR\n",
    "    precision, recall, thresholds = precision_recall_curve(y_test, preds)\n",
    "    aucpr = auc(recall, precision)\n",
    "    \n",
    "    # ROC & AUC\n",
    "    fpr, tpr, thresholds = roc_curve(y_test, preds)\n",
    "    roc_auc = auc(fpr, tpr)\n",
    "    \n",
    "    # Manually count\n",
    "    for threshold in ths:\n",
    "        TP, FP, TN, FN = 0,0,0,0\n",
    "        anses = np.where(preds<threshold, 0, 1)\n",
    "        for ans, y in zip(anses, y_test):\n",
    "            if ans == y:\n",
    "                if ans == 1: TP += 1\n",
    "                elif ans == 0: TN +=1\n",
    "            elif ans != y:\n",
    "                if ans == 1: FP += 1\n",
    "                elif ans == 0: FN +=1\n",
    "        acc=(TP+TN)/(TP+TN+FP+FN)*100\n",
    "        try:\n",
    "            p, r = round(TP/(TP+FP), 2), round(TP/(TP+FN), 2)\n",
    "            f1 = round(2*(p*r)/(p+r), 2)\n",
    "        except:\n",
    "            p, r, f1 = 'DNF', 'DNF', 'DNF'\n",
    "        s = f'th: {threshold}; Acc: {acc}; precision: {p}; recall:{r}; f1:{f1}'\n",
    "        print(s)\n",
    "    \n",
    "    # 初始化閥值列表和 F1 Score 列表\n",
    "    thresholds = []\n",
    "    f1_scores = []\n",
    "\n",
    "    # 循環遍歷閥值，計算 F1 Score\n",
    "    for threshold in range(5, 101, 5):\n",
    "        threshold /= 100\n",
    "        y_pred_threshold = [1 if pred >= threshold else 0 for pred in preds]\n",
    "        f1_scores.append(f1_score(y_test, y_pred_threshold))\n",
    "        thresholds.append(threshold)\n",
    "\n",
    "    # 繪製閥值與 F1 Score 的關係圖\n",
    "    plt.figure()\n",
    "    plt.plot(thresholds, f1_scores, lw=2, label='F1 Score')\n",
    "    plt.xlabel('Threshold')\n",
    "    plt.ylabel('F1 Score')\n",
    "    plt.title('Threshold-F1 Score Relationship')\n",
    "    plt.legend()\n",
    "    plt.show()\n",
    "    \n",
    "    plt.figure()\n",
    "    plt.plot(recall, precision, lw=2, label='PR Curve (AUCPR = %0.2f)' % aucpr)\n",
    "    plt.xlabel('Recall')\n",
    "    plt.ylabel('Precision')\n",
    "    plt.title('Precision-Recall Curve')\n",
    "    plt.legend()\n",
    "    plt.show()\n",
    "    \n",
    "    print(f'ROC Auc is {roc_auc}.')\n",
    "    plt.figure()\n",
    "    plt.plot(fpr, tpr, color='darkorange', lw=2, label='ROC curve (area = %0.2f)' % roc_auc)\n",
    "    plt.plot([0, 1], [0, 1], color='navy', lw=2, linestyle='--')\n",
    "    plt.xlim([0.0, 1.0])\n",
    "    plt.ylim([0.0, 1.05])\n",
    "    plt.title(f'ROC curve')\n",
    "    plt.xlabel('False Positive Rate')\n",
    "    plt.ylabel('True Positive Rate')\n",
    "    plt.legend(loc=\"lower right\")\n",
    "    plt.show()"
   ]
  },
  {
   "cell_type": "code",
   "execution_count": 16,
   "metadata": {},
   "outputs": [],
   "source": [
    "# 将模型预测错误的样本保存到一个列表中\n",
    "errors = []\n",
    "trues = []\n",
    "for i in range(len(y_test)):\n",
    "    if preds[i] > 0.5 and y_test[i] == 0:\n",
    "        errors.append(X_test[i])\n",
    "        trues.append(0)\n",
    "    elif preds[i] <= 0.5 and y_test[i] == 1:\n",
    "        errors.append(X_test[i])\n",
    "        trues.append(1)\n",
    "# # 保存到文件中\n",
    "# with open(\"error_samples.txt\", \"w\") as f:\n",
    "#     for sample in errors:\n",
    "#         f.write(str(sample) + \"\\n\")\n"
   ]
  },
  {
   "cell_type": "code",
   "execution_count": 17,
   "metadata": {},
   "outputs": [
    {
     "data": {
      "text/plain": [
       "1749"
      ]
     },
     "execution_count": 17,
     "metadata": {},
     "output_type": "execute_result"
    }
   ],
   "source": [
    "trues.count(1)"
   ]
  },
  {
   "cell_type": "code",
   "execution_count": 18,
   "metadata": {},
   "outputs": [
    {
     "data": {
      "text/plain": [
       "1"
      ]
     },
     "execution_count": 18,
     "metadata": {},
     "output_type": "execute_result"
    }
   ],
   "source": [
    "A = [1,2,3]\n",
    "A.index(2)"
   ]
  },
  {
   "cell_type": "code",
   "execution_count": 19,
   "metadata": {
    "colab": {
     "base_uri": "https://localhost:8080/",
     "height": 278
    },
    "id": "9xkk_f1iRe-G",
    "outputId": "49afacff-8055-42f2-8b24-1e3a717f206f"
   },
   "outputs": [
    {
     "data": {
      "text/plain": [
       "<matplotlib.legend.Legend at 0x7f94b262a980>"
      ]
     },
     "execution_count": 19,
     "metadata": {},
     "output_type": "execute_result"
    },
    {
     "data": {
      "image/png": "[encoded data removed]",
      "text/plain": [
       "<Figure size 1400x250 with 8 Axes>"
      ]
     },
     "metadata": {},
     "output_type": "display_data"
    }
   ],
   "source": [
    "# visulized on many sample on validation data\n",
    "\n",
    "sample_value = 8\n",
    "samples = random.sample(split_time_test, sample_value)\n",
    "fig, axs = plt.subplots(1, sample_value, figsize=(14, 2.5))\n",
    "\n",
    "# y_test\n",
    "# preds\n",
    "\n",
    "for i in range(sample_value):\n",
    "    true = [y_test[i] for i in range(samples[i][0], samples[i][1])]\n",
    "    axs[i].plot(true, label='true')\n",
    "    prediciton = [preds[i] for i in range(samples[i][0], samples[i][1])]\n",
    "    axs[i].plot(prediciton, label='pred')\n",
    "\n",
    "plt.legend()"
   ]
  },
  {
   "cell_type": "code",
   "execution_count": 20,
   "metadata": {},
   "outputs": [
    {
     "data": {
      "text/plain": [
       "['2023-04-01_qc03_#02_All.csv',\n",
       " '2023-04-17_qc03_exp3_#03_B3B8.csv',\n",
       " '2023-04-10_qc01_exp3_#01_All.csv',\n",
       " '2023-04-01_qc03_#05_B8.csv',\n",
       " '2023-04-17_qc03_exp4_#02_LTE3.csv',\n",
       " '2023-04-17_qc00_exp1_#02_All.csv',\n",
       " '2023-03-26_qc03_#03_All3.csv',\n",
       " '2023-04-17_qc02_exp4_#01_All2.csv']"
      ]
     },
     "execution_count": 20,
     "metadata": {},
     "output_type": "execute_result"
    }
   ],
   "source": [
    "A = [test_dir_list[split_time_test.index(s)] for s in samples]\n",
    "A"
   ]
  },
  {
   "cell_type": "code",
   "execution_count": 21,
   "metadata": {
    "colab": {
     "base_uri": "https://localhost:8080/",
     "height": 278
    },
    "id": "J7iYV79uxHjd",
    "outputId": "c5b4b1cf-e26e-4679-da90-26a55f9512ba"
   },
   "outputs": [
    {
     "data": {
      "text/plain": [
       "<matplotlib.legend.Legend at 0x7f94b221a1a0>"
      ]
     },
     "execution_count": 21,
     "metadata": {},
     "output_type": "execute_result"
    },
    {
     "data": {
      "image/png": "[encoded data removed]",
      "text/plain": [
       "<Figure size 1400x250 with 4 Axes>"
      ]
     },
     "metadata": {},
     "output_type": "display_data"
    }
   ],
   "source": [
    "# Check whethet it do good on training data\n",
    "sample_value = 4\n",
    "samples = random.sample(split_time_train, sample_value)\n",
    "preds_train = model.predict(train_data)\n",
    "\n",
    "fig, axs = plt.subplots(1, sample_value, figsize=(14, 2.5))\n",
    "\n",
    "for i in range(sample_value):\n",
    "    true = [y_train[i] for i in range(samples[i][0], samples[i][1])]\n",
    "    axs[i].plot(true, label='true')\n",
    "    prediciton = [preds_train[i] for i in range(samples[i][0], samples[i][1])]\n",
    "    axs[i].plot(prediciton, label='pred')\n",
    "\n",
    "plt.legend()"
   ]
  },
  {
   "cell_type": "markdown",
   "metadata": {},
   "source": [
    "# grid search"
   ]
  },
  {
   "cell_type": "markdown",
   "metadata": {},
   "source": [
    "## Search on task"
   ]
  },
  {
   "cell_type": "code",
   "execution_count": 22,
   "metadata": {},
   "outputs": [
    {
     "name": "stdout",
     "output_type": "stream",
     "text": [
      "predict_t 1\n"
     ]
    },
    {
     "data": {
      "application/vnd.jupyter.widget-view+json": {
       "model_id": "2588178f208c4646a9e8c04b02b27d07",
       "version_major": 2,
       "version_minor": 0
      },
      "text/plain": [
       "  0%|          | 0/116 [00:00<?, ?it/s]"
      ]
     },
     "metadata": {},
     "output_type": "display_data"
    },
    {
     "data": {
      "application/vnd.jupyter.widget-view+json": {
       "model_id": "87ae3cb1b3ea45398547c7c28f1d1e2e",
       "version_major": 2,
       "version_minor": 0
      },
      "text/plain": [
       "  0%|          | 0/29 [00:00<?, ?it/s]"
      ]
     },
     "metadata": {},
     "output_type": "display_data"
    },
    {
     "name": "stdout",
     "output_type": "stream",
     "text": [
      "th: 0.2; Acc: 97.48043519755679; precision: 0.62; recall:0.39; f1:0.48\n",
      "th: 0.3; Acc: 97.46134758541707; precision: 0.65; recall:0.31; f1:0.42\n",
      "th: 0.4; Acc: 97.46771012279697; precision: 0.7; recall:0.25; f1:0.37\n",
      "th: 0.5; Acc: 97.41680982375772; precision: 0.71; recall:0.21; f1:0.32\n",
      "th: 0.6; Acc: 97.34045937519883; precision: 0.71; recall:0.17; f1:0.27\n",
      "th: 0.7; Acc: 97.30228415091938; precision: 0.74; recall:0.13; f1:0.22\n",
      "th: 0.8; Acc: 97.27047146401985; precision: 0.81; recall:0.1; f1:0.18\n",
      "PR Curve (AUCPR = 0.49)\n",
      "ROC Auc is 0.9481212853548313.\n",
      "============================================================\n",
      "predict_t 2\n"
     ]
    },
    {
     "data": {
      "application/vnd.jupyter.widget-view+json": {
       "model_id": "41bcaec5c8b74bea9836dd0915b31ac7",
       "version_major": 2,
       "version_minor": 0
      },
      "text/plain": [
       "  0%|          | 0/116 [00:00<?, ?it/s]"
      ]
     },
     "metadata": {},
     "output_type": "display_data"
    },
    {
     "data": {
      "application/vnd.jupyter.widget-view+json": {
       "model_id": "ceccbbbffffd4f168313a6244c00aea3",
       "version_major": 2,
       "version_minor": 0
      },
      "text/plain": [
       "  0%|          | 0/29 [00:00<?, ?it/s]"
      ]
     },
     "metadata": {},
     "output_type": "display_data"
    },
    {
     "name": "stdout",
     "output_type": "stream",
     "text": [
      "th: 0.2; Acc: 95.25752167261601; precision: 0.64; recall:0.42; f1:0.51\n",
      "th: 0.3; Acc: 95.34676185619581; precision: 0.69; recall:0.35; f1:0.46\n",
      "th: 0.4; Acc: 95.34038755736869; precision: 0.73; recall:0.31; f1:0.44\n",
      "th: 0.5; Acc: 95.34038755736869; precision: 0.79; recall:0.27; f1:0.4\n",
      "th: 0.6; Acc: 95.19377868434472; precision: 0.81; recall:0.22; f1:0.35\n",
      "th: 0.7; Acc: 95.07266700662927; precision: 0.84; recall:0.19; f1:0.31\n",
      "th: 0.8; Acc: 94.88781234064253; precision: 0.85; recall:0.14; f1:0.24\n",
      "PR Curve (AUCPR = 0.57)\n",
      "ROC Auc is 0.9303431391924633.\n",
      "============================================================\n",
      "predict_t 3\n"
     ]
    },
    {
     "data": {
      "application/vnd.jupyter.widget-view+json": {
       "model_id": "95c431fd051c43a784b0314fe13a4488",
       "version_major": 2,
       "version_minor": 0
      },
      "text/plain": [
       "  0%|          | 0/116 [00:00<?, ?it/s]"
      ]
     },
     "metadata": {},
     "output_type": "display_data"
    },
    {
     "data": {
      "application/vnd.jupyter.widget-view+json": {
       "model_id": "2f48a3670d7247de8fc346c9811eef2c",
       "version_major": 2,
       "version_minor": 0
      },
      "text/plain": [
       "  0%|          | 0/29 [00:00<?, ?it/s]"
      ]
     },
     "metadata": {},
     "output_type": "display_data"
    },
    {
     "name": "stdout",
     "output_type": "stream",
     "text": [
      "th: 0.2; Acc: 93.38399642378185; precision: 0.65; recall:0.5; f1:0.57\n",
      "th: 0.3; Acc: 93.29459097004917; precision: 0.68; recall:0.41; f1:0.51\n",
      "th: 0.4; Acc: 93.33290759307746; precision: 0.72; recall:0.35; f1:0.47\n",
      "th: 0.5; Acc: 93.23072993166869; precision: 0.76; recall:0.3; f1:0.43\n",
      "th: 0.6; Acc: 93.14771058177406; precision: 0.79; recall:0.26; f1:0.39\n",
      "th: 0.7; Acc: 92.98167188198481; precision: 0.83; recall:0.22; f1:0.35\n",
      "th: 0.8; Acc: 92.75815824765311; precision: 0.85; recall:0.18; f1:0.3\n",
      "PR Curve (AUCPR = 0.60)\n",
      "ROC Auc is 0.919982024694459.\n",
      "============================================================\n",
      "predict_t 4\n"
     ]
    },
    {
     "data": {
      "application/vnd.jupyter.widget-view+json": {
       "model_id": "7a92f532d51643f0b78ed893fbae06c8",
       "version_major": 2,
       "version_minor": 0
      },
      "text/plain": [
       "  0%|          | 0/116 [00:00<?, ?it/s]"
      ]
     },
     "metadata": {},
     "output_type": "display_data"
    },
    {
     "data": {
      "application/vnd.jupyter.widget-view+json": {
       "model_id": "32d6bf6c16b0435e9b65e7d0cdccdd17",
       "version_major": 2,
       "version_minor": 0
      },
      "text/plain": [
       "  0%|          | 0/29 [00:00<?, ?it/s]"
      ]
     },
     "metadata": {},
     "output_type": "display_data"
    },
    {
     "name": "stdout",
     "output_type": "stream",
     "text": [
      "th: 0.2; Acc: 91.33717210492642; precision: 0.63; recall:0.54; f1:0.58\n",
      "th: 0.3; Acc: 91.7658349328215; precision: 0.69; recall:0.48; f1:0.57\n",
      "th: 0.4; Acc: 91.7402431222009; precision: 0.72; recall:0.42; f1:0.53\n",
      "th: 0.5; Acc: 91.77223288547664; precision: 0.77; recall:0.37; f1:0.5\n",
      "th: 0.6; Acc: 91.43314139475368; precision: 0.79; recall:0.31; f1:0.45\n",
      "th: 0.7; Acc: 91.18362124120281; precision: 0.82; recall:0.27; f1:0.41\n",
      "th: 0.8; Acc: 90.7485604606526; precision: 0.85; recall:0.21; f1:0.34\n",
      "PR Curve (AUCPR = 0.64)\n",
      "ROC Auc is 0.913445510427637.\n",
      "============================================================\n",
      "predict_t 5\n"
     ]
    },
    {
     "data": {
      "application/vnd.jupyter.widget-view+json": {
       "model_id": "f2082be6bd2b4d35a84c037cdb0af98d",
       "version_major": 2,
       "version_minor": 0
      },
      "text/plain": [
       "  0%|          | 0/116 [00:00<?, ?it/s]"
      ]
     },
     "metadata": {},
     "output_type": "display_data"
    },
    {
     "data": {
      "application/vnd.jupyter.widget-view+json": {
       "model_id": "50edf38d1352402388eb230ec3d1ced5",
       "version_major": 2,
       "version_minor": 0
      },
      "text/plain": [
       "  0%|          | 0/29 [00:00<?, ?it/s]"
      ]
     },
     "metadata": {},
     "output_type": "display_data"
    },
    {
     "name": "stdout",
     "output_type": "stream",
     "text": [
      "th: 0.2; Acc: 89.57118133452984; precision: 0.63; recall:0.58; f1:0.6\n",
      "th: 0.3; Acc: 90.01346067559773; precision: 0.68; recall:0.51; f1:0.58\n",
      "th: 0.4; Acc: 90.08396897634768; precision: 0.72; recall:0.46; f1:0.56\n",
      "th: 0.5; Acc: 90.07114928530223; precision: 0.76; recall:0.4; f1:0.52\n",
      "th: 0.6; Acc: 89.80193577334786; precision: 0.79; recall:0.35; f1:0.49\n",
      "th: 0.7; Acc: 89.43016473302994; precision: 0.81; recall:0.3; f1:0.44\n",
      "th: 0.8; Acc: 88.96865585539389; precision: 0.83; recall:0.24; f1:0.37\n",
      "PR Curve (AUCPR = 0.66)\n",
      "ROC Auc is 0.9085833556780052.\n",
      "============================================================\n",
      "predict_t 6\n"
     ]
    },
    {
     "data": {
      "application/vnd.jupyter.widget-view+json": {
       "model_id": "6260b204ee874ac69cec73d89f256968",
       "version_major": 2,
       "version_minor": 0
      },
      "text/plain": [
       "  0%|          | 0/116 [00:00<?, ?it/s]"
      ]
     },
     "metadata": {},
     "output_type": "display_data"
    },
    {
     "data": {
      "application/vnd.jupyter.widget-view+json": {
       "model_id": "ac0b2eed5f374b518ca72183439639a0",
       "version_major": 2,
       "version_minor": 0
      },
      "text/plain": [
       "  0%|          | 0/29 [00:00<?, ?it/s]"
      ]
     },
     "metadata": {},
     "output_type": "display_data"
    },
    {
     "name": "stdout",
     "output_type": "stream",
     "text": [
      "th: 0.2; Acc: 88.61417929617261; precision: 0.66; recall:0.62; f1:0.64\n",
      "th: 0.3; Acc: 88.87105060364757; precision: 0.69; recall:0.55; f1:0.61\n",
      "th: 0.4; Acc: 88.8646288209607; precision: 0.72; recall:0.5; f1:0.59\n",
      "th: 0.5; Acc: 88.8389416902132; precision: 0.75; recall:0.46; f1:0.57\n",
      "th: 0.6; Acc: 88.65913177498074; precision: 0.79; recall:0.41; f1:0.54\n",
      "th: 0.7; Acc: 88.20318520421269; precision: 0.8; recall:0.36; f1:0.5\n",
      "th: 0.8; Acc: 87.82430002568714; precision: 0.83; recall:0.31; f1:0.45\n",
      "PR Curve (AUCPR = 0.69)\n",
      "ROC Auc is 0.9075596965267684.\n",
      "============================================================\n",
      "predict_t 7\n"
     ]
    },
    {
     "data": {
      "application/vnd.jupyter.widget-view+json": {
       "model_id": "f26159cc9f214316a1400090e3fb336f",
       "version_major": 2,
       "version_minor": 0
      },
      "text/plain": [
       "  0%|          | 0/116 [00:00<?, ?it/s]"
      ]
     },
     "metadata": {},
     "output_type": "display_data"
    },
    {
     "data": {
      "application/vnd.jupyter.widget-view+json": {
       "model_id": "4abd80b0e16349ac8d3d7c63b20c806f",
       "version_major": 2,
       "version_minor": 0
      },
      "text/plain": [
       "  0%|          | 0/29 [00:00<?, ?it/s]"
      ]
     },
     "metadata": {},
     "output_type": "display_data"
    },
    {
     "name": "stdout",
     "output_type": "stream",
     "text": [
      "th: 0.2; Acc: 87.25471273241973; precision: 0.66; recall:0.64; f1:0.65\n",
      "th: 0.3; Acc: 87.60856977417487; precision: 0.69; recall:0.59; f1:0.64\n",
      "th: 0.4; Acc: 87.79514894164576; precision: 0.73; recall:0.54; f1:0.62\n",
      "th: 0.5; Acc: 87.6536061249437; precision: 0.75; recall:0.5; f1:0.6\n",
      "th: 0.6; Acc: 87.26758026121082; precision: 0.77; recall:0.45; f1:0.57\n",
      "th: 0.7; Acc: 86.9137232194557; precision: 0.79; recall:0.4; f1:0.53\n",
      "th: 0.8; Acc: 86.50196229814064; precision: 0.82; recall:0.34; f1:0.48\n",
      "PR Curve (AUCPR = 0.70)\n",
      "ROC Auc is 0.9013838829091072.\n",
      "============================================================\n",
      "predict_t 8\n"
     ]
    },
    {
     "data": {
      "application/vnd.jupyter.widget-view+json": {
       "model_id": "d08bde6b00404aa2a1ee402333da199e",
       "version_major": 2,
       "version_minor": 0
      },
      "text/plain": [
       "  0%|          | 0/116 [00:00<?, ?it/s]"
      ]
     },
     "metadata": {},
     "output_type": "display_data"
    },
    {
     "data": {
      "application/vnd.jupyter.widget-view+json": {
       "model_id": "1a4723d1fe164434860fa109d30c54ee",
       "version_major": 2,
       "version_minor": 0
      },
      "text/plain": [
       "  0%|          | 0/29 [00:00<?, ?it/s]"
      ]
     },
     "metadata": {},
     "output_type": "display_data"
    },
    {
     "name": "stdout",
     "output_type": "stream",
     "text": [
      "th: 0.2; Acc: 86.50895964934897; precision: 0.68; recall:0.66; f1:0.67\n",
      "th: 0.3; Acc: 87.08263503931933; precision: 0.72; recall:0.62; f1:0.67\n",
      "th: 0.4; Acc: 87.11486399381204; precision: 0.74; recall:0.58; f1:0.65\n",
      "th: 0.5; Acc: 86.90859868505866; precision: 0.77; recall:0.53; f1:0.63\n",
      "th: 0.6; Acc: 86.50251385845044; precision: 0.78; recall:0.48; f1:0.59\n",
      "th: 0.7; Acc: 86.0061879592626; precision: 0.81; recall:0.43; f1:0.56\n",
      "th: 0.8; Acc: 85.43251256929226; precision: 0.83; recall:0.37; f1:0.51\n",
      "PR Curve (AUCPR = 0.72)\n",
      "ROC Auc is 0.9002291166062375.\n",
      "============================================================\n",
      "predict_t 9\n"
     ]
    },
    {
     "data": {
      "application/vnd.jupyter.widget-view+json": {
       "model_id": "e0099f79009044f29f1792bdd5d9f48d",
       "version_major": 2,
       "version_minor": 0
      },
      "text/plain": [
       "  0%|          | 0/116 [00:00<?, ?it/s]"
      ]
     },
     "metadata": {},
     "output_type": "display_data"
    },
    {
     "data": {
      "application/vnd.jupyter.widget-view+json": {
       "model_id": "ebe79a1ed2744ea58f5a69f335285e91",
       "version_major": 2,
       "version_minor": 0
      },
      "text/plain": [
       "  0%|          | 0/29 [00:00<?, ?it/s]"
      ]
     },
     "metadata": {},
     "output_type": "display_data"
    },
    {
     "name": "stdout",
     "output_type": "stream",
     "text": [
      "th: 0.2; Acc: 85.12754278333871; precision: 0.67; recall:0.69; f1:0.68\n",
      "th: 0.3; Acc: 85.83144979011948; precision: 0.71; recall:0.64; f1:0.67\n",
      "th: 0.4; Acc: 86.17371649983855; precision: 0.74; recall:0.6; f1:0.66\n",
      "th: 0.5; Acc: 85.81853406522441; precision: 0.76; recall:0.55; f1:0.64\n",
      "th: 0.6; Acc: 85.50855666774298; precision: 0.79; recall:0.5; f1:0.61\n",
      "th: 0.7; Acc: 84.92734904746528; precision: 0.81; recall:0.44; f1:0.57\n",
      "th: 0.8; Acc: 84.07491120439134; precision: 0.84; recall:0.37; f1:0.51\n",
      "PR Curve (AUCPR = 0.74)\n",
      "ROC Auc is 0.8958820665007405.\n",
      "============================================================\n",
      "predict_t 10\n"
     ]
    },
    {
     "data": {
      "application/vnd.jupyter.widget-view+json": {
       "model_id": "26f05814938c4f60a842fa938adf22d1",
       "version_major": 2,
       "version_minor": 0
      },
      "text/plain": [
       "  0%|          | 0/116 [00:00<?, ?it/s]"
      ]
     },
     "metadata": {},
     "output_type": "display_data"
    },
    {
     "data": {
      "application/vnd.jupyter.widget-view+json": {
       "model_id": "47fddd069fe54a7590d55b2c462fcb3c",
       "version_major": 2,
       "version_minor": 0
      },
      "text/plain": [
       "  0%|          | 0/29 [00:00<?, ?it/s]"
      ]
     },
     "metadata": {},
     "output_type": "display_data"
    },
    {
     "name": "stdout",
     "output_type": "stream",
     "text": [
      "th: 0.2; Acc: 84.71143892339545; precision: 0.69; recall:0.71; f1:0.7\n",
      "th: 0.3; Acc: 85.38431677018633; precision: 0.73; recall:0.66; f1:0.69\n",
      "th: 0.4; Acc: 85.50077639751554; precision: 0.75; recall:0.62; f1:0.68\n",
      "th: 0.5; Acc: 85.31961697722568; precision: 0.77; recall:0.58; f1:0.66\n",
      "th: 0.6; Acc: 85.14492753623189; precision: 0.8; recall:0.53; f1:0.64\n",
      "th: 0.7; Acc: 84.51086956521739; precision: 0.82; recall:0.48; f1:0.61\n",
      "th: 0.8; Acc: 83.55331262939958; precision: 0.84; recall:0.42; f1:0.56\n",
      "PR Curve (AUCPR = 0.76)\n",
      "ROC Auc is 0.8981212934946026.\n",
      "============================================================\n",
      "predict_t 11\n"
     ]
    },
    {
     "data": {
      "application/vnd.jupyter.widget-view+json": {
       "model_id": "c168a30ae4874c63acef2d94f27b3fbe",
       "version_major": 2,
       "version_minor": 0
      },
      "text/plain": [
       "  0%|          | 0/116 [00:00<?, ?it/s]"
      ]
     },
     "metadata": {},
     "output_type": "display_data"
    },
    {
     "data": {
      "application/vnd.jupyter.widget-view+json": {
       "model_id": "cdbe2c5aae574e8a9ffd83f0a257b2c4",
       "version_major": 2,
       "version_minor": 0
      },
      "text/plain": [
       "  0%|          | 0/29 [00:00<?, ?it/s]"
      ]
     },
     "metadata": {},
     "output_type": "display_data"
    },
    {
     "name": "stdout",
     "output_type": "stream",
     "text": [
      "th: 0.2; Acc: 83.07512802229857; precision: 0.67; recall:0.74; f1:0.7\n",
      "th: 0.3; Acc: 83.92428858494847; precision: 0.71; recall:0.68; f1:0.69\n",
      "th: 0.4; Acc: 84.2678420950282; precision: 0.74; recall:0.64; f1:0.69\n",
      "th: 0.5; Acc: 84.31969922862514; precision: 0.77; recall:0.59; f1:0.67\n",
      "th: 0.6; Acc: 84.13819926103585; precision: 0.8; recall:0.55; f1:0.65\n",
      "th: 0.7; Acc: 83.43812795747715; precision: 0.83; recall:0.49; f1:0.62\n",
      "th: 0.8; Acc: 82.25189602644714; precision: 0.85; recall:0.41; f1:0.55\n",
      "PR Curve (AUCPR = 0.76)\n",
      "ROC Auc is 0.8912639956957132.\n",
      "============================================================\n",
      "predict_t 12\n"
     ]
    },
    {
     "data": {
      "application/vnd.jupyter.widget-view+json": {
       "model_id": "90cb91392c9e47ef942e5f7f37d7a244",
       "version_major": 2,
       "version_minor": 0
      },
      "text/plain": [
       "  0%|          | 0/116 [00:00<?, ?it/s]"
      ]
     },
     "metadata": {},
     "output_type": "display_data"
    },
    {
     "data": {
      "application/vnd.jupyter.widget-view+json": {
       "model_id": "aa38dd3c64094c2eb8acce472f94c6e9",
       "version_major": 2,
       "version_minor": 0
      },
      "text/plain": [
       "  0%|          | 0/29 [00:00<?, ?it/s]"
      ]
     },
     "metadata": {},
     "output_type": "display_data"
    },
    {
     "name": "stdout",
     "output_type": "stream",
     "text": [
      "th: 0.2; Acc: 82.72502922457463; precision: 0.68; recall:0.76; f1:0.72\n",
      "th: 0.3; Acc: 83.42641901545656; precision: 0.72; recall:0.7; f1:0.71\n",
      "th: 0.4; Acc: 83.6082608130926; precision: 0.75; recall:0.65; f1:0.7\n",
      "th: 0.5; Acc: 83.55630601376802; precision: 0.77; recall:0.61; f1:0.68\n",
      "th: 0.6; Acc: 83.29653201714508; precision: 0.8; recall:0.56; f1:0.66\n",
      "th: 0.7; Acc: 82.78997272373036; precision: 0.83; recall:0.51; f1:0.63\n",
      "th: 0.8; Acc: 81.63397843875828; precision: 0.84; recall:0.45; f1:0.59\n",
      "PR Curve (AUCPR = 0.77)\n",
      "ROC Auc is 0.8895447305146934.\n",
      "============================================================\n",
      "predict_t 13\n"
     ]
    },
    {
     "data": {
      "application/vnd.jupyter.widget-view+json": {
       "model_id": "dca3de2d8cd44710ad5b4fe469d08f01",
       "version_major": 2,
       "version_minor": 0
      },
      "text/plain": [
       "  0%|          | 0/116 [00:00<?, ?it/s]"
      ]
     },
     "metadata": {},
     "output_type": "display_data"
    },
    {
     "data": {
      "application/vnd.jupyter.widget-view+json": {
       "model_id": "ef4e4e9692a149a98e196b1db3e35a32",
       "version_major": 2,
       "version_minor": 0
      },
      "text/plain": [
       "  0%|          | 0/29 [00:00<?, ?it/s]"
      ]
     },
     "metadata": {},
     "output_type": "display_data"
    },
    {
     "name": "stdout",
     "output_type": "stream",
     "text": [
      "th: 0.2; Acc: 81.91814691912292; precision: 0.68; recall:0.77; f1:0.72\n",
      "th: 0.3; Acc: 82.6924328193116; precision: 0.72; recall:0.72; f1:0.72\n",
      "th: 0.4; Acc: 82.85509792439326; precision: 0.75; recall:0.67; f1:0.71\n",
      "th: 0.5; Acc: 83.04378944628799; precision: 0.78; recall:0.63; f1:0.7\n",
      "th: 0.6; Acc: 82.93968377903572; precision: 0.8; recall:0.59; f1:0.68\n",
      "th: 0.7; Acc: 82.0938252326111; precision: 0.82; recall:0.53; f1:0.64\n",
      "th: 0.8; Acc: 81.0332487474787; precision: 0.85; recall:0.47; f1:0.61\n",
      "PR Curve (AUCPR = 0.79)\n",
      "ROC Auc is 0.8879126707051642.\n",
      "============================================================\n",
      "predict_t 14\n"
     ]
    },
    {
     "data": {
      "application/vnd.jupyter.widget-view+json": {
       "model_id": "5cb8dcbb60e14ce08ebfed849ee1eda1",
       "version_major": 2,
       "version_minor": 0
      },
      "text/plain": [
       "  0%|          | 0/116 [00:00<?, ?it/s]"
      ]
     },
     "metadata": {},
     "output_type": "display_data"
    },
    {
     "data": {
      "application/vnd.jupyter.widget-view+json": {
       "model_id": "ab2fb4c831f04d79a4b505cd3b3db852",
       "version_major": 2,
       "version_minor": 0
      },
      "text/plain": [
       "  0%|          | 0/29 [00:00<?, ?it/s]"
      ]
     },
     "metadata": {},
     "output_type": "display_data"
    },
    {
     "name": "stdout",
     "output_type": "stream",
     "text": [
      "th: 0.2; Acc: 80.95176010430248; precision: 0.68; recall:0.78; f1:0.73\n",
      "th: 0.3; Acc: 82.04693611473273; precision: 0.72; recall:0.74; f1:0.73\n",
      "th: 0.4; Acc: 82.52933507170795; precision: 0.75; recall:0.69; f1:0.72\n",
      "th: 0.5; Acc: 82.45762711864407; precision: 0.78; recall:0.65; f1:0.71\n",
      "th: 0.6; Acc: 82.28161668839635; precision: 0.8; recall:0.61; f1:0.69\n",
      "th: 0.7; Acc: 81.83833116036506; precision: 0.82; recall:0.56; f1:0.67\n",
      "th: 0.8; Acc: 80.71056062581486; precision: 0.85; recall:0.5; f1:0.63\n",
      "PR Curve (AUCPR = 0.79)\n",
      "ROC Auc is 0.8869002280200109.\n",
      "============================================================\n",
      "predict_t 15\n"
     ]
    },
    {
     "data": {
      "application/vnd.jupyter.widget-view+json": {
       "model_id": "6716689d395e4f9a959bd6c755e4a192",
       "version_major": 2,
       "version_minor": 0
      },
      "text/plain": [
       "  0%|          | 0/116 [00:00<?, ?it/s]"
      ]
     },
     "metadata": {},
     "output_type": "display_data"
    },
    {
     "data": {
      "application/vnd.jupyter.widget-view+json": {
       "model_id": "abedde8589df43c080f065fe2cdcf0dc",
       "version_major": 2,
       "version_minor": 0
      },
      "text/plain": [
       "  0%|          | 0/29 [00:00<?, ?it/s]"
      ]
     },
     "metadata": {},
     "output_type": "display_data"
    },
    {
     "name": "stdout",
     "output_type": "stream",
     "text": [
      "th: 0.2; Acc: 80.38011886878714; precision: 0.68; recall:0.8; f1:0.74\n",
      "th: 0.3; Acc: 81.37286917902162; precision: 0.72; recall:0.75; f1:0.73\n",
      "th: 0.4; Acc: 81.85618183005681; precision: 0.75; recall:0.71; f1:0.73\n",
      "th: 0.5; Acc: 81.75821304944158; precision: 0.77; recall:0.67; f1:0.72\n",
      "th: 0.6; Acc: 81.62758800862126; precision: 0.8; recall:0.63; f1:0.7\n",
      "th: 0.7; Acc: 81.13774410554502; precision: 0.82; recall:0.58; f1:0.68\n",
      "th: 0.8; Acc: 79.7988374371367; precision: 0.85; recall:0.5; f1:0.63\n",
      "PR Curve (AUCPR = 0.80)\n",
      "ROC Auc is 0.8843989730048847.\n",
      "============================================================\n",
      "predict_t 16\n"
     ]
    },
    {
     "data": {
      "application/vnd.jupyter.widget-view+json": {
       "model_id": "c6e40ed2439b4d908af0abceead37d72",
       "version_major": 2,
       "version_minor": 0
      },
      "text/plain": [
       "  0%|          | 0/116 [00:00<?, ?it/s]"
      ]
     },
     "metadata": {},
     "output_type": "display_data"
    },
    {
     "data": {
      "application/vnd.jupyter.widget-view+json": {
       "model_id": "18ab97d5b8d04cbb8b326fef66c6e992",
       "version_major": 2,
       "version_minor": 0
      },
      "text/plain": [
       "  0%|          | 0/29 [00:00<?, ?it/s]"
      ]
     },
     "metadata": {},
     "output_type": "display_data"
    },
    {
     "name": "stdout",
     "output_type": "stream",
     "text": [
      "th: 0.2; Acc: 79.55110587619421; precision: 0.68; recall:0.82; f1:0.74\n",
      "th: 0.3; Acc: 80.89255333071588; precision: 0.72; recall:0.77; f1:0.74\n",
      "th: 0.4; Acc: 81.5600052349169; precision: 0.75; recall:0.73; f1:0.74\n",
      "th: 0.5; Acc: 81.5600052349169; precision: 0.78; recall:0.69; f1:0.73\n",
      "th: 0.6; Acc: 81.21973563669677; precision: 0.8; recall:0.64; f1:0.71\n",
      "th: 0.7; Acc: 80.72241853160581; precision: 0.83; recall:0.59; f1:0.69\n",
      "th: 0.8; Acc: 79.48566941499804; precision: 0.85; recall:0.52; f1:0.65\n",
      "PR Curve (AUCPR = 0.81)\n",
      "ROC Auc is 0.8833375664963877.\n",
      "============================================================\n",
      "predict_t 17\n"
     ]
    },
    {
     "data": {
      "application/vnd.jupyter.widget-view+json": {
       "model_id": "3c646f192b514451a1dac59e87df4561",
       "version_major": 2,
       "version_minor": 0
      },
      "text/plain": [
       "  0%|          | 0/116 [00:00<?, ?it/s]"
      ]
     },
     "metadata": {},
     "output_type": "display_data"
    },
    {
     "data": {
      "application/vnd.jupyter.widget-view+json": {
       "model_id": "a93b82047c8a4ab09addf3012d544753",
       "version_major": 2,
       "version_minor": 0
      },
      "text/plain": [
       "  0%|          | 0/29 [00:00<?, ?it/s]"
      ]
     },
     "metadata": {},
     "output_type": "display_data"
    },
    {
     "name": "stdout",
     "output_type": "stream",
     "text": [
      "th: 0.2; Acc: 79.73513407198584; precision: 0.69; recall:0.83; f1:0.75\n",
      "th: 0.3; Acc: 81.0332393627483; precision: 0.73; recall:0.78; f1:0.75\n",
      "th: 0.4; Acc: 81.48560938831704; precision: 0.76; recall:0.74; f1:0.75\n",
      "th: 0.5; Acc: 81.17747328394415; precision: 0.78; recall:0.69; f1:0.73\n",
      "th: 0.6; Acc: 81.01357110076705; precision: 0.81; recall:0.66; f1:0.73\n",
      "th: 0.7; Acc: 80.75788369501082; precision: 0.84; recall:0.61; f1:0.71\n",
      "th: 0.8; Acc: 79.37454926899626; precision: 0.86; recall:0.55; f1:0.67\n",
      "PR Curve (AUCPR = 0.82)\n",
      "ROC Auc is 0.883769441549921.\n",
      "============================================================\n",
      "predict_t 18\n"
     ]
    },
    {
     "data": {
      "application/vnd.jupyter.widget-view+json": {
       "model_id": "f52b83fa9da847bd9969d8a4efaa36e7",
       "version_major": 2,
       "version_minor": 0
      },
      "text/plain": [
       "  0%|          | 0/116 [00:00<?, ?it/s]"
      ]
     },
     "metadata": {},
     "output_type": "display_data"
    },
    {
     "data": {
      "application/vnd.jupyter.widget-view+json": {
       "model_id": "e161043240e440b592e8e13ca5be0465",
       "version_major": 2,
       "version_minor": 0
      },
      "text/plain": [
       "  0%|          | 0/29 [00:00<?, ?it/s]"
      ]
     },
     "metadata": {},
     "output_type": "display_data"
    },
    {
     "name": "stdout",
     "output_type": "stream",
     "text": [
      "th: 0.2; Acc: 79.65712033631108; precision: 0.7; recall:0.84; f1:0.76\n",
      "th: 0.3; Acc: 80.74750394114557; precision: 0.73; recall:0.8; f1:0.76\n",
      "th: 0.4; Acc: 81.4306358381503; precision: 0.76; recall:0.77; f1:0.76\n",
      "th: 0.5; Acc: 81.43720441408303; precision: 0.79; recall:0.73; f1:0.76\n",
      "th: 0.6; Acc: 81.35838150289018; precision: 0.81; recall:0.69; f1:0.75\n",
      "th: 0.7; Acc: 80.5307409353652; precision: 0.83; recall:0.64; f1:0.72\n",
      "th: 0.8; Acc: 79.56516027325276; precision: 0.86; recall:0.58; f1:0.69\n",
      "PR Curve (AUCPR = 0.83)\n",
      "ROC Auc is 0.8856294947575248.\n",
      "============================================================\n",
      "predict_t 19\n"
     ]
    },
    {
     "data": {
      "application/vnd.jupyter.widget-view+json": {
       "model_id": "3238f33ef58548d09eeb94f2fecea79d",
       "version_major": 2,
       "version_minor": 0
      },
      "text/plain": [
       "  0%|          | 0/116 [00:00<?, ?it/s]"
      ]
     },
     "metadata": {},
     "output_type": "display_data"
    },
    {
     "data": {
      "application/vnd.jupyter.widget-view+json": {
       "model_id": "af0cc260634149c19ff8dd269278f48a",
       "version_major": 2,
       "version_minor": 0
      },
      "text/plain": [
       "  0%|          | 0/29 [00:00<?, ?it/s]"
      ]
     },
     "metadata": {},
     "output_type": "display_data"
    },
    {
     "name": "stdout",
     "output_type": "stream",
     "text": [
      "th: 0.2; Acc: 78.74300756827904; precision: 0.7; recall:0.85; f1:0.77\n",
      "th: 0.3; Acc: 80.13820335636723; precision: 0.73; recall:0.81; f1:0.77\n",
      "th: 0.4; Acc: 80.65811122079631; precision: 0.76; recall:0.77; f1:0.76\n",
      "th: 0.5; Acc: 80.70417900625205; precision: 0.78; recall:0.73; f1:0.75\n",
      "th: 0.6; Acc: 80.49358341559724; precision: 0.8; recall:0.69; f1:0.74\n",
      "th: 0.7; Acc: 79.97367555116814; precision: 0.83; recall:0.64; f1:0.72\n",
      "th: 0.8; Acc: 78.7693320171109; precision: 0.85; recall:0.58; f1:0.69\n",
      "PR Curve (AUCPR = 0.84)\n",
      "ROC Auc is 0.8814586815136962.\n",
      "============================================================\n",
      "predict_t 20\n"
     ]
    },
    {
     "data": {
      "application/vnd.jupyter.widget-view+json": {
       "model_id": "9f5fa19de6e1412ea609b10c5d176569",
       "version_major": 2,
       "version_minor": 0
      },
      "text/plain": [
       "  0%|          | 0/116 [00:00<?, ?it/s]"
      ]
     },
     "metadata": {},
     "output_type": "display_data"
    },
    {
     "data": {
      "application/vnd.jupyter.widget-view+json": {
       "model_id": "26d71be201f54ad79fbee5df3514c668",
       "version_major": 2,
       "version_minor": 0
      },
      "text/plain": [
       "  0%|          | 0/29 [00:00<?, ?it/s]"
      ]
     },
     "metadata": {},
     "output_type": "display_data"
    },
    {
     "name": "stdout",
     "output_type": "stream",
     "text": [
      "th: 0.2; Acc: 77.97046024001055; precision: 0.69; recall:0.86; f1:0.77\n",
      "th: 0.3; Acc: 79.57272847158117; precision: 0.73; recall:0.82; f1:0.77\n",
      "th: 0.4; Acc: 80.15956745351444; precision: 0.76; recall:0.79; f1:0.77\n",
      "th: 0.5; Acc: 80.33759725702228; precision: 0.78; recall:0.75; f1:0.76\n",
      "th: 0.6; Acc: 80.1068178821047; precision: 0.8; recall:0.71; f1:0.75\n",
      "th: 0.7; Acc: 79.71778979295793; precision: 0.83; recall:0.66; f1:0.74\n",
      "th: 0.8; Acc: 78.41223790056706; precision: 0.85; recall:0.59; f1:0.7\n",
      "PR Curve (AUCPR = 0.84)\n",
      "ROC Auc is 0.8793025225242677.\n",
      "============================================================\n",
      "predict_t 21\n"
     ]
    },
    {
     "data": {
      "application/vnd.jupyter.widget-view+json": {
       "model_id": "7658bd23d5f74a8b9e0ff330eee49b9f",
       "version_major": 2,
       "version_minor": 0
      },
      "text/plain": [
       "  0%|          | 0/116 [00:00<?, ?it/s]"
      ]
     },
     "metadata": {},
     "output_type": "display_data"
    },
    {
     "data": {
      "application/vnd.jupyter.widget-view+json": {
       "model_id": "4fd029da8c8f4dbfaf5692918a39eefe",
       "version_major": 2,
       "version_minor": 0
      },
      "text/plain": [
       "  0%|          | 0/29 [00:00<?, ?it/s]"
      ]
     },
     "metadata": {},
     "output_type": "display_data"
    },
    {
     "name": "stdout",
     "output_type": "stream",
     "text": [
      "th: 0.2; Acc: 78.4897932219066; precision: 0.71; recall:0.86; f1:0.78\n",
      "th: 0.3; Acc: 79.54680583999472; precision: 0.74; recall:0.83; f1:0.78\n",
      "th: 0.4; Acc: 80.33956530356082; precision: 0.77; recall:0.79; f1:0.78\n",
      "th: 0.5; Acc: 80.6764880755764; precision: 0.79; recall:0.76; f1:0.77\n",
      "th: 0.6; Acc: 80.47169188082182; precision: 0.81; recall:0.73; f1:0.77\n",
      "th: 0.7; Acc: 79.75820836361234; precision: 0.83; recall:0.68; f1:0.75\n",
      "th: 0.8; Acc: 78.37748563123472; precision: 0.85; recall:0.62; f1:0.72\n",
      "PR Curve (AUCPR = 0.85)\n",
      "ROC Auc is 0.8797141160517243.\n",
      "============================================================\n",
      "predict_t 22\n"
     ]
    },
    {
     "data": {
      "application/vnd.jupyter.widget-view+json": {
       "model_id": "8d66471b31d64206878fe57859d0cacc",
       "version_major": 2,
       "version_minor": 0
      },
      "text/plain": [
       "  0%|          | 0/116 [00:00<?, ?it/s]"
      ]
     },
     "metadata": {},
     "output_type": "display_data"
    },
    {
     "data": {
      "application/vnd.jupyter.widget-view+json": {
       "model_id": "24d1324328d8414692e2e6d004c94bd8",
       "version_major": 2,
       "version_minor": 0
      },
      "text/plain": [
       "  0%|          | 0/29 [00:00<?, ?it/s]"
      ]
     },
     "metadata": {},
     "output_type": "display_data"
    },
    {
     "name": "stdout",
     "output_type": "stream",
     "text": [
      "th: 0.2; Acc: 77.36298649722002; precision: 0.7; recall:0.88; f1:0.78\n",
      "th: 0.3; Acc: 78.70002647603918; precision: 0.73; recall:0.84; f1:0.78\n",
      "th: 0.4; Acc: 79.61344982790575; precision: 0.76; recall:0.81; f1:0.78\n",
      "th: 0.5; Acc: 80.07678051363516; precision: 0.78; recall:0.77; f1:0.77\n",
      "th: 0.6; Acc: 80.03044744506221; precision: 0.81; recall:0.73; f1:0.77\n",
      "th: 0.7; Acc: 79.44135557320625; precision: 0.83; recall:0.68; f1:0.75\n",
      "th: 0.8; Acc: 77.91236431029918; precision: 0.86; recall:0.62; f1:0.72\n",
      "PR Curve (AUCPR = 0.85)\n",
      "ROC Auc is 0.8763337421687355.\n",
      "============================================================\n",
      "predict_t 23\n"
     ]
    },
    {
     "data": {
      "application/vnd.jupyter.widget-view+json": {
       "model_id": "03ede20929a349ae9fc8b10b06c462ec",
       "version_major": 2,
       "version_minor": 0
      },
      "text/plain": [
       "  0%|          | 0/116 [00:00<?, ?it/s]"
      ]
     },
     "metadata": {},
     "output_type": "display_data"
    },
    {
     "data": {
      "application/vnd.jupyter.widget-view+json": {
       "model_id": "00f251448a7845eb9aa97415b55b81aa",
       "version_major": 2,
       "version_minor": 0
      },
      "text/plain": [
       "  0%|          | 0/29 [00:00<?, ?it/s]"
      ]
     },
     "metadata": {},
     "output_type": "display_data"
    },
    {
     "name": "stdout",
     "output_type": "stream",
     "text": [
      "th: 0.2; Acc: 77.05418131175807; precision: 0.7; recall:0.88; f1:0.78\n",
      "th: 0.3; Acc: 78.80496054114995; precision: 0.74; recall:0.85; f1:0.79\n",
      "th: 0.4; Acc: 79.69361363485642; precision: 0.76; recall:0.82; f1:0.79\n",
      "th: 0.5; Acc: 80.09151800517276; precision: 0.79; recall:0.79; f1:0.79\n",
      "th: 0.6; Acc: 80.08488626566749; precision: 0.81; recall:0.75; f1:0.78\n",
      "th: 0.7; Acc: 79.54771536574043; precision: 0.83; recall:0.71; f1:0.77\n",
      "th: 0.8; Acc: 78.42695138934943; precision: 0.86; recall:0.64; f1:0.73\n",
      "PR Curve (AUCPR = 0.86)\n",
      "ROC Auc is 0.8757317824047346.\n",
      "============================================================\n",
      "predict_t 24\n"
     ]
    },
    {
     "data": {
      "application/vnd.jupyter.widget-view+json": {
       "model_id": "f1338ad038404682bb960c7a9dc1b467",
       "version_major": 2,
       "version_minor": 0
      },
      "text/plain": [
       "  0%|          | 0/116 [00:00<?, ?it/s]"
      ]
     },
     "metadata": {},
     "output_type": "display_data"
    },
    {
     "data": {
      "application/vnd.jupyter.widget-view+json": {
       "model_id": "e9832cad800949dbb46c3f4d714cc97d",
       "version_major": 2,
       "version_minor": 0
      },
      "text/plain": [
       "  0%|          | 0/29 [00:00<?, ?it/s]"
      ]
     },
     "metadata": {},
     "output_type": "display_data"
    },
    {
     "name": "stdout",
     "output_type": "stream",
     "text": [
      "th: 0.2; Acc: 76.65116279069767; precision: 0.7; recall:0.89; f1:0.78\n",
      "th: 0.3; Acc: 78.42524916943522; precision: 0.73; recall:0.86; f1:0.79\n",
      "th: 0.4; Acc: 79.55481727574751; precision: 0.76; recall:0.84; f1:0.8\n",
      "th: 0.5; Acc: 80.16611295681064; precision: 0.79; recall:0.8; f1:0.79\n",
      "th: 0.6; Acc: 80.04651162790698; precision: 0.81; recall:0.77; f1:0.79\n",
      "th: 0.7; Acc: 79.734219269103; precision: 0.83; recall:0.72; f1:0.77\n",
      "th: 0.8; Acc: 78.67774086378738; precision: 0.86; recall:0.66; f1:0.75\n",
      "PR Curve (AUCPR = 0.86)\n",
      "ROC Auc is 0.8743969189782326.\n",
      "============================================================\n",
      "predict_t 25\n"
     ]
    },
    {
     "data": {
      "application/vnd.jupyter.widget-view+json": {
       "model_id": "27b7810f6f01480984156220ee432512",
       "version_major": 2,
       "version_minor": 0
      },
      "text/plain": [
       "  0%|          | 0/116 [00:00<?, ?it/s]"
      ]
     },
     "metadata": {},
     "output_type": "display_data"
    },
    {
     "data": {
      "application/vnd.jupyter.widget-view+json": {
       "model_id": "5b585899804c4eeea9e60f7fc30e946e",
       "version_major": 2,
       "version_minor": 0
      },
      "text/plain": [
       "  0%|          | 0/29 [00:00<?, ?it/s]"
      ]
     },
     "metadata": {},
     "output_type": "display_data"
    },
    {
     "name": "stdout",
     "output_type": "stream",
     "text": [
      "th: 0.2; Acc: 76.19998668530724; precision: 0.7; recall:0.9; f1:0.79\n",
      "th: 0.3; Acc: 78.08401571133746; precision: 0.74; recall:0.87; f1:0.8\n",
      "th: 0.4; Acc: 78.94281339458092; precision: 0.76; recall:0.83; f1:0.79\n",
      "th: 0.5; Acc: 79.71506557486187; precision: 0.79; recall:0.8; f1:0.79\n",
      "th: 0.6; Acc: 79.83489780973304; precision: 0.81; recall:0.77; f1:0.79\n",
      "th: 0.7; Acc: 79.46874375873777; precision: 0.84; recall:0.73; f1:0.78\n",
      "th: 0.8; Acc: 78.02409959390188; precision: 0.86; recall:0.66; f1:0.75\n",
      "PR Curve (AUCPR = 0.87)\n",
      "ROC Auc is 0.8737865355073615.\n",
      "============================================================\n",
      "predict_t 26\n"
     ]
    },
    {
     "data": {
      "application/vnd.jupyter.widget-view+json": {
       "model_id": "e42f7d9cacea4de09d5525a93ff1658d",
       "version_major": 2,
       "version_minor": 0
      },
      "text/plain": [
       "  0%|          | 0/116 [00:00<?, ?it/s]"
      ]
     },
     "metadata": {},
     "output_type": "display_data"
    },
    {
     "data": {
      "application/vnd.jupyter.widget-view+json": {
       "model_id": "dbfb2cd379ec44e88ceb80839e41a470",
       "version_major": 2,
       "version_minor": 0
      },
      "text/plain": [
       "  0%|          | 0/29 [00:00<?, ?it/s]"
      ]
     },
     "metadata": {},
     "output_type": "display_data"
    },
    {
     "name": "stdout",
     "output_type": "stream",
     "text": [
      "th: 0.2; Acc: 75.34685165421558; precision: 0.7; recall:0.9; f1:0.79\n",
      "th: 0.3; Acc: 77.42129135538954; precision: 0.73; recall:0.87; f1:0.79\n",
      "th: 0.4; Acc: 78.18169690501601; precision: 0.76; recall:0.84; f1:0.8\n",
      "th: 0.5; Acc: 78.83537886872999; precision: 0.78; recall:0.81; f1:0.79\n",
      "th: 0.6; Acc: 79.12886872998934; precision: 0.81; recall:0.77; f1:0.79\n",
      "th: 0.7; Acc: 79.08884738527215; precision: 0.83; recall:0.73; f1:0.78\n",
      "th: 0.8; Acc: 77.83484525080043; precision: 0.86; recall:0.67; f1:0.75\n",
      "PR Curve (AUCPR = 0.87)\n",
      "ROC Auc is 0.8690202318324427.\n",
      "============================================================\n",
      "predict_t 27\n"
     ]
    },
    {
     "data": {
      "application/vnd.jupyter.widget-view+json": {
       "model_id": "66ddf41d601d4a13ab5b8f1a8a7983e2",
       "version_major": 2,
       "version_minor": 0
      },
      "text/plain": [
       "  0%|          | 0/116 [00:00<?, ?it/s]"
      ]
     },
     "metadata": {},
     "output_type": "display_data"
    },
    {
     "data": {
      "application/vnd.jupyter.widget-view+json": {
       "model_id": "7f0e5f06ed4d44f4bd146ddf367bfbe8",
       "version_major": 2,
       "version_minor": 0
      },
      "text/plain": [
       "  0%|          | 0/29 [00:00<?, ?it/s]"
      ]
     },
     "metadata": {},
     "output_type": "display_data"
    },
    {
     "name": "stdout",
     "output_type": "stream",
     "text": [
      "th: 0.2; Acc: 76.62233509322996; precision: 0.72; recall:0.9; f1:0.8\n",
      "th: 0.3; Acc: 78.10599478714163; precision: 0.75; recall:0.87; f1:0.81\n",
      "th: 0.4; Acc: 79.19534852636504; precision: 0.77; recall:0.85; f1:0.81\n",
      "th: 0.5; Acc: 79.7233175165408; precision: 0.79; recall:0.82; f1:0.8\n",
      "th: 0.6; Acc: 79.8101984896077; precision: 0.81; recall:0.79; f1:0.8\n",
      "th: 0.7; Acc: 79.44262514201698; precision: 0.84; recall:0.75; f1:0.79\n",
      "th: 0.8; Acc: 78.68074583973802; precision: 0.86; recall:0.7; f1:0.77\n",
      "PR Curve (AUCPR = 0.87)\n",
      "ROC Auc is 0.8729311516783052.\n",
      "============================================================\n",
      "predict_t 28\n"
     ]
    },
    {
     "data": {
      "application/vnd.jupyter.widget-view+json": {
       "model_id": "7ca1063cbd2a4554aa7c06c876491bd8",
       "version_major": 2,
       "version_minor": 0
      },
      "text/plain": [
       "  0%|          | 0/116 [00:00<?, ?it/s]"
      ]
     },
     "metadata": {},
     "output_type": "display_data"
    },
    {
     "data": {
      "application/vnd.jupyter.widget-view+json": {
       "model_id": "fe0daf95af1e40508a9dcac3a59713e5",
       "version_major": 2,
       "version_minor": 0
      },
      "text/plain": [
       "  0%|          | 0/29 [00:00<?, ?it/s]"
      ]
     },
     "metadata": {},
     "output_type": "display_data"
    },
    {
     "name": "stdout",
     "output_type": "stream",
     "text": [
      "th: 0.2; Acc: 75.70644167671085; precision: 0.71; recall:0.91; f1:0.8\n",
      "th: 0.3; Acc: 77.6014463640016; precision: 0.75; recall:0.88; f1:0.81\n",
      "th: 0.4; Acc: 78.99424132851212; precision: 0.77; recall:0.85; f1:0.81\n",
      "th: 0.5; Acc: 79.44957814383287; precision: 0.8; recall:0.82; f1:0.81\n",
      "th: 0.6; Acc: 79.52323556984064; precision: 0.82; recall:0.79; f1:0.8\n",
      "th: 0.7; Acc: 79.24869425472077; precision: 0.84; recall:0.75; f1:0.79\n",
      "th: 0.8; Acc: 78.1103522164189; precision: 0.86; recall:0.7; f1:0.77\n",
      "PR Curve (AUCPR = 0.88)\n",
      "ROC Auc is 0.8702783750037607.\n",
      "============================================================\n",
      "predict_t 29\n"
     ]
    },
    {
     "data": {
      "application/vnd.jupyter.widget-view+json": {
       "model_id": "705b513415e742d99fdc35f4eb6a145b",
       "version_major": 2,
       "version_minor": 0
      },
      "text/plain": [
       "  0%|          | 0/116 [00:00<?, ?it/s]"
      ]
     },
     "metadata": {},
     "output_type": "display_data"
    },
    {
     "data": {
      "application/vnd.jupyter.widget-view+json": {
       "model_id": "da79a4f1d953459d9881b9a2790ee250",
       "version_major": 2,
       "version_minor": 0
      },
      "text/plain": [
       "  0%|          | 0/29 [00:00<?, ?it/s]"
      ]
     },
     "metadata": {},
     "output_type": "display_data"
    },
    {
     "name": "stdout",
     "output_type": "stream",
     "text": [
      "th: 0.2; Acc: 75.24320697752432; precision: 0.71; recall:0.92; f1:0.8\n",
      "th: 0.3; Acc: 77.0479704797048; precision: 0.74; recall:0.89; f1:0.81\n",
      "th: 0.4; Acc: 78.17510902381751; precision: 0.77; recall:0.86; f1:0.81\n",
      "th: 0.5; Acc: 78.77893324387789; precision: 0.79; recall:0.83; f1:0.81\n",
      "th: 0.6; Acc: 78.93995303589399; precision: 0.81; recall:0.79; f1:0.8\n",
      "th: 0.7; Acc: 78.83260650788327; precision: 0.84; recall:0.75; f1:0.79\n",
      "th: 0.8; Acc: 77.72559543777255; precision: 0.87; recall:0.7; f1:0.78\n",
      "PR Curve (AUCPR = 0.88)\n",
      "ROC Auc is 0.8682094530222241.\n",
      "============================================================\n",
      "predict_t 30\n"
     ]
    },
    {
     "data": {
      "application/vnd.jupyter.widget-view+json": {
       "model_id": "65c425808ad9423fa8171d30c75dd6d8",
       "version_major": 2,
       "version_minor": 0
      },
      "text/plain": [
       "  0%|          | 0/116 [00:00<?, ?it/s]"
      ]
     },
     "metadata": {},
     "output_type": "display_data"
    },
    {
     "data": {
      "application/vnd.jupyter.widget-view+json": {
       "model_id": "17511fb280fe41dfb365b3f53c4abf98",
       "version_major": 2,
       "version_minor": 0
      },
      "text/plain": [
       "  0%|          | 0/29 [00:00<?, ?it/s]"
      ]
     },
     "metadata": {},
     "output_type": "display_data"
    },
    {
     "name": "stdout",
     "output_type": "stream",
     "text": [
      "th: 0.2; Acc: 75.96800215111588; precision: 0.72; recall:0.92; f1:0.81\n",
      "th: 0.3; Acc: 77.66872815272923; precision: 0.75; recall:0.89; f1:0.81\n",
      "th: 0.4; Acc: 78.76445280989513; precision: 0.77; recall:0.87; f1:0.82\n",
      "th: 0.5; Acc: 79.17450927668727; precision: 0.8; recall:0.84; f1:0.82\n",
      "th: 0.6; Acc: 79.5778435063189; precision: 0.82; recall:0.8; f1:0.81\n",
      "th: 0.7; Acc: 79.2551761226136; precision: 0.84; recall:0.77; f1:0.8\n",
      "th: 0.8; Acc: 78.17961817692928; precision: 0.86; recall:0.72; f1:0.78\n",
      "PR Curve (AUCPR = 0.89)\n",
      "ROC Auc is 0.8715909712458728.\n",
      "============================================================\n"
     ]
    }
   ],
   "source": [
    "# Time sequence length and prediction time length\n",
    "seed = 55688\n",
    "time_seq = 30\n",
    "predict_ts = list(range(1,31))\n",
    "valid_ratio = 0.2\n",
    "task = 'classification'\n",
    "\n",
    "dirname = \"/home/wmnlab/Documents/sheng-ru/data/single0.5\"\n",
    "dir_list = os.listdir(dirname)\n",
    "dir_list = [f for f in dir_list if ( f.endswith('.csv') and (not 'sm' in f) ) ]\n",
    "\n",
    "train_dir_list, test_dir_list = train_valid_split(dir_list, valid_ratio)\n",
    "\n",
    "features = ['LTE_HO', 'MN_HO', 'eNB_to_ENDC', 'gNB_Rel', 'gNB_HO', 'RLF', 'SCG_RLF',\n",
    "            'num_of_neis', 'RSRP', 'RSRQ', 'RSRP1', 'RSRQ1','nr-RSRP', 'nr-RSRQ', 'nr-RSRP1', 'nr-RSRQ1']\n",
    "target = ['LTE_HO', 'MN_HO'] # For eNB HO.\n",
    "\n",
    "num_of_features = len(features)\n",
    "\n",
    "\n",
    "for predict_t in predict_ts:\n",
    "    print(f'predict_t {predict_t}')\n",
    "    X_train, y_train, split_time_train = ts_array_create(dirname, train_dir_list, time_seq)\n",
    "    X_train_2d = X_train.reshape(-1, time_seq*num_of_features)\n",
    "\n",
    "    X_test, y_test, split_time_test = ts_array_create(dirname, test_dir_list, time_seq)\n",
    "    X_test_2d = X_test.reshape(-1, time_seq*num_of_features)\n",
    "\n",
    "    train_data = xgb.DMatrix(X_train_2d, label=y_train)\n",
    "    test_data = xgb.DMatrix(X_test_2d, label=y_test)\n",
    "\n",
    "    # Parameters\n",
    "    if task == 'forecast':\n",
    "        params = {\"objective\": \"reg:squarederror\", \"tree_method\": \"gpu_hist\", 'max_depth': 20, 'eval_metric': ['rmse', 'mae'], 'seed': seed}\n",
    "    elif task == 'classification':\n",
    "        params = {'objective': 'binary:logistic', \"tree_method\": \"gpu_hist\", 'max_depth': 20, 'eta': 0.1,\n",
    "                'seed': seed,'eval_metric': ['error','logloss','aucpr']}\n",
    "    n = 600\n",
    "\n",
    "    model = xgb.train(\n",
    "        params=params,\n",
    "        dtrain=train_data,\n",
    "        num_boost_round=n,\n",
    "        evals=[(train_data, 'train'), (test_data, 'valid')],\n",
    "        early_stopping_rounds=5,\n",
    "        verbose_eval=False\n",
    "    )\n",
    "\n",
    "    preds = model.predict(test_data)\n",
    "\n",
    "    # plot all data point on a plot\n",
    "    ths = [0.2,0.3,0.4,0.5,0.6,0.7,0.8]\n",
    "\n",
    "    if task == 'forecast':\n",
    "        rmse = round(np.sqrt(np.mean((preds-y_test)**2)), 2)\n",
    "        plt.title(f'RMSE is {rmse}.')\n",
    "    elif task == 'classification':\n",
    "        # PR and AUCPR\n",
    "        precision, recall, thresholds = precision_recall_curve(y_test, preds)\n",
    "        aucpr = auc(recall, precision)\n",
    "        \n",
    "        # ROC & AUC\n",
    "        fpr, tpr, thresholds = roc_curve(y_test, preds)\n",
    "        roc_auc = auc(fpr, tpr)\n",
    "        \n",
    "        # Manually count\n",
    "        for threshold in ths:\n",
    "            TP, FP, TN, FN = 0,0,0,0\n",
    "            anses = np.where(preds<threshold, 0, 1)\n",
    "            for ans, y in zip(anses, y_test):\n",
    "                if ans == y:\n",
    "                    if ans == 1: TP += 1\n",
    "                    elif ans == 0: TN +=1\n",
    "                elif ans != y:\n",
    "                    if ans == 1: FP += 1\n",
    "                    elif ans == 0: FN +=1\n",
    "            acc=(TP+TN)/(TP+TN+FP+FN)*100\n",
    "            try:\n",
    "                p, r = round(TP/(TP+FP), 2), round(TP/(TP+FN), 2)\n",
    "                f1 = round(2*(p*r)/(p+r), 2)\n",
    "            except:\n",
    "                p, r, f1 = 'DNF', 'DNF', 'DNF'\n",
    "            s = f'th: {threshold}; Acc: {acc}; precision: {p}; recall:{r}; f1:{f1}'\n",
    "            print(s)\n",
    "        print('PR Curve (AUCPR = %0.2f)' % aucpr)\n",
    "        print(f'ROC Auc is {roc_auc}.')\n",
    "        print('============================================================')"
   ]
  }
 ],
 "metadata": {
  "accelerator": "GPU",
  "colab": {
   "provenance": []
  },
  "gpuClass": "standard",
  "kernelspec": {
   "display_name": "Python 3 (ipykernel)",
   "language": "python",
   "name": "python3"
  },
  "language_info": {
   "codemirror_mode": {
    "name": "ipython",
    "version": 3
   },
   "file_extension": ".py",
   "mimetype": "text/x-python",
   "name": "python",
   "nbconvert_exporter": "python",
   "pygments_lexer": "ipython3",
   "version": "3.10.11"
  },
  "widgets": {
   "application/vnd.jupyter.widget-state+json": {
    "0b790cbe3fbb4473a6a2032f3289978c": {
     "model_module": "@jupyter-widgets/controls",
     "model_module_version": "1.5.0",
     "model_name": "HTMLModel",
     "state": {
      "_dom_classes": [],
      "_model_module": "@jupyter-widgets/controls",
      "_model_module_version": "1.5.0",
      "_model_name": "HTMLModel",
      "_view_count": null,
      "_view_module": "@jupyter-widgets/controls",
      "_view_module_version": "1.5.0",
      "_view_name": "HTMLView",
      "description": "",
      "description_tooltip": null,
      "layout": "IPY_MODEL_da193c2493f94ffa83f9515c593dec7b",
      "placeholder": "​",
      "style": "IPY_MODEL_e52a8d7a89ef4e69a51ec0beba114f88",
      "value": " 10/10 [00:00&lt;00:00, 64.32it/s]"
     }
    },
    "3f3f3722cda848e4bd9d91dab9d5a039": {
     "model_module": "@jupyter-widgets/controls",
     "model_module_version": "1.5.0",
     "model_name": "DescriptionStyleModel",
     "state": {
      "_model_module": "@jupyter-widgets/controls",
      "_model_module_version": "1.5.0",
      "_model_name": "DescriptionStyleModel",
      "_view_count": null,
      "_view_module": "@jupyter-widgets/base",
      "_view_module_version": "1.2.0",
      "_view_name": "StyleView",
      "description_width": ""
     }
    },
    "40d6481fc76a434684edc487e01598d7": {
     "model_module": "@jupyter-widgets/base",
     "model_module_version": "1.2.0",
     "model_name": "LayoutModel",
     "state": {
      "_model_module": "@jupyter-widgets/base",
      "_model_module_version": "1.2.0",
      "_model_name": "LayoutModel",
      "_view_count": null,
      "_view_module": "@jupyter-widgets/base",
      "_view_module_version": "1.2.0",
      "_view_name": "LayoutView",
      "align_content": null,
      "align_items": null,
      "align_self": null,
      "border": null,
      "bottom": null,
      "display": null,
      "flex": null,
      "flex_flow": null,
      "grid_area": null,
      "grid_auto_columns": null,
      "grid_auto_flow": null,
      "grid_auto_rows": null,
      "grid_column": null,
      "grid_gap": null,
      "grid_row": null,
      "grid_template_areas": null,
      "grid_template_columns": null,
      "grid_template_rows": null,
      "height": null,
      "justify_content": null,
      "justify_items": null,
      "left": null,
      "margin": null,
      "max_height": null,
      "max_width": null,
      "min_height": null,
      "min_width": null,
      "object_fit": null,
      "object_position": null,
      "order": null,
      "overflow": null,
      "overflow_x": null,
      "overflow_y": null,
      "padding": null,
      "right": null,
      "top": null,
      "visibility": null,
      "width": null
     }
    },
    "4d1d9bc4b7cf4c7fa24ead7c520b89ec": {
     "model_module": "@jupyter-widgets/base",
     "model_module_version": "1.2.0",
     "model_name": "LayoutModel",
     "state": {
      "_model_module": "@jupyter-widgets/base",
      "_model_module_version": "1.2.0",
      "_model_name": "LayoutModel",
      "_view_count": null,
      "_view_module": "@jupyter-widgets/base",
      "_view_module_version": "1.2.0",
      "_view_name": "LayoutView",
      "align_content": null,
      "align_items": null,
      "align_self": null,
      "border": null,
      "bottom": null,
      "display": null,
      "flex": null,
      "flex_flow": null,
      "grid_area": null,
      "grid_auto_columns": null,
      "grid_auto_flow": null,
      "grid_auto_rows": null,
      "grid_column": null,
      "grid_gap": null,
      "grid_row": null,
      "grid_template_areas": null,
      "grid_template_columns": null,
      "grid_template_rows": null,
      "height": null,
      "justify_content": null,
      "justify_items": null,
      "left": null,
      "margin": null,
      "max_height": null,
      "max_width": null,
      "min_height": null,
      "min_width": null,
      "object_fit": null,
      "object_position": null,
      "order": null,
      "overflow": null,
      "overflow_x": null,
      "overflow_y": null,
      "padding": null,
      "right": null,
      "top": null,
      "visibility": null,
      "width": null
     }
    },
    "5636d2bb0cd449b48d116d3298d58bee": {
     "model_module": "@jupyter-widgets/controls",
     "model_module_version": "1.5.0",
     "model_name": "HTMLModel",
     "state": {
      "_dom_classes": [],
      "_model_module": "@jupyter-widgets/controls",
      "_model_module_version": "1.5.0",
      "_model_name": "HTMLModel",
      "_view_count": null,
      "_view_module": "@jupyter-widgets/controls",
      "_view_module_version": "1.5.0",
      "_view_name": "HTMLView",
      "description": "",
      "description_tooltip": null,
      "layout": "IPY_MODEL_ebc772528cf84271998836470aeba36c",
      "placeholder": "​",
      "style": "IPY_MODEL_678f5fea727e457a8c870f25ff6a05cf",
      "value": "100%"
     }
    },
    "5bbf1cb462d049ad88d8499bab6cc95b": {
     "model_module": "@jupyter-widgets/controls",
     "model_module_version": "1.5.0",
     "model_name": "ProgressStyleModel",
     "state": {
      "_model_module": "@jupyter-widgets/controls",
      "_model_module_version": "1.5.0",
      "_model_name": "ProgressStyleModel",
      "_view_count": null,
      "_view_module": "@jupyter-widgets/base",
      "_view_module_version": "1.2.0",
      "_view_name": "StyleView",
      "bar_color": null,
      "description_width": ""
     }
    },
    "678f5fea727e457a8c870f25ff6a05cf": {
     "model_module": "@jupyter-widgets/controls",
     "model_module_version": "1.5.0",
     "model_name": "DescriptionStyleModel",
     "state": {
      "_model_module": "@jupyter-widgets/controls",
      "_model_module_version": "1.5.0",
      "_model_name": "DescriptionStyleModel",
      "_view_count": null,
      "_view_module": "@jupyter-widgets/base",
      "_view_module_version": "1.2.0",
      "_view_name": "StyleView",
      "description_width": ""
     }
    },
    "73cf02420329491992b68f57829cdbc2": {
     "model_module": "@jupyter-widgets/controls",
     "model_module_version": "1.5.0",
     "model_name": "ProgressStyleModel",
     "state": {
      "_model_module": "@jupyter-widgets/controls",
      "_model_module_version": "1.5.0",
      "_model_name": "ProgressStyleModel",
      "_view_count": null,
      "_view_module": "@jupyter-widgets/base",
      "_view_module_version": "1.2.0",
      "_view_name": "StyleView",
      "bar_color": null,
      "description_width": ""
     }
    },
    "7bcca89101404ec5934817decb555743": {
     "model_module": "@jupyter-widgets/controls",
     "model_module_version": "1.5.0",
     "model_name": "FloatProgressModel",
     "state": {
      "_dom_classes": [],
      "_model_module": "@jupyter-widgets/controls",
      "_model_module_version": "1.5.0",
      "_model_name": "FloatProgressModel",
      "_view_count": null,
      "_view_module": "@jupyter-widgets/controls",
      "_view_module_version": "1.5.0",
      "_view_name": "ProgressView",
      "bar_style": "success",
      "description": "",
      "description_tooltip": null,
      "layout": "IPY_MODEL_b0bc8f855a78471f8dce833c0fc5c784",
      "max": 10,
      "min": 0,
      "orientation": "horizontal",
      "style": "IPY_MODEL_73cf02420329491992b68f57829cdbc2",
      "value": 10
     }
    },
    "96b79b33bdcb44be81a3c4d7ac67003e": {
     "model_module": "@jupyter-widgets/controls",
     "model_module_version": "1.5.0",
     "model_name": "HTMLModel",
     "state": {
      "_dom_classes": [],
      "_model_module": "@jupyter-widgets/controls",
      "_model_module_version": "1.5.0",
      "_model_name": "HTMLModel",
      "_view_count": null,
      "_view_module": "@jupyter-widgets/controls",
      "_view_module_version": "1.5.0",
      "_view_name": "HTMLView",
      "description": "",
      "description_tooltip": null,
      "layout": "IPY_MODEL_4d1d9bc4b7cf4c7fa24ead7c520b89ec",
      "placeholder": "​",
      "style": "IPY_MODEL_a62edc7a241244888ba8a015c9bda9e2",
      "value": " 13/13 [00:00&lt;00:00, 63.95it/s]"
     }
    },
    "a62edc7a241244888ba8a015c9bda9e2": {
     "model_module": "@jupyter-widgets/controls",
     "model_module_version": "1.5.0",
     "model_name": "DescriptionStyleModel",
     "state": {
      "_model_module": "@jupyter-widgets/controls",
      "_model_module_version": "1.5.0",
      "_model_name": "DescriptionStyleModel",
      "_view_count": null,
      "_view_module": "@jupyter-widgets/base",
      "_view_module_version": "1.2.0",
      "_view_name": "StyleView",
      "description_width": ""
     }
    },
    "a8fda64c546e4b348c749f051194faba": {
     "model_module": "@jupyter-widgets/controls",
     "model_module_version": "1.5.0",
     "model_name": "HBoxModel",
     "state": {
      "_dom_classes": [],
      "_model_module": "@jupyter-widgets/controls",
      "_model_module_version": "1.5.0",
      "_model_name": "HBoxModel",
      "_view_count": null,
      "_view_module": "@jupyter-widgets/controls",
      "_view_module_version": "1.5.0",
      "_view_name": "HBoxView",
      "box_style": "",
      "children": [
       "IPY_MODEL_5636d2bb0cd449b48d116d3298d58bee",
       "IPY_MODEL_e8d4d6ecd06a4e5db72690a07218e55b",
       "IPY_MODEL_96b79b33bdcb44be81a3c4d7ac67003e"
      ],
      "layout": "IPY_MODEL_f50b59266ff241b79ff92690b3639788"
     }
    },
    "b0bc8f855a78471f8dce833c0fc5c784": {
     "model_module": "@jupyter-widgets/base",
     "model_module_version": "1.2.0",
     "model_name": "LayoutModel",
     "state": {
      "_model_module": "@jupyter-widgets/base",
      "_model_module_version": "1.2.0",
      "_model_name": "LayoutModel",
      "_view_count": null,
      "_view_module": "@jupyter-widgets/base",
      "_view_module_version": "1.2.0",
      "_view_name": "LayoutView",
      "align_content": null,
      "align_items": null,
      "align_self": null,
      "border": null,
      "bottom": null,
      "display": null,
      "flex": null,
      "flex_flow": null,
      "grid_area": null,
      "grid_auto_columns": null,
      "grid_auto_flow": null,
      "grid_auto_rows": null,
      "grid_column": null,
      "grid_gap": null,
      "grid_row": null,
      "grid_template_areas": null,
      "grid_template_columns": null,
      "grid_template_rows": null,
      "height": null,
      "justify_content": null,
      "justify_items": null,
      "left": null,
      "margin": null,
      "max_height": null,
      "max_width": null,
      "min_height": null,
      "min_width": null,
      "object_fit": null,
      "object_position": null,
      "order": null,
      "overflow": null,
      "overflow_x": null,
      "overflow_y": null,
      "padding": null,
      "right": null,
      "top": null,
      "visibility": null,
      "width": null
     }
    },
    "b1d6f2469ad440fc83453f57a549a91e": {
     "model_module": "@jupyter-widgets/base",
     "model_module_version": "1.2.0",
     "model_name": "LayoutModel",
     "state": {
      "_model_module": "@jupyter-widgets/base",
      "_model_module_version": "1.2.0",
      "_model_name": "LayoutModel",
      "_view_count": null,
      "_view_module": "@jupyter-widgets/base",
      "_view_module_version": "1.2.0",
      "_view_name": "LayoutView",
      "align_content": null,
      "align_items": null,
      "align_self": null,
      "border": null,
      "bottom": null,
      "display": null,
      "flex": null,
      "flex_flow": null,
      "grid_area": null,
      "grid_auto_columns": null,
      "grid_auto_flow": null,
      "grid_auto_rows": null,
      "grid_column": null,
      "grid_gap": null,
      "grid_row": null,
      "grid_template_areas": null,
      "grid_template_columns": null,
      "grid_template_rows": null,
      "height": null,
      "justify_content": null,
      "justify_items": null,
      "left": null,
      "margin": null,
      "max_height": null,
      "max_width": null,
      "min_height": null,
      "min_width": null,
      "object_fit": null,
      "object_position": null,
      "order": null,
      "overflow": null,
      "overflow_x": null,
      "overflow_y": null,
      "padding": null,
      "right": null,
      "top": null,
      "visibility": null,
      "width": null
     }
    },
    "b5375aa7864748c89a420c181e6c91af": {
     "model_module": "@jupyter-widgets/controls",
     "model_module_version": "1.5.0",
     "model_name": "HTMLModel",
     "state": {
      "_dom_classes": [],
      "_model_module": "@jupyter-widgets/controls",
      "_model_module_version": "1.5.0",
      "_model_name": "HTMLModel",
      "_view_count": null,
      "_view_module": "@jupyter-widgets/controls",
      "_view_module_version": "1.5.0",
      "_view_name": "HTMLView",
      "description": "",
      "description_tooltip": null,
      "layout": "IPY_MODEL_40d6481fc76a434684edc487e01598d7",
      "placeholder": "​",
      "style": "IPY_MODEL_3f3f3722cda848e4bd9d91dab9d5a039",
      "value": "100%"
     }
    },
    "c2a1a91fd6634e5297125ba0837fee03": {
     "model_module": "@jupyter-widgets/controls",
     "model_module_version": "1.5.0",
     "model_name": "HBoxModel",
     "state": {
      "_dom_classes": [],
      "_model_module": "@jupyter-widgets/controls",
      "_model_module_version": "1.5.0",
      "_model_name": "HBoxModel",
      "_view_count": null,
      "_view_module": "@jupyter-widgets/controls",
      "_view_module_version": "1.5.0",
      "_view_name": "HBoxView",
      "box_style": "",
      "children": [
       "IPY_MODEL_b5375aa7864748c89a420c181e6c91af",
       "IPY_MODEL_7bcca89101404ec5934817decb555743",
       "IPY_MODEL_0b790cbe3fbb4473a6a2032f3289978c"
      ],
      "layout": "IPY_MODEL_e7534fee1e8c4b099c1922e2360d5459"
     }
    },
    "da193c2493f94ffa83f9515c593dec7b": {
     "model_module": "@jupyter-widgets/base",
     "model_module_version": "1.2.0",
     "model_name": "LayoutModel",
     "state": {
      "_model_module": "@jupyter-widgets/base",
      "_model_module_version": "1.2.0",
      "_model_name": "LayoutModel",
      "_view_count": null,
      "_view_module": "@jupyter-widgets/base",
      "_view_module_version": "1.2.0",
      "_view_name": "LayoutView",
      "align_content": null,
      "align_items": null,
      "align_self": null,
      "border": null,
      "bottom": null,
      "display": null,
      "flex": null,
      "flex_flow": null,
      "grid_area": null,
      "grid_auto_columns": null,
      "grid_auto_flow": null,
      "grid_auto_rows": null,
      "grid_column": null,
      "grid_gap": null,
      "grid_row": null,
      "grid_template_areas": null,
      "grid_template_columns": null,
      "grid_template_rows": null,
      "height": null,
      "justify_content": null,
      "justify_items": null,
      "left": null,
      "margin": null,
      "max_height": null,
      "max_width": null,
      "min_height": null,
      "min_width": null,
      "object_fit": null,
      "object_position": null,
      "order": null,
      "overflow": null,
      "overflow_x": null,
      "overflow_y": null,
      "padding": null,
      "right": null,
      "top": null,
      "visibility": null,
      "width": null
     }
    },
    "e52a8d7a89ef4e69a51ec0beba114f88": {
     "model_module": "@jupyter-widgets/controls",
     "model_module_version": "1.5.0",
     "model_name": "DescriptionStyleModel",
     "state": {
      "_model_module": "@jupyter-widgets/controls",
      "_model_module_version": "1.5.0",
      "_model_name": "DescriptionStyleModel",
      "_view_count": null,
      "_view_module": "@jupyter-widgets/base",
      "_view_module_version": "1.2.0",
      "_view_name": "StyleView",
      "description_width": ""
     }
    },
    "e7534fee1e8c4b099c1922e2360d5459": {
     "model_module": "@jupyter-widgets/base",
     "model_module_version": "1.2.0",
     "model_name": "LayoutModel",
     "state": {
      "_model_module": "@jupyter-widgets/base",
      "_model_module_version": "1.2.0",
      "_model_name": "LayoutModel",
      "_view_count": null,
      "_view_module": "@jupyter-widgets/base",
      "_view_module_version": "1.2.0",
      "_view_name": "LayoutView",
      "align_content": null,
      "align_items": null,
      "align_self": null,
      "border": null,
      "bottom": null,
      "display": null,
      "flex": null,
      "flex_flow": null,
      "grid_area": null,
      "grid_auto_columns": null,
      "grid_auto_flow": null,
      "grid_auto_rows": null,
      "grid_column": null,
      "grid_gap": null,
      "grid_row": null,
      "grid_template_areas": null,
      "grid_template_columns": null,
      "grid_template_rows": null,
      "height": null,
      "justify_content": null,
      "justify_items": null,
      "left": null,
      "margin": null,
      "max_height": null,
      "max_width": null,
      "min_height": null,
      "min_width": null,
      "object_fit": null,
      "object_position": null,
      "order": null,
      "overflow": null,
      "overflow_x": null,
      "overflow_y": null,
      "padding": null,
      "right": null,
      "top": null,
      "visibility": null,
      "width": null
     }
    },
    "e8d4d6ecd06a4e5db72690a07218e55b": {
     "model_module": "@jupyter-widgets/controls",
     "model_module_version": "1.5.0",
     "model_name": "FloatProgressModel",
     "state": {
      "_dom_classes": [],
      "_model_module": "@jupyter-widgets/controls",
      "_model_module_version": "1.5.0",
      "_model_name": "FloatProgressModel",
      "_view_count": null,
      "_view_module": "@jupyter-widgets/controls",
      "_view_module_version": "1.5.0",
      "_view_name": "ProgressView",
      "bar_style": "success",
      "description": "",
      "description_tooltip": null,
      "layout": "IPY_MODEL_b1d6f2469ad440fc83453f57a549a91e",
      "max": 13,
      "min": 0,
      "orientation": "horizontal",
      "style": "IPY_MODEL_5bbf1cb462d049ad88d8499bab6cc95b",
      "value": 13
     }
    },
    "ebc772528cf84271998836470aeba36c": {
     "model_module": "@jupyter-widgets/base",
     "model_module_version": "1.2.0",
     "model_name": "LayoutModel",
     "state": {
      "_model_module": "@jupyter-widgets/base",
      "_model_module_version": "1.2.0",
      "_model_name": "LayoutModel",
      "_view_count": null,
      "_view_module": "@jupyter-widgets/base",
      "_view_module_version": "1.2.0",
      "_view_name": "LayoutView",
      "align_content": null,
      "align_items": null,
      "align_self": null,
      "border": null,
      "bottom": null,
      "display": null,
      "flex": null,
      "flex_flow": null,
      "grid_area": null,
      "grid_auto_columns": null,
      "grid_auto_flow": null,
      "grid_auto_rows": null,
      "grid_column": null,
      "grid_gap": null,
      "grid_row": null,
      "grid_template_areas": null,
      "grid_template_columns": null,
      "grid_template_rows": null,
      "height": null,
      "justify_content": null,
      "justify_items": null,
      "left": null,
      "margin": null,
      "max_height": null,
      "max_width": null,
      "min_height": null,
      "min_width": null,
      "object_fit": null,
      "object_position": null,
      "order": null,
      "overflow": null,
      "overflow_x": null,
      "overflow_y": null,
      "padding": null,
      "right": null,
      "top": null,
      "visibility": null,
      "width": null
     }
    },
    "f50b59266ff241b79ff92690b3639788": {
     "model_module": "@jupyter-widgets/base",
     "model_module_version": "1.2.0",
     "model_name": "LayoutModel",
     "state": {
      "_model_module": "@jupyter-widgets/base",
      "_model_module_version": "1.2.0",
      "_model_name": "LayoutModel",
      "_view_count": null,
      "_view_module": "@jupyter-widgets/base",
      "_view_module_version": "1.2.0",
      "_view_name": "LayoutView",
      "align_content": null,
      "align_items": null,
      "align_self": null,
      "border": null,
      "bottom": null,
      "display": null,
      "flex": null,
      "flex_flow": null,
      "grid_area": null,
      "grid_auto_columns": null,
      "grid_auto_flow": null,
      "grid_auto_rows": null,
      "grid_column": null,
      "grid_gap": null,
      "grid_row": null,
      "grid_template_areas": null,
      "grid_template_columns": null,
      "grid_template_rows": null,
      "height": null,
      "justify_content": null,
      "justify_items": null,
      "left": null,
      "margin": null,
      "max_height": null,
      "max_width": null,
      "min_height": null,
      "min_width": null,
      "object_fit": null,
      "object_position": null,
      "order": null,
      "overflow": null,
      "overflow_x": null,
      "overflow_y": null,
      "padding": null,
      "right": null,
      "top": null,
      "visibility": null,
      "width": null
     }
    }
   }
  }
 },
 "nbformat": 4,
 "nbformat_minor": 1
}

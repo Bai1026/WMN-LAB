{
 "cells": [
  {
   "cell_type": "code",
   "execution_count": 63,
   "metadata": {
    "id": "Crd2rvUda7B_"
   },
   "outputs": [],
   "source": [
    "import numpy as np # linear algebra\n",
    "import pandas as pd # data processing, CSV file I/O (e.g. pd.read_csv)\n",
    "import os\n",
    "import matplotlib.pyplot as plt\n",
    "import xgboost as xgb\n",
    "from tqdm.notebook import tqdm\n",
    "\n",
    "# from xgboost import plot_importance, plot_tree\n",
    "\n",
    "# from sklearn.model_selection import TimeSeriesSplit, GridSearchCV\n",
    "from sklearn.metrics import auc, precision_recall_curve\n",
    "from sklearn.metrics import roc_curve, auc\n",
    "from sklearn.metrics import f1_score\n",
    "# from sklearn.metrics import mean_squared_error, mean_absolute_error\n",
    "\n",
    "import torch\n",
    "import random\n",
    "\n",
    "plt.style.use('fivethirtyeight')"
   ]
  },
  {
   "cell_type": "code",
   "execution_count": 64,
   "metadata": {},
   "outputs": [
    {
     "name": "stdout",
     "output_type": "stream",
     "text": [
      "# ex.\r\n",
      "# Now in use: ccc\r\n",
      "# Start time: 03/31 12:00\r\n",
      "# Estimated end time(option): 03/31 18:00\r\n",
      "\r\n",
      "Now in use: \r\n",
      "Start time:  \r\n",
      "Estimated end time(option):  \r\n",
      "\r\n",
      "Next one who want to use: \r\n",
      "Estimated start time:\r\n",
      "Estimated end time(option): \r\n",
      "\r\n"
     ]
    }
   ],
   "source": [
    "!cat ~/user_state"
   ]
  },
  {
   "cell_type": "code",
   "execution_count": 65,
   "metadata": {
    "colab": {
     "base_uri": "https://localhost:8080/"
    },
    "id": "ElQmwPsew9Bi",
    "outputId": "86570616-ff9c-401d-e7c3-7299702aa969"
   },
   "outputs": [
    {
     "name": "stdout",
     "output_type": "stream",
     "text": [
      "Sun Jun 25 23:03:44 2023       \r\n",
      "+---------------------------------------------------------------------------------------+\r\n",
      "| NVIDIA-SMI 530.30.02              Driver Version: 530.30.02    CUDA Version: 12.1     |\r\n",
      "|-----------------------------------------+----------------------+----------------------+\r\n",
      "| GPU  Name                  Persistence-M| Bus-Id        Disp.A | Volatile Uncorr. ECC |\r\n",
      "| Fan  Temp  Perf            Pwr:Usage/Cap|         Memory-Usage | GPU-Util  Compute M. |\r\n",
      "|                                         |                      |               MIG M. |\r\n",
      "|=========================================+======================+======================|\r\n",
      "|   0  NVIDIA GeForce RTX 4090         On | 00000000:01:00.0 Off |                  Off |\r\n",
      "| 30%   41C    P8               43W / 480W|    864MiB / 24564MiB |      0%      Default |\r\n",
      "|                                         |                      |                  N/A |\r\n",
      "+-----------------------------------------+----------------------+----------------------+\r\n",
      "                                                                                         \r\n",
      "+---------------------------------------------------------------------------------------+\r\n",
      "| Processes:                                                                            |\r\n",
      "|  GPU   GI   CI        PID   Type   Process name                            GPU Memory |\r\n",
      "|        ID   ID                                                             Usage      |\r\n",
      "|=======================================================================================|\r\n",
      "|    0   N/A  N/A      1158      G   /usr/lib/xorg/Xorg                            4MiB |\r\n",
      "|    0   N/A  N/A   3073898      C   .../anaconda3/envs/sheng-ru/bin/python      856MiB |\r\n",
      "+---------------------------------------------------------------------------------------+\r\n"
     ]
    }
   ],
   "source": [
    "!nvidia-smi"
   ]
  },
  {
   "cell_type": "code",
   "execution_count": 66,
   "metadata": {
    "id": "PqFfaTJ6oNw3"
   },
   "outputs": [],
   "source": [
    "# Time sequence length and prediction time length\n",
    "seed = 55688\n",
    "time_seq = 20\n",
    "predict_t = 10\n",
    "valid_ratio = 0.2\n",
    "task = 'forecast'"
   ]
  },
  {
   "cell_type": "code",
   "execution_count": 67,
   "metadata": {
    "colab": {
     "base_uri": "https://localhost:8080/",
     "height": 133,
     "referenced_widgets": [
      "a8fda64c546e4b348c749f051194faba",
      "5636d2bb0cd449b48d116d3298d58bee",
      "e8d4d6ecd06a4e5db72690a07218e55b",
      "96b79b33bdcb44be81a3c4d7ac67003e",
      "f50b59266ff241b79ff92690b3639788",
      "ebc772528cf84271998836470aeba36c",
      "678f5fea727e457a8c870f25ff6a05cf",
      "b1d6f2469ad440fc83453f57a549a91e",
      "5bbf1cb462d049ad88d8499bab6cc95b",
      "4d1d9bc4b7cf4c7fa24ead7c520b89ec",
      "a62edc7a241244888ba8a015c9bda9e2",
      "c2a1a91fd6634e5297125ba0837fee03",
      "b5375aa7864748c89a420c181e6c91af",
      "7bcca89101404ec5934817decb555743",
      "0b790cbe3fbb4473a6a2032f3289978c",
      "e7534fee1e8c4b099c1922e2360d5459",
      "40d6481fc76a434684edc487e01598d7",
      "3f3f3722cda848e4bd9d91dab9d5a039",
      "b0bc8f855a78471f8dce833c0fc5c784",
      "73cf02420329491992b68f57829cdbc2",
      "da193c2493f94ffa83f9515c593dec7b",
      "e52a8d7a89ef4e69a51ec0beba114f88"
     ]
    },
    "id": "20Oas-k6bdVU",
    "outputId": "24686519-a87e-4754-8c74-b376967a7109"
   },
   "outputs": [
    {
     "name": "stdout",
     "output_type": "stream",
     "text": [
      "GPU 0: NVIDIA GeForce RTX 4090\n",
      "Loading training data...\n"
     ]
    },
    {
     "data": {
      "application/vnd.jupyter.widget-view+json": {
       "model_id": "11966ac1ac9e4fd195f14d9ecf1ceb15",
       "version_major": 2,
       "version_minor": 0
      },
      "text/plain": [
       "  0%|          | 0/148 [00:00<?, ?it/s]"
      ]
     },
     "metadata": {},
     "output_type": "display_data"
    },
    {
     "name": "stdout",
     "output_type": "stream",
     "text": [
      "Loading testing data...\n"
     ]
    },
    {
     "data": {
      "application/vnd.jupyter.widget-view+json": {
       "model_id": "076690841dfb40a483baaf8aabc0d26f",
       "version_major": 2,
       "version_minor": 0
      },
      "text/plain": [
       "  0%|          | 0/29 [00:00<?, ?it/s]"
      ]
     },
     "metadata": {},
     "output_type": "display_data"
    }
   ],
   "source": [
    "# Setup seed\n",
    "random.seed(seed)\n",
    "\n",
    "# Get GPU\n",
    "device_count = torch.cuda.device_count()\n",
    "num_of_gpus = device_count\n",
    "\n",
    "for i in range(device_count):\n",
    "    print(\"GPU {}: {}\".format(i, torch.cuda.get_device_name(i)))\n",
    "    gpu_id = i\n",
    "\n",
    "# Save best model to \n",
    "save_path = \"/home/wmnlab/Documents/sheng-ru/YU/model\"\n",
    "\n",
    "# Define DataSet\n",
    "dirname = \"/home/wmnlab/Documents/sheng-ru/data/single\"\n",
    "# dirname = \"/home/wmnlab/Documents/sheng-ru/data/single0.5\"\n",
    "dir_list = os.listdir(dirname)\n",
    "dir_list = [f for f in dir_list if ( f.endswith('.csv') and (not 'sm' in f) ) ]\n",
    "\n",
    "train_dates = ['03-26', '04-01']\n",
    "test_dates = ['04-10']\n",
    "\n",
    "def days_in_file(file, dates):\n",
    "    \n",
    "    for date in dates:\n",
    "        if date in file: return True \n",
    "    return False\n",
    "\n",
    "def train_valid_split(L, valid_size=0.2):\n",
    "    \n",
    "    length = len(L)\n",
    "    v_num = int(length*valid_size)\n",
    "    v_files = random.sample(L, v_num)\n",
    "    t_files = list(set(L) - set(v_files))\n",
    "    \n",
    "    return t_files, v_files\n",
    "    \n",
    "# train_dir_list = [f for f in dir_list if ( f.endswith('.csv') and ('All' in f) and days_in_file(f, train_dates) )]\n",
    "# test_dir_list = [f for f in dir_list if ( f.endswith('.csv') and ('All' in f) and days_in_file(f, test_dates) )]\n",
    "\n",
    "train_dir_list, test_dir_list = train_valid_split(dir_list, valid_ratio)\n",
    "train_dir_list += [f for f in os.listdir(dirname) if 'sm' in f]\n",
    "\n",
    "# features = ['LTE_HO', 'MN_HO', 'eNB_to_ENDC', 'gNB_Rel', 'gNB_HO', 'RLF', 'SCG_RLF',\n",
    "#         'num_of_neis', 'RSRP', 'RSRQ', 'RSRP1', 'RSRQ1', 'RSRP2', 'RSRQ2',\n",
    "#         'nr-RSRP', 'nr-RSRQ', 'nr-RSRP1', 'nr-RSRQ1', 'nr-RSRP2', 'nr-RSRQ2' ]\n",
    "features = ['LTE_HO', 'MN_HO', 'eNB_to_ENDC', 'gNB_Rel', 'gNB_HO', 'RLF', 'SCG_RLF',\n",
    "        'num_of_neis', 'RSRP', 'RSRQ', 'RSRP1', 'RSRQ1','nr-RSRP', 'nr-RSRQ', 'nr-RSRP1', 'nr-RSRQ1']\n",
    "# features = ['LTE_HO', 'MN_HO', 'eNB_to_ENDC', 'gNB_Rel', 'gNB_HO', 'RLF', 'SCG_RLF',\n",
    "#         'num_of_neis', 'RSRP', 'RSRQ', 'RSRP1', 'RSRQ1', 'RSRP2', 'RSRQ2']\n",
    "\n",
    "num_of_features = len(features)\n",
    "\n",
    "target = ['LTE_HO', 'MN_HO'] # For eNB HO.\n",
    "# target = ['eNB_to_ENDC'] # Setup gNB\n",
    "# target = ['gNB_Rel', 'gNB_HO'] # For gNB HO.\n",
    "# target = ['RLF'] # For RLF\n",
    "# target = ['SCG_RLF'] # For scg failure\n",
    "# target = ['dl-loss'] # For DL loss\n",
    "# target = ['ul-loss'] # For UL loss\n",
    "\n",
    "def ts_array_create(dirname, dir_list, time_seq):\n",
    "    columns = ['RSRP', 'RSRQ', 'RSRP1', 'RSRQ1', 'RSRP2', 'RSRQ2',\n",
    "               'nr-RSRP', 'nr-RSRQ', 'nr-RSRP1', 'nr-RSRQ1', 'nr-RSRP2', 'nr-RSRQ2']\n",
    "    def reamin_HO_time(y_train):\n",
    "        def f(L):    \n",
    "            for i, e in enumerate(L):\n",
    "                if e: return i+1\n",
    "            return 0\n",
    "\n",
    "        out = []\n",
    "        for a2 in y_train:\n",
    "            a1_out = []\n",
    "            for a1 in a2:\n",
    "                a1_out.append(a1.any())\n",
    "      \n",
    "            out.append(f(a1_out))\n",
    "        return out\n",
    "    \n",
    "    def HO(y_train):\n",
    "        out = []\n",
    "        for a2 in y_train:\n",
    "            if sum(a2.reshape(-1)) == 0: ho = 0\n",
    "            elif sum(a2.reshape(-1)) > 0: ho = 1\n",
    "            out.append(ho)\n",
    "        return out\n",
    "\n",
    "    split_time = []\n",
    "    for i, f in enumerate(tqdm(dir_list)):\n",
    "    \n",
    "        f = os.path.join(dirname, f)\n",
    "        df = pd.read_csv(f)\n",
    "\n",
    "        # preprocess data with ffill method\n",
    "        del df['Timestamp'], df['lat'], df['long'], df['gpsspeed']\n",
    "        # df[columns] = df[columns].replace(0,np.nan)\n",
    "        # df[columns] = df[columns].fillna(method='ffill')\n",
    "        # df.dropna(inplace=True)\n",
    "        \n",
    "        df.replace(np.nan,0); df.replace('-',0)\n",
    "        \n",
    "        X = df[features]\n",
    "        Y = df[target]\n",
    "\n",
    "        Xt_list = []\n",
    "        Yt_list = []\n",
    "\n",
    "        for j in range(time_seq):\n",
    "            X_t = X.shift(periods=-j)\n",
    "            Xt_list.append(X_t)\n",
    "    \n",
    "        for j in range(time_seq,time_seq+predict_t):\n",
    "            Y_t = Y.shift(periods=-(j))\n",
    "            Yt_list.append(Y_t)\n",
    "\n",
    "        # YY = Y.shift(periods=-(0))\n",
    "\n",
    "        X_ts = np.array(Xt_list); X_ts = np.transpose(X_ts, (1,0,2)); X_ts = X_ts[:-(time_seq+predict_t-1),:,:];\n",
    "        Y_ts = np.array(Yt_list); Y_ts = np.transpose(Y_ts, (1,0,2)); Y_ts = Y_ts[:-(time_seq+predict_t-1),:,:];\n",
    "        split_time.append(len(X_ts))\n",
    "\n",
    "        if i == 0:\n",
    "            X_final = X_ts\n",
    "            Y_final = Y_ts\n",
    "        else:\n",
    "            X_final = np.concatenate((X_final,X_ts), axis=0)\n",
    "            Y_final = np.concatenate((Y_final,Y_ts), axis=0)\n",
    "\n",
    "    split_time = [(sum(split_time[:i]), sum(split_time[:i])+x) for i, x in enumerate(split_time)]\n",
    "\n",
    "    if task == 'classification':\n",
    "        return X_final, HO(Y_final), split_time # classification\n",
    "    elif task == 'forecast':\n",
    "        return X_final, reamin_HO_time(Y_final), split_time # forecast HO\n",
    "#         return X_final, np.sum(Y_final, axis=1), split_time # forecase loss\n",
    "\n",
    "print('Loading training data...')\n",
    "X_train, y_train, split_time_train = ts_array_create(dirname, train_dir_list, time_seq)\n",
    "X_train_2d = X_train.reshape(-1, time_seq*num_of_features)\n",
    "\n",
    "print('Loading testing data...')\n",
    "X_test, y_test, split_time_test = ts_array_create(dirname, test_dir_list, time_seq)\n",
    "X_test_2d = X_test.reshape(-1, time_seq*num_of_features)\n",
    "\n",
    "train_data = xgb.DMatrix(X_train_2d, label=y_train)\n",
    "test_data = xgb.DMatrix(X_test_2d, label=y_test)"
   ]
  },
  {
   "cell_type": "code",
   "execution_count": 68,
   "metadata": {},
   "outputs": [
    {
     "data": {
      "text/plain": [
       "((38751, 20, 16), (38751, 320))"
      ]
     },
     "execution_count": 68,
     "metadata": {},
     "output_type": "execute_result"
    }
   ],
   "source": [
    "X_train.shape, X_train_2d.shape"
   ]
  },
  {
   "cell_type": "code",
   "execution_count": 69,
   "metadata": {
    "id": "1tK2m5iv2nJ4"
   },
   "outputs": [],
   "source": [
    "# train_dir_list, test_dir_list"
   ]
  },
  {
   "cell_type": "code",
   "execution_count": 70,
   "metadata": {
    "id": "iWYmCLBkAAZA"
   },
   "outputs": [],
   "source": [
    "# Parameters\n",
    "if task == 'forecast':\n",
    "    params = {\"objective\": \"reg:squarederror\", \"tree_method\": \"gpu_hist\", 'max_depth': 20, 'eval_metric': ['rmse', 'mae'], 'seed': seed}\n",
    "elif task == 'classification':\n",
    "    params = {'objective': 'binary:logistic', \"tree_method\": \"gpu_hist\", 'max_depth': 20, 'eta': 0.1,\n",
    "              'seed': seed,'eval_metric': ['error','logloss','aucpr']}\n",
    "n = 600"
   ]
  },
  {
   "cell_type": "code",
   "execution_count": 71,
   "metadata": {
    "colab": {
     "base_uri": "https://localhost:8080/"
    },
    "id": "ifdrrI3W3LQh",
    "outputId": "b9101f06-8a85-42c3-d3f2-123fe0630636"
   },
   "outputs": [],
   "source": [
    "evals_result = {}\n",
    "model = xgb.train(\n",
    "    params=params,\n",
    "    dtrain=train_data,\n",
    "    num_boost_round=n,\n",
    "    evals=[(train_data, 'train'), (test_data, 'valid')],\n",
    "    evals_result=evals_result,\n",
    "    early_stopping_rounds=5,\n",
    "    verbose_eval=False\n",
    ")\n"
   ]
  },
  {
   "cell_type": "code",
   "execution_count": 72,
   "metadata": {},
   "outputs": [],
   "source": [
    "# # plot evaluation metrics\n",
    "# epochs = len(evals_result['train']['error'])\n",
    "# x_axis = range(0, epochs)\n",
    "\n",
    "# fig, ax = plt.subplots()\n",
    "# ax.plot(x_axis, evals_result['train']['error'], label='Train')\n",
    "# ax.plot(x_axis, evals_result['valid']['error'], label='valid')\n",
    "# ax.legend()\n",
    "# plt.ylabel('Error')\n",
    "# plt.title('XGBoost Error')\n",
    "\n",
    "# # plot log loss\n",
    "# fig, ax = plt.subplots()\n",
    "# ax.plot(x_axis, evals_result['train']['logloss'], label='Train')\n",
    "# ax.plot(x_axis, evals_result['valid']['logloss'], label='valid')\n",
    "# ax.legend()\n",
    "# plt.ylabel('Log Loss')\n",
    "# plt.title('XGBoost Log Loss')\n",
    "\n",
    "# # plot log loss\n",
    "# fig, ax = plt.subplots()\n",
    "# ax.plot(x_axis, evals_result['train']['aucpr'], label='Train')\n",
    "# ax.plot(x_axis, evals_result['valid']['aucpr'], label='valid')\n",
    "# ax.legend()\n",
    "# plt.ylabel('aucpr')\n",
    "# plt.title('XGBoost aucpr')\n",
    "\n",
    "# plt.show()"
   ]
  },
  {
   "cell_type": "code",
   "execution_count": 73,
   "metadata": {},
   "outputs": [],
   "source": [
    "preds = model.predict(test_data)"
   ]
  },
  {
   "cell_type": "code",
   "execution_count": 74,
   "metadata": {
    "colab": {
     "base_uri": "https://localhost:8080/",
     "height": 496
    },
    "id": "iG6MFd4MFE6b",
    "outputId": "16455e4a-d236-45bd-8e76-d8c889425148"
   },
   "outputs": [
    {
     "name": "stdout",
     "output_type": "stream",
     "text": [
      "RMSE is 2.82. MAE is 2.033726665369372\n"
     ]
    }
   ],
   "source": [
    "# plot all data point on a plot\n",
    "ths = [0.2,0.3,0.4,0.5,0.6,0.7,0.8]\n",
    "\n",
    "if task == 'forecast':\n",
    "    rmse = round(np.sqrt(np.mean((preds-y_test)**2)), 2)\n",
    "    mae = np.mean(np.abs(preds-np.array(y_test)))\n",
    "    print(f'RMSE is {rmse}. MAE is {mae}')\n",
    "elif task == 'classification':\n",
    "    # PR and AUCPR\n",
    "    precision, recall, thresholds = precision_recall_curve(y_test, preds)\n",
    "    aucpr = auc(recall, precision)\n",
    "    \n",
    "    # ROC & AUC\n",
    "    fpr, tpr, thresholds = roc_curve(y_test, preds)\n",
    "    roc_auc = auc(fpr, tpr)\n",
    "    \n",
    "    # Manually count\n",
    "    for threshold in ths:\n",
    "        TP, FP, TN, FN = 0,0,0,0\n",
    "        anses = np.where(preds<threshold, 0, 1)\n",
    "        for ans, y in zip(anses, y_test):\n",
    "            if ans == y:\n",
    "                if ans == 1: TP += 1\n",
    "                elif ans == 0: TN +=1\n",
    "            elif ans != y:\n",
    "                if ans == 1: FP += 1\n",
    "                elif ans == 0: FN +=1\n",
    "        acc=(TP+TN)/(TP+TN+FP+FN)*100\n",
    "        try:\n",
    "            p, r = round(TP/(TP+FP), 2), round(TP/(TP+FN), 2)\n",
    "            f1 = round(2*(p*r)/(p+r), 2)\n",
    "        except:\n",
    "            p, r, f1 = 'DNF', 'DNF', 'DNF'\n",
    "        s = f'th: {threshold}; Acc: {acc}; precision: {p}; recall:{r}; f1:{f1}'\n",
    "        print(s)\n",
    "    \n",
    "    # 初始化閥值列表和 F1 Score 列表\n",
    "    thresholds = []\n",
    "    f1_scores = []\n",
    "\n",
    "    # 循環遍歷閥值，計算 F1 Score\n",
    "    for threshold in range(5, 101, 5):\n",
    "        threshold /= 100\n",
    "        y_pred_threshold = [1 if pred >= threshold else 0 for pred in preds]\n",
    "        f1_scores.append(f1_score(y_test, y_pred_threshold))\n",
    "        thresholds.append(threshold)\n",
    "\n",
    "    # 繪製閥值與 F1 Score 的關係圖\n",
    "    plt.figure()\n",
    "    plt.plot(thresholds, f1_scores, lw=2, label='F1 Score')\n",
    "    plt.xlabel('Threshold')\n",
    "    plt.ylabel('F1 Score')\n",
    "    plt.title('Threshold-F1 Score Relationship')\n",
    "    plt.legend()\n",
    "    plt.show()\n",
    "    \n",
    "    plt.figure()\n",
    "    plt.plot(recall, precision, lw=2, label='PR Curve (AUCPR = %0.2f)' % aucpr)\n",
    "    plt.xlabel('Recall')\n",
    "    plt.ylabel('Precision')\n",
    "    plt.title('Precision-Recall Curve')\n",
    "    plt.legend()\n",
    "    plt.show()\n",
    "    \n",
    "    print(f'ROC Auc is {roc_auc}.')\n",
    "    plt.figure()\n",
    "    plt.plot(fpr, tpr, color='darkorange', lw=2, label='ROC curve (area = %0.2f)' % roc_auc)\n",
    "    plt.plot([0, 1], [0, 1], color='navy', lw=2, linestyle='--')\n",
    "    plt.xlim([0.0, 1.0])\n",
    "    plt.ylim([0.0, 1.05])\n",
    "    plt.title(f'ROC curve')\n",
    "    plt.xlabel('False Positive Rate')\n",
    "    plt.ylabel('True Positive Rate')\n",
    "    plt.legend(loc=\"lower right\")\n",
    "    plt.show()"
   ]
  },
  {
   "cell_type": "code",
   "execution_count": 75,
   "metadata": {},
   "outputs": [],
   "source": [
    "# 将模型预测错误的样本保存到一个列表中\n",
    "errors = []\n",
    "trues = []\n",
    "for i in range(len(y_test)):\n",
    "    if preds[i] > 0.5 and y_test[i] == 0:\n",
    "        errors.append(X_test[i])\n",
    "        trues.append(0)\n",
    "    elif preds[i] <= 0.5 and y_test[i] == 1:\n",
    "        errors.append(X_test[i])\n",
    "        trues.append(1)\n",
    "# # 保存到文件中\n",
    "# with open(\"error_samples.txt\", \"w\") as f:\n",
    "#     for sample in errors:\n",
    "#         f.write(str(sample) + \"\\n\")\n"
   ]
  },
  {
   "cell_type": "code",
   "execution_count": 76,
   "metadata": {},
   "outputs": [
    {
     "data": {
      "image/png": "[encoded data removed]",
      "text/plain": [
       "<Figure size 1400x250 with 2 Axes>"
      ]
     },
     "metadata": {},
     "output_type": "display_data"
    }
   ],
   "source": [
    "# visulized on many sample on validation data\n",
    "sample_value = 2\n",
    "# samples = random.sample(split_time_test, sample_value)\n",
    "samples = [split_time_test[8], split_time_test[9]]\n",
    "\n",
    "fig, axs = plt.subplots(1, sample_value, figsize=(14, 2.5))\n",
    "\n",
    "# y_test\n",
    "# preds\n",
    "\n",
    "for i in range(sample_value):\n",
    "    true = [y_test[i] for i in range(samples[i][0], samples[i][1])]\n",
    "    axs[i].plot(true, label='true')\n",
    "    prediciton = [preds[i] for i in range(samples[i][0], samples[i][1])]\n",
    "    axs[i].plot(prediciton, label='pred')\n",
    "\n",
    "plt.legend()\n",
    "plt.show()"
   ]
  },
  {
   "cell_type": "code",
   "execution_count": 77,
   "metadata": {},
   "outputs": [
    {
     "data": {
      "text/plain": [
       "['2023-04-17_qc02_exp2_#01_B1B7.csv', '2023-04-01_qc03_exp1_#05_B8.csv']"
      ]
     },
     "execution_count": 77,
     "metadata": {},
     "output_type": "execute_result"
    }
   ],
   "source": [
    "A = [test_dir_list[split_time_test.index(s)] for s in samples]\n",
    "A"
   ]
  },
  {
   "cell_type": "code",
   "execution_count": 78,
   "metadata": {
    "colab": {
     "base_uri": "https://localhost:8080/",
     "height": 278
    },
    "id": "9xkk_f1iRe-G",
    "outputId": "49afacff-8055-42f2-8b24-1e3a717f206f"
   },
   "outputs": [
    {
     "data": {
      "image/png": "[encoded data removed]",
      "text/plain": [
       "<Figure size 1400x250 with 2 Axes>"
      ]
     },
     "metadata": {},
     "output_type": "display_data"
    }
   ],
   "source": [
    "# visulized on many sample on validation data\n",
    "sample_value = 2\n",
    "# samples = random.sample(split_time_test, sample_value)\n",
    "samples = [split_time_test[0], split_time_test[1]]\n",
    "fig, axs = plt.subplots(1, sample_value, figsize=(14, 2.5))\n",
    "\n",
    "# y_test\n",
    "# preds\n",
    "\n",
    "for i in range(sample_value):\n",
    "    true = [y_test[i] for i in range(samples[i][0], samples[i][1])]\n",
    "    axs[i].plot(true, label='true')\n",
    "    prediciton = [preds[i] for i in range(samples[i][0], samples[i][1])]\n",
    "    axs[i].plot(prediciton, label='pred')\n",
    "\n",
    "plt.legend()\n",
    "plt.show()"
   ]
  },
  {
   "cell_type": "code",
   "execution_count": 79,
   "metadata": {},
   "outputs": [
    {
     "data": {
      "text/plain": [
       "['2023-04-01_qc00_exp2_#04_B1B3.csv', '2023-04-17_qc02_exp4_#03_All.csv']"
      ]
     },
     "execution_count": 79,
     "metadata": {},
     "output_type": "execute_result"
    }
   ],
   "source": [
    "A = [test_dir_list[split_time_test.index(s)] for s in samples]\n",
    "A"
   ]
  },
  {
   "cell_type": "code",
   "execution_count": 80,
   "metadata": {
    "colab": {
     "base_uri": "https://localhost:8080/",
     "height": 278
    },
    "id": "J7iYV79uxHjd",
    "outputId": "c5b4b1cf-e26e-4679-da90-26a55f9512ba"
   },
   "outputs": [
    {
     "data": {
      "image/png": "[encoded data removed]",
      "text/plain": [
       "<Figure size 1400x250 with 2 Axes>"
      ]
     },
     "metadata": {},
     "output_type": "display_data"
    }
   ],
   "source": [
    "# Check whethet it do good on training data\n",
    "sample_value = 2\n",
    "samples = random.sample(split_time_train, sample_value)\n",
    "preds_train = model.predict(train_data)\n",
    "\n",
    "fig, axs = plt.subplots(1, sample_value, figsize=(14, 2.5))\n",
    "\n",
    "for i in range(sample_value):\n",
    "    true = [y_train[i] for i in range(samples[i][0], samples[i][1])]\n",
    "    axs[i].plot(true, label='true')\n",
    "    prediciton = [preds_train[i] for i in range(samples[i][0], samples[i][1])]\n",
    "    axs[i].plot(prediciton, label='pred')\n",
    "\n",
    "plt.legend()\n",
    "plt.show()"
   ]
  },
  {
   "cell_type": "markdown",
   "metadata": {},
   "source": [
    "# grid search"
   ]
  },
  {
   "cell_type": "markdown",
   "metadata": {},
   "source": [
    "## Search on task"
   ]
  },
  {
   "cell_type": "code",
   "execution_count": 81,
   "metadata": {},
   "outputs": [
    {
     "name": "stdout",
     "output_type": "stream",
     "text": [
      "predict_t 1\n"
     ]
    },
    {
     "data": {
      "application/vnd.jupyter.widget-view+json": {
       "model_id": "54c5c91b2f074452ae295ee7d7d07561",
       "version_major": 2,
       "version_minor": 0
      },
      "text/plain": [
       "  0%|          | 0/148 [00:00<?, ?it/s]"
      ]
     },
     "metadata": {},
     "output_type": "display_data"
    },
    {
     "data": {
      "application/vnd.jupyter.widget-view+json": {
       "model_id": "b3337941314346739c9ba8df38f9a1be",
       "version_major": 2,
       "version_minor": 0
      },
      "text/plain": [
       "  0%|          | 0/29 [00:00<?, ?it/s]"
      ]
     },
     "metadata": {},
     "output_type": "display_data"
    },
    {
     "name": "stdout",
     "output_type": "stream",
     "text": [
      "train 0: 38580 train 1: 1616\n",
      "th: 0.5; Acc: 96.87298100529785; precision: 0.7; recall:0.46; f1:0.56\n",
      "PR Curve (AUCPR = 0.65)\n",
      "ROC Auc is 0.9672392566150272.\n",
      "============================================================\n",
      "th: 0.5; Acc: 96.80837317482879; precision: 0.7; recall:0.43; f1:0.53\n",
      "PR Curve (AUCPR = 0.64)\n",
      "ROC Auc is 0.9646659438120841.\n",
      "============================================================\n",
      "th: 0.5; Acc: 97.01511823232975; precision: 0.74; recall:0.46; f1:0.57\n",
      "PR Curve (AUCPR = 0.65)\n",
      "ROC Auc is 0.9657824075678585.\n",
      "============================================================\n",
      "th: 0.5; Acc: 96.7050006460783; precision: 0.67; recall:0.43; f1:0.52\n",
      "PR Curve (AUCPR = 0.64)\n",
      "ROC Auc is 0.9651552734552286.\n",
      "============================================================\n",
      "th: 0.5; Acc: 96.79545160873498; precision: 0.69; recall:0.43; f1:0.53\n",
      "PR Curve (AUCPR = 0.65)\n",
      "ROC Auc is 0.9675140403775347.\n",
      "============================================================\n",
      "th: 0.5; Acc: 96.98927510014214; precision: 0.73; recall:0.45; f1:0.56\n",
      "PR Curve (AUCPR = 0.64)\n",
      "ROC Auc is 0.9661227928592528.\n",
      "============================================================\n",
      "th: 0.5; Acc: 96.97635353404833; precision: 0.73; recall:0.45; f1:0.56\n",
      "PR Curve (AUCPR = 0.66)\n",
      "ROC Auc is 0.9687761477792025.\n",
      "============================================================\n",
      "th: 0.5; Acc: 97.02803979842358; precision: 0.73; recall:0.46; f1:0.56\n",
      "PR Curve (AUCPR = 0.65)\n",
      "ROC Auc is 0.9676114112002852.\n",
      "============================================================\n",
      "th: 0.5; Acc: 96.88590257139165; precision: 0.73; recall:0.42; f1:0.53\n",
      "PR Curve (AUCPR = 0.67)\n",
      "ROC Auc is 0.9684394757818959.\n",
      "============================================================\n",
      "th: 0.5; Acc: 97.00219666623595; precision: 0.74; recall:0.44; f1:0.55\n",
      "PR Curve (AUCPR = 0.68)\n",
      "ROC Auc is 0.968873931190185.\n",
      "============================================================\n",
      "th: 0.5; Acc: 96.9505104018607; precision: 0.75; recall:0.42; f1:0.54\n",
      "PR Curve (AUCPR = 0.66)\n",
      "ROC Auc is 0.967432141613484.\n",
      "============================================================\n",
      "th: 0.5; Acc: 96.9505104018607; precision: 0.75; recall:0.42; f1:0.54\n",
      "PR Curve (AUCPR = 0.67)\n",
      "ROC Auc is 0.9671022773220054.\n",
      "============================================================\n",
      "predict_t 3\n"
     ]
    },
    {
     "data": {
      "application/vnd.jupyter.widget-view+json": {
       "model_id": "0beca192186247f8bd8232b108163e86",
       "version_major": 2,
       "version_minor": 0
      },
      "text/plain": [
       "  0%|          | 0/148 [00:00<?, ?it/s]"
      ]
     },
     "metadata": {},
     "output_type": "display_data"
    },
    {
     "data": {
      "application/vnd.jupyter.widget-view+json": {
       "model_id": "a96cfa65ea8144ef8de1199658b10587",
       "version_major": 2,
       "version_minor": 0
      },
      "text/plain": [
       "  0%|          | 0/29 [00:00<?, ?it/s]"
      ]
     },
     "metadata": {},
     "output_type": "display_data"
    },
    {
     "name": "stdout",
     "output_type": "stream",
     "text": [
      "train 0: 35364 train 1: 4536\n",
      "th: 0.5; Acc: 92.61814867855747; precision: 0.74; recall:0.6; f1:0.66\n",
      "PR Curve (AUCPR = 0.73)\n",
      "ROC Auc is 0.9471370660118004.\n",
      "============================================================\n",
      "th: 0.5; Acc: 92.39682333029553; precision: 0.72; recall:0.59; f1:0.65\n",
      "PR Curve (AUCPR = 0.72)\n",
      "ROC Auc is 0.9479839705619655.\n",
      "============================================================\n",
      "th: 0.5; Acc: 92.44889988282776; precision: 0.74; recall:0.57; f1:0.64\n",
      "PR Curve (AUCPR = 0.73)\n",
      "ROC Auc is 0.9467598041333714.\n",
      "============================================================\n",
      "th: 0.5; Acc: 92.56607212602526; precision: 0.74; recall:0.58; f1:0.65\n",
      "PR Curve (AUCPR = 0.74)\n",
      "ROC Auc is 0.9493148666330893.\n",
      "============================================================\n",
      "th: 0.5; Acc: 92.76135919802108; precision: 0.76; recall:0.58; f1:0.66\n",
      "PR Curve (AUCPR = 0.74)\n",
      "ROC Auc is 0.9501977239178229.\n",
      "============================================================\n",
      "th: 0.5; Acc: 92.63116781669054; precision: 0.75; recall:0.58; f1:0.65\n",
      "PR Curve (AUCPR = 0.74)\n",
      "ROC Auc is 0.9489621106544558.\n",
      "============================================================\n",
      "th: 0.5; Acc: 92.96966540814998; precision: 0.76; recall:0.6; f1:0.67\n",
      "PR Curve (AUCPR = 0.75)\n",
      "ROC Auc is 0.9529795466021601.\n",
      "============================================================\n",
      "th: 0.5; Acc: 93.09985678948054; precision: 0.77; recall:0.61; f1:0.68\n",
      "PR Curve (AUCPR = 0.75)\n",
      "ROC Auc is 0.9527614924608889.\n",
      "============================================================\n",
      "th: 0.5; Acc: 92.8785314412186; precision: 0.76; recall:0.59; f1:0.66\n",
      "PR Curve (AUCPR = 0.76)\n",
      "ROC Auc is 0.9540059729906291.\n",
      "============================================================\n",
      "th: 0.5; Acc: 92.98268454628304; precision: 0.77; recall:0.59; f1:0.67\n",
      "PR Curve (AUCPR = 0.76)\n",
      "ROC Auc is 0.954843042936271.\n",
      "============================================================\n",
      "th: 0.5; Acc: 92.81343575055331; precision: 0.77; recall:0.56; f1:0.65\n",
      "PR Curve (AUCPR = 0.76)\n",
      "ROC Auc is 0.9534652309648812.\n",
      "============================================================\n",
      "th: 0.5; Acc: 93.0217419606822; precision: 0.78; recall:0.58; f1:0.67\n",
      "PR Curve (AUCPR = 0.76)\n",
      "ROC Auc is 0.9540030709761795.\n",
      "============================================================\n",
      "predict_t 5\n"
     ]
    },
    {
     "data": {
      "application/vnd.jupyter.widget-view+json": {
       "model_id": "20916a039148436880d1068140d57f4a",
       "version_major": 2,
       "version_minor": 0
      },
      "text/plain": [
       "  0%|          | 0/148 [00:00<?, ?it/s]"
      ]
     },
     "metadata": {},
     "output_type": "display_data"
    },
    {
     "data": {
      "application/vnd.jupyter.widget-view+json": {
       "model_id": "87999446cc764e5cbe35c6f7b1f7a2a9",
       "version_major": 2,
       "version_minor": 0
      },
      "text/plain": [
       "  0%|          | 0/29 [00:00<?, ?it/s]"
      ]
     },
     "metadata": {},
     "output_type": "display_data"
    },
    {
     "name": "stdout",
     "output_type": "stream",
     "text": [
      "train 0: 32628 train 1: 6976\n",
      "th: 0.5; Acc: 89.19060737242556; precision: 0.74; recall:0.63; f1:0.68\n",
      "PR Curve (AUCPR = 0.77)\n",
      "ROC Auc is 0.9354005156088355.\n",
      "============================================================\n",
      "th: 0.5; Acc: 89.47920766102584; precision: 0.75; recall:0.63; f1:0.68\n",
      "PR Curve (AUCPR = 0.77)\n",
      "ROC Auc is 0.9351989623509999.\n",
      "============================================================\n",
      "th: 0.5; Acc: 89.51856224583497; precision: 0.75; recall:0.64; f1:0.69\n",
      "PR Curve (AUCPR = 0.77)\n",
      "ROC Auc is 0.9370797815553158.\n",
      "============================================================\n",
      "th: 0.5; Acc: 89.20372556736194; precision: 0.74; recall:0.63; f1:0.68\n",
      "PR Curve (AUCPR = 0.77)\n",
      "ROC Auc is 0.9359663577178704.\n",
      "============================================================\n",
      "th: 0.5; Acc: 89.5579168306441; precision: 0.75; recall:0.65; f1:0.7\n",
      "PR Curve (AUCPR = 0.77)\n",
      "ROC Auc is 0.9380748000316055.\n",
      "============================================================\n",
      "th: 0.5; Acc: 89.49232585596222; precision: 0.75; recall:0.64; f1:0.69\n",
      "PR Curve (AUCPR = 0.78)\n",
      "ROC Auc is 0.9399448237907724.\n",
      "============================================================\n",
      "th: 0.5; Acc: 90.09576282303556; precision: 0.77; recall:0.65; f1:0.7\n",
      "PR Curve (AUCPR = 0.79)\n",
      "ROC Auc is 0.9407692972027394.\n",
      "============================================================\n",
      "th: 0.5; Acc: 90.12199921290829; precision: 0.77; recall:0.66; f1:0.71\n",
      "PR Curve (AUCPR = 0.79)\n",
      "ROC Auc is 0.9427057014650568.\n",
      "============================================================\n",
      "th: 0.5; Acc: 90.05640823822641; precision: 0.77; recall:0.65; f1:0.7\n",
      "PR Curve (AUCPR = 0.80)\n",
      "ROC Auc is 0.9454234547813255.\n",
      "============================================================\n",
      "th: 0.5; Acc: 90.22694477239932; precision: 0.77; recall:0.67; f1:0.72\n",
      "PR Curve (AUCPR = 0.80)\n",
      "ROC Auc is 0.9469762187827883.\n",
      "============================================================\n",
      "th: 0.5; Acc: 90.06952643316279; precision: 0.77; recall:0.65; f1:0.7\n",
      "PR Curve (AUCPR = 0.80)\n",
      "ROC Auc is 0.9464616550382112.\n",
      "============================================================\n",
      "th: 0.5; Acc: 89.83339892430801; precision: 0.77; recall:0.64; f1:0.7\n",
      "PR Curve (AUCPR = 0.80)\n",
      "ROC Auc is 0.94689915767965.\n",
      "============================================================\n",
      "predict_t 7\n"
     ]
    },
    {
     "data": {
      "application/vnd.jupyter.widget-view+json": {
       "model_id": "d58d2a910a6643da86d0bb4a3d4d2773",
       "version_major": 2,
       "version_minor": 0
      },
      "text/plain": [
       "  0%|          | 0/148 [00:00<?, ?it/s]"
      ]
     },
     "metadata": {},
     "output_type": "display_data"
    },
    {
     "data": {
      "application/vnd.jupyter.widget-view+json": {
       "model_id": "9b948453c9fe48bfa9851aa2b1c72228",
       "version_major": 2,
       "version_minor": 0
      },
      "text/plain": [
       "  0%|          | 0/29 [00:00<?, ?it/s]"
      ]
     },
     "metadata": {},
     "output_type": "display_data"
    },
    {
     "name": "stdout",
     "output_type": "stream",
     "text": [
      "train 0: 30216 train 1: 9092\n",
      "th: 0.5; Acc: 87.0720423000661; precision: 0.75; recall:0.69; f1:0.72\n",
      "PR Curve (AUCPR = 0.79)\n",
      "ROC Auc is 0.929366096833251.\n",
      "============================================================\n",
      "th: 0.5; Acc: 87.0720423000661; precision: 0.75; recall:0.69; f1:0.72\n",
      "PR Curve (AUCPR = 0.80)\n",
      "ROC Auc is 0.9302000181387492.\n",
      "============================================================\n",
      "th: 0.5; Acc: 87.41573033707866; precision: 0.75; recall:0.71; f1:0.73\n",
      "PR Curve (AUCPR = 0.80)\n",
      "ROC Auc is 0.9348317400440557.\n",
      "============================================================\n",
      "th: 0.5; Acc: 87.42894910773298; precision: 0.76; recall:0.7; f1:0.73\n",
      "PR Curve (AUCPR = 0.79)\n",
      "ROC Auc is 0.9322325572100759.\n",
      "============================================================\n",
      "th: 0.5; Acc: 87.70654329147389; precision: 0.76; recall:0.71; f1:0.73\n",
      "PR Curve (AUCPR = 0.81)\n",
      "ROC Auc is 0.935290444799021.\n",
      "============================================================\n",
      "th: 0.5; Acc: 87.04560475875743; precision: 0.75; recall:0.69; f1:0.72\n",
      "PR Curve (AUCPR = 0.81)\n",
      "ROC Auc is 0.9350824448420623.\n",
      "============================================================\n",
      "th: 0.5; Acc: 87.90482485128884; precision: 0.76; recall:0.72; f1:0.74\n",
      "PR Curve (AUCPR = 0.81)\n",
      "ROC Auc is 0.9357532807309608.\n",
      "============================================================\n",
      "th: 0.5; Acc: 87.7990746860542; precision: 0.76; recall:0.71; f1:0.73\n",
      "PR Curve (AUCPR = 0.80)\n",
      "ROC Auc is 0.93506606424499.\n",
      "============================================================\n",
      "th: 0.5; Acc: 88.24851288830139; precision: 0.77; recall:0.72; f1:0.74\n",
      "PR Curve (AUCPR = 0.82)\n",
      "ROC Auc is 0.9408193526618613.\n",
      "============================================================\n",
      "th: 0.5; Acc: 88.14276272306675; precision: 0.77; recall:0.72; f1:0.74\n",
      "PR Curve (AUCPR = 0.81)\n",
      "ROC Auc is 0.9399175071209962.\n",
      "============================================================\n",
      "th: 0.5; Acc: 88.26173165895572; precision: 0.77; recall:0.72; f1:0.74\n",
      "PR Curve (AUCPR = 0.83)\n",
      "ROC Auc is 0.9408396242512.\n",
      "============================================================\n",
      "th: 0.5; Acc: 88.08988764044943; precision: 0.77; recall:0.72; f1:0.74\n",
      "PR Curve (AUCPR = 0.82)\n",
      "ROC Auc is 0.9413783105138646.\n",
      "============================================================\n",
      "predict_t 9\n"
     ]
    },
    {
     "data": {
      "application/vnd.jupyter.widget-view+json": {
       "model_id": "8446d9d3278a4ebf831af5d7cda876f5",
       "version_major": 2,
       "version_minor": 0
      },
      "text/plain": [
       "  0%|          | 0/148 [00:00<?, ?it/s]"
      ]
     },
     "metadata": {},
     "output_type": "display_data"
    },
    {
     "data": {
      "application/vnd.jupyter.widget-view+json": {
       "model_id": "bc6226866d1f472db385f97cda7dc02d",
       "version_major": 2,
       "version_minor": 0
      },
      "text/plain": [
       "  0%|          | 0/29 [00:00<?, ?it/s]"
      ]
     },
     "metadata": {},
     "output_type": "display_data"
    },
    {
     "name": "stdout",
     "output_type": "stream",
     "text": [
      "train 0: 28120 train 1: 10892\n",
      "th: 0.5; Acc: 86.01305448248301; precision: 0.76; recall:0.75; f1:0.75\n",
      "PR Curve (AUCPR = 0.81)\n",
      "ROC Auc is 0.928554612752493.\n",
      "============================================================\n",
      "th: 0.5; Acc: 85.99973358199014; precision: 0.76; recall:0.76; f1:0.76\n",
      "PR Curve (AUCPR = 0.82)\n",
      "ROC Auc is 0.9280380897368375.\n",
      "============================================================\n",
      "th: 0.5; Acc: 86.98548021846277; precision: 0.77; recall:0.77; f1:0.77\n",
      "PR Curve (AUCPR = 0.83)\n",
      "ROC Auc is 0.9359385775342739.\n",
      "============================================================\n",
      "th: 0.5; Acc: 86.49260690022645; precision: 0.77; recall:0.76; f1:0.76\n",
      "PR Curve (AUCPR = 0.83)\n",
      "ROC Auc is 0.9329620042237177.\n",
      "============================================================\n",
      "th: 0.5; Acc: 87.03876382043426; precision: 0.77; recall:0.78; f1:0.77\n",
      "PR Curve (AUCPR = 0.84)\n",
      "ROC Auc is 0.9357690324732533.\n",
      "============================================================\n",
      "th: 0.5; Acc: 86.55921140269082; precision: 0.77; recall:0.76; f1:0.76\n",
      "PR Curve (AUCPR = 0.83)\n",
      "ROC Auc is 0.9331003446722804.\n",
      "============================================================\n",
      "th: 0.5; Acc: 86.59917410416944; precision: 0.78; recall:0.75; f1:0.76\n",
      "PR Curve (AUCPR = 0.83)\n",
      "ROC Auc is 0.9328054610845544.\n",
      "============================================================\n",
      "th: 0.5; Acc: 87.15865192487013; precision: 0.78; recall:0.77; f1:0.77\n",
      "PR Curve (AUCPR = 0.83)\n",
      "ROC Auc is 0.9354658276555384.\n",
      "============================================================\n",
      "th: 0.5; Acc: 87.42506993472759; precision: 0.78; recall:0.78; f1:0.78\n",
      "PR Curve (AUCPR = 0.85)\n",
      "ROC Auc is 0.9403401614804022.\n",
      "============================================================\n",
      "th: 0.5; Acc: 87.33182363127747; precision: 0.78; recall:0.78; f1:0.78\n",
      "PR Curve (AUCPR = 0.85)\n",
      "ROC Auc is 0.9398980094577714.\n",
      "============================================================\n",
      "th: 0.5; Acc: 87.10536832289863; precision: 0.78; recall:0.77; f1:0.77\n",
      "PR Curve (AUCPR = 0.84)\n",
      "ROC Auc is 0.937881411377687.\n",
      "============================================================\n",
      "th: 0.5; Acc: 87.06540562142001; precision: 0.78; recall:0.77; f1:0.77\n",
      "PR Curve (AUCPR = 0.84)\n",
      "ROC Auc is 0.9390944906869834.\n",
      "============================================================\n",
      "predict_t 11\n"
     ]
    },
    {
     "data": {
      "application/vnd.jupyter.widget-view+json": {
       "model_id": "2d004afea49142c58aff5b9b29530d29",
       "version_major": 2,
       "version_minor": 0
      },
      "text/plain": [
       "  0%|          | 0/148 [00:00<?, ?it/s]"
      ]
     },
     "metadata": {},
     "output_type": "display_data"
    },
    {
     "data": {
      "application/vnd.jupyter.widget-view+json": {
       "model_id": "b160aab085c04ff1a8630c710c16e26b",
       "version_major": 2,
       "version_minor": 0
      },
      "text/plain": [
       "  0%|          | 0/29 [00:00<?, ?it/s]"
      ]
     },
     "metadata": {},
     "output_type": "display_data"
    },
    {
     "name": "stdout",
     "output_type": "stream",
     "text": [
      "train 0: 26280 train 1: 12436\n",
      "th: 0.5; Acc: 85.7296281380051; precision: 0.78; recall:0.79; f1:0.78\n",
      "PR Curve (AUCPR = 0.85)\n",
      "ROC Auc is 0.9287843037837743.\n",
      "============================================================\n",
      "th: 0.5; Acc: 85.54168344744261; precision: 0.77; recall:0.79; f1:0.78\n",
      "PR Curve (AUCPR = 0.85)\n",
      "ROC Auc is 0.9302442888531826.\n",
      "============================================================\n",
      "th: 0.5; Acc: 85.48798496442475; precision: 0.77; recall:0.79; f1:0.78\n",
      "PR Curve (AUCPR = 0.85)\n",
      "ROC Auc is 0.9323137415208935.\n",
      "============================================================\n",
      "th: 0.5; Acc: 85.97127131158545; precision: 0.78; recall:0.8; f1:0.79\n",
      "PR Curve (AUCPR = 0.85)\n",
      "ROC Auc is 0.9334832692325865.\n",
      "============================================================\n",
      "th: 0.5; Acc: 86.05181903611224; precision: 0.78; recall:0.8; f1:0.79\n",
      "PR Curve (AUCPR = 0.87)\n",
      "ROC Auc is 0.9369338097740958.\n",
      "============================================================\n",
      "th: 0.5; Acc: 86.34716069271043; precision: 0.78; recall:0.81; f1:0.79\n",
      "PR Curve (AUCPR = 0.86)\n",
      "ROC Auc is 0.9361410905066918.\n",
      "============================================================\n",
      "th: 0.5; Acc: 86.22633910592026; precision: 0.79; recall:0.8; f1:0.79\n",
      "PR Curve (AUCPR = 0.85)\n",
      "ROC Auc is 0.934012373296073.\n",
      "============================================================\n",
      "th: 0.5; Acc: 86.56195462478185; precision: 0.79; recall:0.81; f1:0.8\n",
      "PR Curve (AUCPR = 0.86)\n",
      "ROC Auc is 0.9352690667272319.\n",
      "============================================================\n",
      "th: 0.5; Acc: 86.56195462478185; precision: 0.79; recall:0.81; f1:0.8\n",
      "PR Curve (AUCPR = 0.87)\n",
      "ROC Auc is 0.938111361619777.\n",
      "============================================================\n",
      "th: 0.5; Acc: 86.88414552288897; precision: 0.79; recall:0.82; f1:0.8\n",
      "PR Curve (AUCPR = 0.86)\n",
      "ROC Auc is 0.9389967861103138.\n",
      "============================================================\n",
      "th: 0.5; Acc: 86.60222848704524; precision: 0.79; recall:0.81; f1:0.8\n",
      "PR Curve (AUCPR = 0.87)\n",
      "ROC Auc is 0.9397927231776418.\n",
      "============================================================\n",
      "th: 0.5; Acc: 86.79017317760773; precision: 0.79; recall:0.82; f1:0.8\n",
      "PR Curve (AUCPR = 0.87)\n",
      "ROC Auc is 0.9397471037356784.\n",
      "============================================================\n",
      "predict_t 13\n"
     ]
    },
    {
     "data": {
      "application/vnd.jupyter.widget-view+json": {
       "model_id": "c1e2389b375e4053bf09f19ca274f41a",
       "version_major": 2,
       "version_minor": 0
      },
      "text/plain": [
       "  0%|          | 0/148 [00:00<?, ?it/s]"
      ]
     },
     "metadata": {},
     "output_type": "display_data"
    },
    {
     "data": {
      "application/vnd.jupyter.widget-view+json": {
       "model_id": "b6c493cebe1b475784e3c87e64603420",
       "version_major": 2,
       "version_minor": 0
      },
      "text/plain": [
       "  0%|          | 0/29 [00:00<?, ?it/s]"
      ]
     },
     "metadata": {},
     "output_type": "display_data"
    },
    {
     "name": "stdout",
     "output_type": "stream",
     "text": [
      "train 0: 24673 train 1: 13747\n",
      "th: 0.5; Acc: 85.71235286158841; precision: 0.8; recall:0.81; f1:0.8\n",
      "PR Curve (AUCPR = 0.87)\n",
      "ROC Auc is 0.9315582847438802.\n",
      "============================================================\n",
      "th: 0.5; Acc: 84.99526451089162; precision: 0.79; recall:0.8; f1:0.79\n",
      "PR Curve (AUCPR = 0.86)\n",
      "ROC Auc is 0.9263734148877045.\n",
      "============================================================\n",
      "th: 0.5; Acc: 85.78000270599378; precision: 0.79; recall:0.83; f1:0.81\n",
      "PR Curve (AUCPR = 0.87)\n",
      "ROC Auc is 0.9320876070082205.\n",
      "============================================================\n",
      "th: 0.5; Acc: 85.65823298606414; precision: 0.79; recall:0.82; f1:0.8\n",
      "PR Curve (AUCPR = 0.87)\n",
      "ROC Auc is 0.9330233703417948.\n",
      "============================================================\n",
      "th: 0.5; Acc: 86.37532133676092; precision: 0.8; recall:0.84; f1:0.82\n",
      "PR Curve (AUCPR = 0.88)\n",
      "ROC Auc is 0.9375188692126737.\n",
      "============================================================\n",
      "th: 0.5; Acc: 86.11825192802056; precision: 0.8; recall:0.84; f1:0.82\n",
      "PR Curve (AUCPR = 0.88)\n",
      "ROC Auc is 0.9379336965986517.\n",
      "============================================================\n",
      "th: 0.5; Acc: 86.15884183466378; precision: 0.8; recall:0.83; f1:0.81\n",
      "PR Curve (AUCPR = 0.87)\n",
      "ROC Auc is 0.9356398617935001.\n",
      "============================================================\n",
      "th: 0.5; Acc: 86.8218103098363; precision: 0.81; recall:0.84; f1:0.82\n",
      "PR Curve (AUCPR = 0.88)\n",
      "ROC Auc is 0.9381565836366188.\n",
      "============================================================\n",
      "th: 0.5; Acc: 86.72710052766878; precision: 0.81; recall:0.84; f1:0.82\n",
      "PR Curve (AUCPR = 0.88)\n",
      "ROC Auc is 0.9386693301293666.\n",
      "============================================================\n",
      "th: 0.5; Acc: 86.767690434312; precision: 0.8; recall:0.85; f1:0.82\n",
      "PR Curve (AUCPR = 0.89)\n",
      "ROC Auc is 0.9406625174478698.\n",
      "============================================================\n",
      "th: 0.5; Acc: 86.90299012312272; precision: 0.8; recall:0.85; f1:0.82\n",
      "PR Curve (AUCPR = 0.89)\n",
      "ROC Auc is 0.941226723640074.\n",
      "============================================================\n",
      "th: 0.5; Acc: 86.8218103098363; precision: 0.8; recall:0.85; f1:0.82\n",
      "PR Curve (AUCPR = 0.89)\n",
      "ROC Auc is 0.9420017689222472.\n",
      "============================================================\n",
      "predict_t 15\n"
     ]
    },
    {
     "data": {
      "application/vnd.jupyter.widget-view+json": {
       "model_id": "61a2ad0c68aa4c7091e7aa5ff54bc676",
       "version_major": 2,
       "version_minor": 0
      },
      "text/plain": [
       "  0%|          | 0/148 [00:00<?, ?it/s]"
      ]
     },
     "metadata": {},
     "output_type": "display_data"
    },
    {
     "data": {
      "application/vnd.jupyter.widget-view+json": {
       "model_id": "4f1d677b617b43389d4e9364850bb8e3",
       "version_major": 2,
       "version_minor": 0
      },
      "text/plain": [
       "  0%|          | 0/29 [00:00<?, ?it/s]"
      ]
     },
     "metadata": {},
     "output_type": "display_data"
    },
    {
     "name": "stdout",
     "output_type": "stream",
     "text": [
      "train 0: 23228 train 1: 14896\n",
      "th: 0.5; Acc: 85.40842765580253; precision: 0.8; recall:0.84; f1:0.82\n",
      "PR Curve (AUCPR = 0.89)\n",
      "ROC Auc is 0.9332624591207205.\n",
      "============================================================\n",
      "th: 0.5; Acc: 85.20387290331378; precision: 0.79; recall:0.85; f1:0.82\n",
      "PR Curve (AUCPR = 0.88)\n",
      "ROC Auc is 0.9309577940575732.\n",
      "============================================================\n",
      "th: 0.5; Acc: 85.40842765580253; precision: 0.79; recall:0.86; f1:0.82\n",
      "PR Curve (AUCPR = 0.88)\n",
      "ROC Auc is 0.9329610822282977.\n",
      "============================================================\n",
      "th: 0.5; Acc: 85.73571525978454; precision: 0.8; recall:0.86; f1:0.83\n",
      "PR Curve (AUCPR = 0.88)\n",
      "ROC Auc is 0.9339284648459513.\n",
      "============================================================\n",
      "th: 0.5; Acc: 86.34937951725078; precision: 0.81; recall:0.86; f1:0.83\n",
      "PR Curve (AUCPR = 0.89)\n",
      "ROC Auc is 0.9367156584984332.\n",
      "============================================================\n",
      "th: 0.5; Acc: 85.92663302877403; precision: 0.8; recall:0.86; f1:0.83\n",
      "PR Curve (AUCPR = 0.90)\n",
      "ROC Auc is 0.9381674300566089.\n",
      "============================================================\n",
      "th: 0.5; Acc: 86.30846856675304; precision: 0.81; recall:0.86; f1:0.83\n",
      "PR Curve (AUCPR = 0.89)\n",
      "ROC Auc is 0.9398018260897201.\n",
      "============================================================\n",
      "th: 0.5; Acc: 86.51302331924178; precision: 0.81; recall:0.86; f1:0.83\n",
      "PR Curve (AUCPR = 0.90)\n",
      "ROC Auc is 0.9396445488997185.\n",
      "============================================================\n",
      "th: 0.5; Acc: 86.63575617073504; precision: 0.81; recall:0.87; f1:0.84\n",
      "PR Curve (AUCPR = 0.90)\n",
      "ROC Auc is 0.9427649779587142.\n",
      "============================================================\n",
      "th: 0.5; Acc: 86.77212600572753; precision: 0.81; recall:0.87; f1:0.84\n",
      "PR Curve (AUCPR = 0.90)\n",
      "ROC Auc is 0.9423909698553345.\n",
      "============================================================\n",
      "th: 0.5; Acc: 86.82667393972453; precision: 0.81; recall:0.88; f1:0.84\n",
      "PR Curve (AUCPR = 0.90)\n",
      "ROC Auc is 0.9434154032427471.\n",
      "============================================================\n",
      "th: 0.5; Acc: 86.70394108823129; precision: 0.81; recall:0.88; f1:0.84\n",
      "PR Curve (AUCPR = 0.91)\n",
      "ROC Auc is 0.944221632938758.\n",
      "============================================================\n",
      "predict_t 17\n"
     ]
    },
    {
     "data": {
      "application/vnd.jupyter.widget-view+json": {
       "model_id": "bec6ba830da64f81ae0f6f5f67ef2eb2",
       "version_major": 2,
       "version_minor": 0
      },
      "text/plain": [
       "  0%|          | 0/148 [00:00<?, ?it/s]"
      ]
     },
     "metadata": {},
     "output_type": "display_data"
    },
    {
     "data": {
      "application/vnd.jupyter.widget-view+json": {
       "model_id": "cc905530be104c32b604686c7f7d6c2d",
       "version_major": 2,
       "version_minor": 0
      },
      "text/plain": [
       "  0%|          | 0/29 [00:00<?, ?it/s]"
      ]
     },
     "metadata": {},
     "output_type": "display_data"
    },
    {
     "name": "stdout",
     "output_type": "stream",
     "text": [
      "train 0: 21950 train 1: 15878\n",
      "th: 0.5; Acc: 86.26804123711341; precision: 0.81; recall:0.88; f1:0.84\n",
      "PR Curve (AUCPR = 0.90)\n",
      "ROC Auc is 0.9365957126098148.\n",
      "============================================================\n",
      "th: 0.5; Acc: 85.27835051546391; precision: 0.8; recall:0.87; f1:0.83\n",
      "PR Curve (AUCPR = 0.89)\n",
      "ROC Auc is 0.9317882519627836.\n",
      "============================================================\n",
      "th: 0.5; Acc: 85.82817869415807; precision: 0.81; recall:0.88; f1:0.84\n",
      "PR Curve (AUCPR = 0.90)\n",
      "ROC Auc is 0.9382734763369445.\n",
      "============================================================\n",
      "th: 0.5; Acc: 86.43298969072166; precision: 0.81; recall:0.89; f1:0.85\n",
      "PR Curve (AUCPR = 0.90)\n",
      "ROC Auc is 0.9382804261567743.\n",
      "============================================================\n",
      "th: 0.5; Acc: 86.35051546391752; precision: 0.81; recall:0.89; f1:0.85\n",
      "PR Curve (AUCPR = 0.91)\n",
      "ROC Auc is 0.9423122869108019.\n",
      "============================================================\n",
      "th: 0.5; Acc: 85.86941580756013; precision: 0.8; recall:0.88; f1:0.84\n",
      "PR Curve (AUCPR = 0.91)\n",
      "ROC Auc is 0.9389025894719805.\n",
      "============================================================\n",
      "th: 0.5; Acc: 86.72164948453607; precision: 0.82; recall:0.89; f1:0.85\n",
      "PR Curve (AUCPR = 0.91)\n",
      "ROC Auc is 0.9426114766544741.\n",
      "============================================================\n",
      "th: 0.5; Acc: 86.80412371134021; precision: 0.82; recall:0.89; f1:0.85\n",
      "PR Curve (AUCPR = 0.91)\n",
      "ROC Auc is 0.9423903951636667.\n",
      "============================================================\n",
      "th: 0.5; Acc: 87.09278350515464; precision: 0.82; recall:0.9; f1:0.86\n",
      "PR Curve (AUCPR = 0.92)\n",
      "ROC Auc is 0.9475053467280558.\n",
      "============================================================\n",
      "th: 0.5; Acc: 87.29896907216495; precision: 0.82; recall:0.9; f1:0.86\n",
      "PR Curve (AUCPR = 0.92)\n",
      "ROC Auc is 0.9464584335909193.\n",
      "============================================================\n",
      "th: 0.5; Acc: 86.96907216494846; precision: 0.81; recall:0.9; f1:0.85\n",
      "PR Curve (AUCPR = 0.92)\n",
      "ROC Auc is 0.9449881219857087.\n",
      "============================================================\n",
      "th: 0.5; Acc: 86.85910652920961; precision: 0.81; recall:0.9; f1:0.85\n",
      "PR Curve (AUCPR = 0.92)\n",
      "ROC Auc is 0.9451678134384187.\n",
      "============================================================\n",
      "predict_t 19\n"
     ]
    },
    {
     "data": {
      "application/vnd.jupyter.widget-view+json": {
       "model_id": "7235e882a10347dd8b5c05c2de00f0d6",
       "version_major": 2,
       "version_minor": 0
      },
      "text/plain": [
       "  0%|          | 0/148 [00:00<?, ?it/s]"
      ]
     },
     "metadata": {},
     "output_type": "display_data"
    },
    {
     "data": {
      "application/vnd.jupyter.widget-view+json": {
       "model_id": "eafe95edcc2c407b9aaffeda475e5838",
       "version_major": 2,
       "version_minor": 0
      },
      "text/plain": [
       "  0%|          | 0/29 [00:00<?, ?it/s]"
      ]
     },
     "metadata": {},
     "output_type": "display_data"
    },
    {
     "name": "stdout",
     "output_type": "stream",
     "text": [
      "train 0: 20775 train 1: 16757\n",
      "th: 0.5; Acc: 85.72814188721075; precision: 0.81; recall:0.89; f1:0.85\n",
      "PR Curve (AUCPR = 0.91)\n",
      "ROC Auc is 0.9367123149079475.\n",
      "============================================================\n",
      "th: 0.5; Acc: 86.01912151863655; precision: 0.82; recall:0.89; f1:0.85\n",
      "PR Curve (AUCPR = 0.91)\n",
      "ROC Auc is 0.9378731975738556.\n",
      "============================================================\n",
      "th: 0.5; Acc: 85.81127892476098; precision: 0.81; recall:0.9; f1:0.85\n",
      "PR Curve (AUCPR = 0.91)\n",
      "ROC Auc is 0.9376486205595105.\n",
      "============================================================\n",
      "th: 0.5; Acc: 86.2546764583622; precision: 0.82; recall:0.9; f1:0.86\n",
      "PR Curve (AUCPR = 0.91)\n",
      "ROC Auc is 0.9388929352517896.\n",
      "============================================================\n",
      "th: 0.5; Acc: 85.72814188721075; precision: 0.81; recall:0.9; f1:0.85\n",
      "PR Curve (AUCPR = 0.92)\n",
      "ROC Auc is 0.9404770979474947.\n",
      "============================================================\n",
      "th: 0.5; Acc: 86.35166966883747; precision: 0.82; recall:0.9; f1:0.86\n",
      "PR Curve (AUCPR = 0.92)\n",
      "ROC Auc is 0.9418973403388347.\n",
      "============================================================\n",
      "th: 0.5; Acc: 86.86434806706387; precision: 0.82; recall:0.9; f1:0.86\n",
      "PR Curve (AUCPR = 0.92)\n",
      "ROC Auc is 0.9440781930838646.\n",
      "============================================================\n",
      "th: 0.5; Acc: 86.78121102951366; precision: 0.82; recall:0.91; f1:0.86\n",
      "PR Curve (AUCPR = 0.92)\n",
      "ROC Auc is 0.9450141114001149.\n",
      "============================================================\n",
      "th: 0.5; Acc: 86.85049189413884; precision: 0.82; recall:0.92; f1:0.87\n",
      "PR Curve (AUCPR = 0.92)\n",
      "ROC Auc is 0.9460179683302253.\n",
      "============================================================\n",
      "th: 0.5; Acc: 87.04447831508936; precision: 0.82; recall:0.92; f1:0.87\n",
      "PR Curve (AUCPR = 0.92)\n",
      "ROC Auc is 0.9460366766258322.\n",
      "============================================================\n",
      "th: 0.5; Acc: 86.75349868366358; precision: 0.81; recall:0.92; f1:0.86\n",
      "PR Curve (AUCPR = 0.92)\n",
      "ROC Auc is 0.9448719593403277.\n",
      "============================================================\n",
      "th: 0.5; Acc: 87.40473881114036; precision: 0.82; recall:0.93; f1:0.87\n",
      "PR Curve (AUCPR = 0.93)\n",
      "ROC Auc is 0.9468901312539935.\n",
      "============================================================\n"
     ]
    }
   ],
   "source": [
    "def run():\n",
    "    # Parameters\n",
    "    if task == 'forecast':\n",
    "        params = {\"objective\": \"reg:squarederror\", \"tree_method\": \"gpu_hist\", 'max_depth': 20, 'eval_metric': ['rmse', 'mae'], 'seed': seed}\n",
    "    elif task == 'classification':\n",
    "        params = {'objective': 'binary:logistic', \"tree_method\": \"gpu_hist\", 'eta': lr, 'max_depth': max_d,\n",
    "                  'subsample': subsample, 'colsample_bytree': colsample_bytree,\n",
    "                  'alpha': reg_alpha,'gamma': gamma,  \n",
    "                  'seed': seed,'eval_metric': ['error','logloss']}\n",
    "\n",
    "    model = xgb.train(\n",
    "        params=params,\n",
    "        dtrain=train_data,\n",
    "        num_boost_round=n_esti,\n",
    "        evals=[(train_data, 'train'), (test_data, 'valid')],\n",
    "        early_stopping_rounds=10,\n",
    "        verbose_eval=False\n",
    "    )\n",
    "\n",
    "    preds = model.predict(test_data)\n",
    "\n",
    "    # plot all data point on a plot\n",
    "    ths = [0.2,0.3,0.4,0.5,0.6,0.7,0.8]\n",
    "\n",
    "    if task == 'forecast':\n",
    "        rmse = round(np.sqrt(np.mean((preds-y_test)**2)), 2)\n",
    "        plt.title(f'RMSE is {rmse}.')\n",
    "    elif task == 'classification':\n",
    "        # PR and AUCPR\n",
    "        precision, recall, thresholds = precision_recall_curve(y_test, preds)\n",
    "        aucpr = auc(recall, precision)\n",
    "        \n",
    "        # ROC & AUC\n",
    "        fpr, tpr, thresholds = roc_curve(y_test, preds)\n",
    "        roc_auc = auc(fpr, tpr)\n",
    "        \n",
    "        threshold = 0.5\n",
    "        TP, FP, TN, FN = 0,0,0,0\n",
    "        anses = np.where(preds<threshold, 0, 1)\n",
    "        for ans, y in zip(anses, y_test):\n",
    "            if ans == y:\n",
    "                if ans == 1: TP += 1\n",
    "                elif ans == 0: TN +=1\n",
    "            elif ans != y:\n",
    "                if ans == 1: FP += 1\n",
    "                elif ans == 0: FN +=1\n",
    "        acc=(TP+TN)/(TP+TN+FP+FN)*100\n",
    "        try:\n",
    "            p, r = round(TP/(TP+FP), 2), round(TP/(TP+FN), 2)\n",
    "            f1 = round(2*(p*r)/(p+r), 2)\n",
    "        except:\n",
    "            p, r, f1 = 'DNF', 'DNF', 'DNF'\n",
    "        s = f'th: {threshold}; Acc: {acc}; precision: {p}; recall:{r}; f1:{f1}'\n",
    "        print(s)\n",
    "        \n",
    "        print('PR Curve (AUCPR = %0.2f)' % aucpr)\n",
    "        print(f'ROC Auc is {roc_auc}.')\n",
    "        print('============================================================')\n",
    "        cols_out = [time_seq, predict_t, lr, max_d, n_esti, subsample, colsample_bytree, reg_alpha, gamma, roc_auc, aucpr, p, r, f1]\n",
    "        cols_out = [str(n) for n in cols_out]\n",
    "        f_out.write(','.join(cols_out)+'\\n')\n",
    "        \n",
    "# Time sequence length and prediction time length\n",
    "seed = 55688\n",
    "time_seqs = [20]\n",
    "predict_ts = list(range(1,20+1,2))\n",
    "lrs = [0.3, 0.1]\n",
    "max_ds = [7, 15]\n",
    "n_estis = [200]\n",
    "subsamples = [1]\n",
    "colsample_bytrees = [0.9]\n",
    "reg_alphas = [0.5]\n",
    "gammas = [0.1]\n",
    "valid_ratio = 0.2\n",
    "task = 'classification'\n",
    "\n",
    "dirname = \"/home/wmnlab/Documents/sheng-ru/data/single\"\n",
    "dir_list = os.listdir(dirname)\n",
    "dir_list = [f for f in dir_list if ( f.endswith('.csv') and (not 'sm' in f) ) ]\n",
    "\n",
    "train_dir_list, test_dir_list = train_valid_split(dir_list, valid_ratio)\n",
    "train_dir_list += [f for f in os.listdir(dirname) if 'sm' in f]\n",
    "\n",
    "\n",
    "features = ['LTE_HO', 'MN_HO', 'eNB_to_ENDC', 'gNB_Rel', 'gNB_HO', 'RLF', 'SCG_RLF',\n",
    "            'num_of_neis', 'RSRP', 'RSRQ', 'RSRP1', 'RSRQ1','nr-RSRP', 'nr-RSRQ', 'nr-RSRP1', 'nr-RSRQ1']\n",
    "target = ['gNB_Rel', 'gNB_HO'] # For eNB HO.\n",
    "# target = ['eNB_to_ENDC']\n",
    "# target = ['RLF']\n",
    "\n",
    "num_of_features = len(features)\n",
    "\n",
    "out = 'result_tpreds_nr_HO.csv'\n",
    "f_out = open(out, mode='w')\n",
    "cols_out = ['t_seq','t_pred','lr','max_dep','n_esti','subsample','colsample_bytree','reg_alpha','gamma','auc','aucpr','p','r','f1']\n",
    "f_out.write(','.join(cols_out)+'\\n')\n",
    "\n",
    "train_pos = []\n",
    "train_neg = []\n",
    "\n",
    "for time_seq in time_seqs:\n",
    "    for predict_t in predict_ts:\n",
    "        print(f'predict_t {predict_t}')\n",
    "        X_train, y_train, split_time_train = ts_array_create(dirname, train_dir_list, time_seq)\n",
    "        X_train_2d = X_train.reshape(-1, time_seq*num_of_features)\n",
    "\n",
    "        X_test, y_test, split_time_test = ts_array_create(dirname, test_dir_list, time_seq)\n",
    "        X_test_2d = X_test.reshape(-1, time_seq*num_of_features)\n",
    "\n",
    "        train_data = xgb.DMatrix(X_train_2d, label=y_train)\n",
    "        test_data = xgb.DMatrix(X_test_2d, label=y_test)\n",
    "        \n",
    "        train_neg.append(y_train.count(0)); train_pos.append(y_train.count(1))\n",
    "        print('train 0:',y_train.count(0), 'train 1:', y_train.count(1))\n",
    "        \n",
    "        for lr in lrs:\n",
    "            for max_d in max_ds:\n",
    "                for n_esti in n_estis:\n",
    "                    for subsample in subsamples:\n",
    "                        for colsample_bytree in colsample_bytrees:\n",
    "                            for reg_alpha in reg_alphas:\n",
    "                                for gamma in gammas:\n",
    "                                    run()\n",
    "\n",
    "f_out.close()"
   ]
  },
  {
   "cell_type": "code",
   "execution_count": 82,
   "metadata": {},
   "outputs": [
    {
     "ename": "ValueError",
     "evalue": "x and y must have same first dimension, but have shapes (20,) and (10,)",
     "output_type": "error",
     "traceback": [
      "\u001b[0;31m---------------------------------------------------------------------------\u001b[0m",
      "\u001b[0;31mValueError\u001b[0m                                Traceback (most recent call last)",
      "Cell \u001b[0;32mIn[82], line 11\u001b[0m\n\u001b[1;32m      9\u001b[0m ax\u001b[38;5;241m.\u001b[39mset_xticks(x_ticks)\n\u001b[1;32m     10\u001b[0m plt\u001b[38;5;241m.\u001b[39mtitle(\u001b[38;5;124m'\u001b[39m\u001b[38;5;124mData Balance\u001b[39m\u001b[38;5;124m'\u001b[39m)\n\u001b[0;32m---> 11\u001b[0m \u001b[43mplt\u001b[49m\u001b[38;5;241;43m.\u001b[39;49m\u001b[43mplot\u001b[49m\u001b[43m(\u001b[49m\u001b[43mx\u001b[49m\u001b[43m,\u001b[49m\u001b[43m \u001b[49m\u001b[43my\u001b[49m\u001b[43m,\u001b[49m\u001b[43m \u001b[49m\u001b[43mlabel\u001b[49m\u001b[38;5;241;43m=\u001b[39;49m\u001b[38;5;124;43m'\u001b[39;49m\u001b[38;5;124;43mPositive Ratio\u001b[39;49m\u001b[38;5;124;43m'\u001b[39;49m\u001b[43m)\u001b[49m\n\u001b[1;32m     12\u001b[0m plt\u001b[38;5;241m.\u001b[39mxlabel(\u001b[38;5;124m'\u001b[39m\u001b[38;5;124mPrediction Time\u001b[39m\u001b[38;5;124m'\u001b[39m)\n\u001b[1;32m     13\u001b[0m plt\u001b[38;5;241m.\u001b[39mlegend()\n",
      "File \u001b[0;32m~/.local/lib/python3.10/site-packages/matplotlib/pyplot.py:2812\u001b[0m, in \u001b[0;36mplot\u001b[0;34m(scalex, scaley, data, *args, **kwargs)\u001b[0m\n\u001b[1;32m   2810\u001b[0m \u001b[38;5;129m@_copy_docstring_and_deprecators\u001b[39m(Axes\u001b[38;5;241m.\u001b[39mplot)\n\u001b[1;32m   2811\u001b[0m \u001b[38;5;28;01mdef\u001b[39;00m \u001b[38;5;21mplot\u001b[39m(\u001b[38;5;241m*\u001b[39margs, scalex\u001b[38;5;241m=\u001b[39m\u001b[38;5;28;01mTrue\u001b[39;00m, scaley\u001b[38;5;241m=\u001b[39m\u001b[38;5;28;01mTrue\u001b[39;00m, data\u001b[38;5;241m=\u001b[39m\u001b[38;5;28;01mNone\u001b[39;00m, \u001b[38;5;241m*\u001b[39m\u001b[38;5;241m*\u001b[39mkwargs):\n\u001b[0;32m-> 2812\u001b[0m     \u001b[38;5;28;01mreturn\u001b[39;00m \u001b[43mgca\u001b[49m\u001b[43m(\u001b[49m\u001b[43m)\u001b[49m\u001b[38;5;241;43m.\u001b[39;49m\u001b[43mplot\u001b[49m\u001b[43m(\u001b[49m\n\u001b[1;32m   2813\u001b[0m \u001b[43m        \u001b[49m\u001b[38;5;241;43m*\u001b[39;49m\u001b[43margs\u001b[49m\u001b[43m,\u001b[49m\u001b[43m \u001b[49m\u001b[43mscalex\u001b[49m\u001b[38;5;241;43m=\u001b[39;49m\u001b[43mscalex\u001b[49m\u001b[43m,\u001b[49m\u001b[43m \u001b[49m\u001b[43mscaley\u001b[49m\u001b[38;5;241;43m=\u001b[39;49m\u001b[43mscaley\u001b[49m\u001b[43m,\u001b[49m\n\u001b[1;32m   2814\u001b[0m \u001b[43m        \u001b[49m\u001b[38;5;241;43m*\u001b[39;49m\u001b[38;5;241;43m*\u001b[39;49m\u001b[43m(\u001b[49m\u001b[43m{\u001b[49m\u001b[38;5;124;43m\"\u001b[39;49m\u001b[38;5;124;43mdata\u001b[39;49m\u001b[38;5;124;43m\"\u001b[39;49m\u001b[43m:\u001b[49m\u001b[43m \u001b[49m\u001b[43mdata\u001b[49m\u001b[43m}\u001b[49m\u001b[43m \u001b[49m\u001b[38;5;28;43;01mif\u001b[39;49;00m\u001b[43m \u001b[49m\u001b[43mdata\u001b[49m\u001b[43m \u001b[49m\u001b[38;5;129;43;01mis\u001b[39;49;00m\u001b[43m \u001b[49m\u001b[38;5;129;43;01mnot\u001b[39;49;00m\u001b[43m \u001b[49m\u001b[38;5;28;43;01mNone\u001b[39;49;00m\u001b[43m \u001b[49m\u001b[38;5;28;43;01melse\u001b[39;49;00m\u001b[43m \u001b[49m\u001b[43m{\u001b[49m\u001b[43m}\u001b[49m\u001b[43m)\u001b[49m\u001b[43m,\u001b[49m\u001b[43m \u001b[49m\u001b[38;5;241;43m*\u001b[39;49m\u001b[38;5;241;43m*\u001b[39;49m\u001b[43mkwargs\u001b[49m\u001b[43m)\u001b[49m\n",
      "File \u001b[0;32m~/.local/lib/python3.10/site-packages/matplotlib/axes/_axes.py:1688\u001b[0m, in \u001b[0;36mAxes.plot\u001b[0;34m(self, scalex, scaley, data, *args, **kwargs)\u001b[0m\n\u001b[1;32m   1445\u001b[0m \u001b[38;5;250m\u001b[39m\u001b[38;5;124;03m\"\"\"\u001b[39;00m\n\u001b[1;32m   1446\u001b[0m \u001b[38;5;124;03mPlot y versus x as lines and/or markers.\u001b[39;00m\n\u001b[1;32m   1447\u001b[0m \n\u001b[0;32m   (...)\u001b[0m\n\u001b[1;32m   1685\u001b[0m \u001b[38;5;124;03m(``'green'``) or hex strings (``'#008000'``).\u001b[39;00m\n\u001b[1;32m   1686\u001b[0m \u001b[38;5;124;03m\"\"\"\u001b[39;00m\n\u001b[1;32m   1687\u001b[0m kwargs \u001b[38;5;241m=\u001b[39m cbook\u001b[38;5;241m.\u001b[39mnormalize_kwargs(kwargs, mlines\u001b[38;5;241m.\u001b[39mLine2D)\n\u001b[0;32m-> 1688\u001b[0m lines \u001b[38;5;241m=\u001b[39m [\u001b[38;5;241m*\u001b[39m\u001b[38;5;28mself\u001b[39m\u001b[38;5;241m.\u001b[39m_get_lines(\u001b[38;5;241m*\u001b[39margs, data\u001b[38;5;241m=\u001b[39mdata, \u001b[38;5;241m*\u001b[39m\u001b[38;5;241m*\u001b[39mkwargs)]\n\u001b[1;32m   1689\u001b[0m \u001b[38;5;28;01mfor\u001b[39;00m line \u001b[38;5;129;01min\u001b[39;00m lines:\n\u001b[1;32m   1690\u001b[0m     \u001b[38;5;28mself\u001b[39m\u001b[38;5;241m.\u001b[39madd_line(line)\n",
      "File \u001b[0;32m~/.local/lib/python3.10/site-packages/matplotlib/axes/_base.py:311\u001b[0m, in \u001b[0;36m_process_plot_var_args.__call__\u001b[0;34m(self, data, *args, **kwargs)\u001b[0m\n\u001b[1;32m    309\u001b[0m     this \u001b[38;5;241m+\u001b[39m\u001b[38;5;241m=\u001b[39m args[\u001b[38;5;241m0\u001b[39m],\n\u001b[1;32m    310\u001b[0m     args \u001b[38;5;241m=\u001b[39m args[\u001b[38;5;241m1\u001b[39m:]\n\u001b[0;32m--> 311\u001b[0m \u001b[38;5;28;01myield from\u001b[39;00m \u001b[38;5;28;43mself\u001b[39;49m\u001b[38;5;241;43m.\u001b[39;49m\u001b[43m_plot_args\u001b[49m\u001b[43m(\u001b[49m\n\u001b[1;32m    312\u001b[0m \u001b[43m    \u001b[49m\u001b[43mthis\u001b[49m\u001b[43m,\u001b[49m\u001b[43m \u001b[49m\u001b[43mkwargs\u001b[49m\u001b[43m,\u001b[49m\u001b[43m \u001b[49m\u001b[43mambiguous_fmt_datakey\u001b[49m\u001b[38;5;241;43m=\u001b[39;49m\u001b[43mambiguous_fmt_datakey\u001b[49m\u001b[43m)\u001b[49m\n",
      "File \u001b[0;32m~/.local/lib/python3.10/site-packages/matplotlib/axes/_base.py:504\u001b[0m, in \u001b[0;36m_process_plot_var_args._plot_args\u001b[0;34m(self, tup, kwargs, return_kwargs, ambiguous_fmt_datakey)\u001b[0m\n\u001b[1;32m    501\u001b[0m     \u001b[38;5;28mself\u001b[39m\u001b[38;5;241m.\u001b[39maxes\u001b[38;5;241m.\u001b[39myaxis\u001b[38;5;241m.\u001b[39mupdate_units(y)\n\u001b[1;32m    503\u001b[0m \u001b[38;5;28;01mif\u001b[39;00m x\u001b[38;5;241m.\u001b[39mshape[\u001b[38;5;241m0\u001b[39m] \u001b[38;5;241m!=\u001b[39m y\u001b[38;5;241m.\u001b[39mshape[\u001b[38;5;241m0\u001b[39m]:\n\u001b[0;32m--> 504\u001b[0m     \u001b[38;5;28;01mraise\u001b[39;00m \u001b[38;5;167;01mValueError\u001b[39;00m(\u001b[38;5;124mf\u001b[39m\u001b[38;5;124m\"\u001b[39m\u001b[38;5;124mx and y must have same first dimension, but \u001b[39m\u001b[38;5;124m\"\u001b[39m\n\u001b[1;32m    505\u001b[0m                      \u001b[38;5;124mf\u001b[39m\u001b[38;5;124m\"\u001b[39m\u001b[38;5;124mhave shapes \u001b[39m\u001b[38;5;132;01m{\u001b[39;00mx\u001b[38;5;241m.\u001b[39mshape\u001b[38;5;132;01m}\u001b[39;00m\u001b[38;5;124m and \u001b[39m\u001b[38;5;132;01m{\u001b[39;00my\u001b[38;5;241m.\u001b[39mshape\u001b[38;5;132;01m}\u001b[39;00m\u001b[38;5;124m\"\u001b[39m)\n\u001b[1;32m    506\u001b[0m \u001b[38;5;28;01mif\u001b[39;00m x\u001b[38;5;241m.\u001b[39mndim \u001b[38;5;241m>\u001b[39m \u001b[38;5;241m2\u001b[39m \u001b[38;5;129;01mor\u001b[39;00m y\u001b[38;5;241m.\u001b[39mndim \u001b[38;5;241m>\u001b[39m \u001b[38;5;241m2\u001b[39m:\n\u001b[1;32m    507\u001b[0m     \u001b[38;5;28;01mraise\u001b[39;00m \u001b[38;5;167;01mValueError\u001b[39;00m(\u001b[38;5;124mf\u001b[39m\u001b[38;5;124m\"\u001b[39m\u001b[38;5;124mx and y can be no greater than 2D, but have \u001b[39m\u001b[38;5;124m\"\u001b[39m\n\u001b[1;32m    508\u001b[0m                      \u001b[38;5;124mf\u001b[39m\u001b[38;5;124m\"\u001b[39m\u001b[38;5;124mshapes \u001b[39m\u001b[38;5;132;01m{\u001b[39;00mx\u001b[38;5;241m.\u001b[39mshape\u001b[38;5;132;01m}\u001b[39;00m\u001b[38;5;124m and \u001b[39m\u001b[38;5;132;01m{\u001b[39;00my\u001b[38;5;241m.\u001b[39mshape\u001b[38;5;132;01m}\u001b[39;00m\u001b[38;5;124m\"\u001b[39m)\n",
      "\u001b[0;31mValueError\u001b[0m: x and y must have same first dimension, but have shapes (20,) and (10,)"
     ]
    },
    {
     "data": {
      "image/png": "[encoded data removed]",
      "text/plain": [
       "<Figure size 640x480 with 1 Axes>"
      ]
     },
     "metadata": {},
     "output_type": "display_data"
    }
   ],
   "source": [
    "train_pos, train_neg\n",
    "y = []\n",
    "x = list(range(1,20+1))\n",
    "for p, n in zip(train_pos, train_neg):\n",
    "    y.append(p/(p+n))\n",
    "\n",
    "ax = plt.gca()\n",
    "x_ticks = range(0,20+1,2)\n",
    "ax.set_xticks(x_ticks)\n",
    "plt.title('Data Balance')\n",
    "plt.plot(x, y, label='Positive Ratio')\n",
    "plt.xlabel('Prediction Time')\n",
    "plt.legend()\n",
    "plt.show()"
   ]
  },
  {
   "cell_type": "code",
   "execution_count": null,
   "metadata": {},
   "outputs": [],
   "source": [
    "# df = pd.read_csv('result_tpreds_SN_setup.csv')\n",
    "df = pd.read_csv('result_tpreds_SN_setup.csv')\n",
    "x = df[\"t_pred\"]\n",
    "y1 = df[\"auc\"]\n",
    "y2 = df[\"aucpr\"]\n",
    "plt.plot(x, y1, label='Auc')\n",
    "plt.plot(x, y2, label='Aucpr')\n",
    "ax = plt.gca()\n",
    "x_ticks = np.arange(2,22,2)\n",
    "ax.set_xticks(x_ticks)\n",
    "plt.xlabel(r'$\\bf Predict\\ Time\\ (sec)$')\n",
    "plt.legend()\n",
    "plt.show()"
   ]
  },
  {
   "cell_type": "code",
   "execution_count": null,
   "metadata": {},
   "outputs": [],
   "source": [
    "df = pd.read_csv('result_tseqs.csv')\n",
    "x = df[\"t_seq\"]\n",
    "y1 = df[\"auc\"]\n",
    "y2 = df[\"aucpr\"]\n",
    "plt.plot(x, y1, label='Auc')\n",
    "plt.plot(x, y2, label='Aucpr')\n",
    "plt.xlabel(r'$\\bf Input\\ Length\\ (sec)$')\n",
    "ax = plt.gca()\n",
    "x_ticks = np.arange(2,22,2)\n",
    "ax.set_xticks(x_ticks)\n",
    "plt.legend()\n",
    "plt.show()"
   ]
  },
  {
   "cell_type": "code",
   "execution_count": null,
   "metadata": {},
   "outputs": [],
   "source": [
    "df = pd.read_csv('result_predt.csv')\n",
    "x = df[\"t_pred\"]\n",
    "y1 = df[\"auc\"]\n",
    "y2 = df[\"aucpr\"]\n",
    "plt.plot(x, y1, label='Auc')\n",
    "plt.plot(x, y2, label='Aucpr')\n",
    "ax = plt.gca()\n",
    "x_ticks = np.arange(2,22,2)\n",
    "ax.set_xticks(x_ticks)\n",
    "plt.xlabel(r'$\\bf Predict\\ Time\\ (sec)$')\n",
    "plt.legend()\n",
    "plt.show()"
   ]
  },
  {
   "cell_type": "code",
   "execution_count": null,
   "metadata": {},
   "outputs": [],
   "source": [
    "df = pd.read_csv('result.csv')\n",
    "max_value = df['aucpr'].max()\n",
    "max_index = df['aucpr'].idxmax()\n",
    "df.iloc[max_index]\n",
    "max_value = df['auc'].max()\n",
    "max_index = df['auc'].idxmax()\n",
    "df.iloc[max_index]"
   ]
  },
  {
   "cell_type": "code",
   "execution_count": null,
   "metadata": {},
   "outputs": [],
   "source": [
    "X = 'gamma'\n",
    "y = [0.,0.1,0.5]\n",
    "df = pd.read_csv('result.csv')\n",
    "x = list(range(729))\n",
    "A = df[df[X]==y[0]]\n",
    "B = df[df[X]==y[1]]\n",
    "C = df[df[X]==y[2]]\n",
    "plt.plot(x,A['aucpr'], label='1')\n",
    "plt.plot(x,B['aucpr'], label='2')\n",
    "plt.plot(x,C['aucpr'], label='3')\n",
    "# plt.plot(df['auc'], label='auc')\n",
    "plt.legend()\n",
    "plt.show()"
   ]
  },
  {
   "cell_type": "markdown",
   "metadata": {},
   "source": [
    "# Stage II. Classification and Forecast"
   ]
  },
  {
   "cell_type": "code",
   "execution_count": null,
   "metadata": {},
   "outputs": [],
   "source": [
    "def ts_array_create(dirname, dir_list, time_seq):\n",
    "    \n",
    "    columns = ['RSRP', 'RSRQ', 'RSRP1', 'RSRQ1', 'RSRP2', 'RSRQ2',\n",
    "               'nr-RSRP', 'nr-RSRQ', 'nr-RSRP1', 'nr-RSRQ1', 'nr-RSRP2', 'nr-RSRQ2']\n",
    "    \n",
    "    def reamin_HO_time(y_train):\n",
    "        def f(L):    \n",
    "            for i, e in enumerate(L):\n",
    "                if e: return i+1\n",
    "            return 0\n",
    "\n",
    "        out = []\n",
    "        for a2 in y_train:\n",
    "            a1_out = []\n",
    "            for a1 in a2:\n",
    "                a1_out.append(a1.any())\n",
    "      \n",
    "            out.append(f(a1_out))\n",
    "        return out\n",
    "    \n",
    "    def HO(y_train):\n",
    "        out = []\n",
    "        for a2 in y_train:\n",
    "            if sum(a2.reshape(-1)) == 0: ho = 0\n",
    "            elif sum(a2.reshape(-1)) > 0: ho = 1\n",
    "            out.append(ho)\n",
    "        return out\n",
    "\n",
    "    split_time = []\n",
    "    for i, f in enumerate(tqdm(dir_list)):\n",
    "    \n",
    "        f = os.path.join(dirname, f)\n",
    "        df = pd.read_csv(f)\n",
    "\n",
    "        # preprocess data with ffill method\n",
    "        del df['Timestamp'], df['lat'], df['long'], df['gpsspeed']\n",
    "        # df[columns] = df[columns].replace(0, np.nan)\n",
    "        # df[columns] = df[columns].fillna(method='ffill')\n",
    "        # df.dropna(inplace=True)\n",
    "        \n",
    "        df.replace(np.nan,0,inplace=True); df.replace('-',0,inplace=True)\n",
    "        \n",
    "        X = df[features]\n",
    "        Y = df[target]\n",
    "\n",
    "        Xt_list = []\n",
    "        Yt_list = []\n",
    "\n",
    "        for j in range(time_seq):\n",
    "            X_t = X.shift(periods=-j)\n",
    "            Xt_list.append(X_t)\n",
    "    \n",
    "        for j in range(time_seq,time_seq+predict_t):\n",
    "            Y_t = Y.shift(periods=-(j))\n",
    "            Yt_list.append(Y_t)\n",
    "\n",
    "        # YY = Y.shift(periods=-(0))\n",
    "\n",
    "        X_ts = np.array(Xt_list); X_ts = np.transpose(X_ts, (1,0,2)); X_ts = X_ts[:-(time_seq+predict_t-1),:,:]\n",
    "        Y_ts = np.array(Yt_list); Y_ts = np.transpose(Y_ts, (1,0,2)); Y_ts = Y_ts[:-(time_seq+predict_t-1),:,:]\n",
    "        split_time.append(len(X_ts))\n",
    "\n",
    "        if i == 0:\n",
    "            X_final = X_ts\n",
    "            Y_final = Y_ts\n",
    "        else:\n",
    "            X_final = np.concatenate((X_final,X_ts), axis=0)\n",
    "            Y_final = np.concatenate((Y_final,Y_ts), axis=0)\n",
    "\n",
    "    split_time = [(sum(split_time[:i]), sum(split_time[:i])+x) for i, x in enumerate(split_time)]\n",
    "    \n",
    "    return X_final, np.array(HO(Y_final)), np.array(reamin_HO_time(Y_final)), split_time # forecast HO"
   ]
  },
  {
   "cell_type": "markdown",
   "metadata": {},
   "source": [
    "## Classification"
   ]
  },
  {
   "cell_type": "code",
   "execution_count": null,
   "metadata": {},
   "outputs": [],
   "source": [
    "# Time sequence length and prediction time length\n",
    "seed = 55688\n",
    "time_seq = 20\n",
    "predict_t = 10\n",
    "lr = 0.3\n",
    "max_d = 7\n",
    "n_esti = 200\n",
    "subsample = 1\n",
    "colsample_bytree = 0.9\n",
    "reg_alpha = 0.5\n",
    "gamma = 0.1\n",
    "valid_ratio = 0.2\n",
    "\n",
    "random.seed(seed)\n",
    "\n",
    "dirname = \"/home/wmnlab/Documents/sheng-ru/data/single\"\n",
    "dir_list = os.listdir(dirname)\n",
    "dir_list = [f for f in dir_list if ( f.endswith('.csv') and (not 'sm' in f) ) ] # Take out data with sm\n",
    "# dir_list = [f for f in dir_list if ( f.endswith('.csv') and (not '_B1.' in f and not '_LTE' in f) )] # Take out B1 and LTE not NSA data\n",
    "\n",
    "train_dir_list, test_dir_list = train_valid_split(dir_list, valid_ratio)\n",
    "train_dir_list += [f for f in os.listdir(dirname) if 'sm' in f] # Put sm data in train dir\n",
    "# train_dir_list = [f for f in train_dir_list if (not '_B1.' in f and not '_LTE' in f)] # Take out sm data of not NSA mode \n",
    "\n",
    "features = ['LTE_HO', 'MN_HO', 'eNB_to_ENDC', 'gNB_Rel', 'gNB_HO', 'RLF', 'SCG_RLF',\n",
    "            'num_of_neis', 'RSRP', 'RSRQ', 'RSRP1', 'RSRQ1',\n",
    "            'nr-RSRP', 'nr-RSRQ', 'nr-RSRP1', 'nr-RSRQ1']\n",
    "target = ['LTE_HO', 'MN_HO'] # For eNB HO.\n",
    "# target = [ 'gNB_Rel', 'gNB_HO']\n",
    "# target = ['eNB_to_ENDC'] # For SN setup\n",
    "# target = ['RLF']\n",
    "\n",
    "num_of_features = len(features)\n",
    "\n",
    "# Data\n",
    "# X_train, y_train1, y_train2, split_time_train = ts_array_create(dirname, train_dir_list, time_seq)\n",
    "# X_train_2d = X_train.reshape(-1, time_seq*num_of_features)\n",
    "\n",
    "# X_test, y_test1, y_test2, split_time_test = ts_array_create(dirname, test_dir_list, time_seq)\n",
    "# X_test_2d = X_test.reshape(-1, time_seq*num_of_features)\n",
    "\n",
    "# train_data = xgb.DMatrix(X_train_2d, label=y_train1)\n",
    "# test_data = xgb.DMatrix(X_test_2d, label=y_test1)\n"
   ]
  },
  {
   "cell_type": "code",
   "execution_count": null,
   "metadata": {},
   "outputs": [],
   "source": [
    "# Parameters\n",
    "params = {'objective': 'binary:logistic', \"tree_method\": \"gpu_hist\", 'eta': lr, 'max_depth': max_d,\n",
    "            'subsample': subsample, 'colsample_bytree': colsample_bytree, 'alpha': reg_alpha,'gamma': gamma,  \n",
    "            'seed': seed,'eval_metric': ['error','logloss','aucpr']}\n",
    "\n",
    "model1 = xgb.train(\n",
    "    params=params,\n",
    "    dtrain=train_data,\n",
    "    num_boost_round=n_esti,\n",
    "    evals=[(train_data, 'train'), (test_data, 'valid')],\n",
    "    early_stopping_rounds=10,\n",
    "    verbose_eval=False\n",
    ")"
   ]
  },
  {
   "cell_type": "code",
   "execution_count": null,
   "metadata": {},
   "outputs": [],
   "source": [
    "preds1 = model1.predict(test_data)\n",
    "\n",
    "# plot all data point on a plot\n",
    "ths = [0.2,0.3,0.4,0.5,0.6,0.7,0.8]\n",
    "\n",
    "# PR and AUCPR\n",
    "precision, recall, thresholds = precision_recall_curve(y_test1, preds1)\n",
    "aucpr = auc(recall, precision)\n",
    "\n",
    "# ROC & AUC\n",
    "fpr, tpr, thresholds = roc_curve(y_test1, preds1)\n",
    "roc_auc = auc(fpr, tpr)\n",
    "\n",
    "# Record Error \n",
    "Errors = []\n",
    "\n",
    "\n",
    "# Manually count\n",
    "for threshold in ths:\n",
    "    TP, FP, TN, FN = 0,0,0,0\n",
    "    anses = np.where(preds1<threshold, 0, 1)\n",
    "    for ans, y, y2 in zip(anses, y_test1, y_test2):\n",
    "        if ans == y:\n",
    "            if ans == 1: TP += 1\n",
    "            elif ans == 0: TN +=1\n",
    "        elif ans != y:\n",
    "            Errors.append(y2)\n",
    "            if ans == 1: FP += 1\n",
    "            elif ans == 0: FN +=1\n",
    "    acc=(TP+TN)/(TP+TN+FP+FN)*100\n",
    "    try:\n",
    "        p, r = round(TP/(TP+FP), 2), round(TP/(TP+FN), 2)\n",
    "        f1 = round(2*(p*r)/(p+r), 2)\n",
    "    except:\n",
    "        p, r, f1 = 'DNF', 'DNF', 'DNF'\n",
    "    s = f'th: {threshold}; Acc: {acc}; precision: {p}; recall:{r}; f1:{f1}'\n",
    "    print(s)\n",
    "print('PR Curve (AUCPR = %0.2f)' % aucpr)\n",
    "print(f'ROC Auc is {roc_auc}.')\n",
    "print('==========================================================================')\n"
   ]
  },
  {
   "cell_type": "code",
   "execution_count": null,
   "metadata": {},
   "outputs": [],
   "source": [
    "# save model\n",
    "save_path = '/home/wmnlab/Documents/sheng-ru/YU/model/'\n",
    "save_name = 'setup_cls_xgb.json'\n",
    "f = os.path.join(save_path, save_name)\n",
    "model1.save_model(f)"
   ]
  },
  {
   "cell_type": "code",
   "execution_count": null,
   "metadata": {},
   "outputs": [],
   "source": [
    "# Time sequence length and prediction time length\n",
    "lr = 0.3\n",
    "max_d = 7\n",
    "n_esti = 200\n",
    "subsample = 1\n",
    "colsample_bytree = 0.9\n",
    "reg_alpha = 0.5\n",
    "gamma = 0.1\n",
    "task = 'forecast'\n",
    "\n",
    "cond = y_train2 > 0\n",
    "X_train_2d_fore = X_train_2d[cond]\n",
    "y_train2_fore = y_train2[cond]\n",
    "cond = y_test2 > 0\n",
    "X_test_2d_fore = X_test_2d[cond]\n",
    "y_test2_fore = y_test2[cond]\n",
    "\n",
    "train_data = xgb.DMatrix(X_train_2d_fore, label=y_train2_fore)\n",
    "test_data = xgb.DMatrix(X_test_2d_fore, label=y_test2_fore)"
   ]
  },
  {
   "cell_type": "code",
   "execution_count": null,
   "metadata": {},
   "outputs": [],
   "source": [
    "# Parameters\n",
    "if task == 'forecast':\n",
    "    params = {\"objective\": \"reg:squarederror\", \"tree_method\": \"gpu_hist\", 'eta': lr, 'max_depth': max_d,\n",
    "              'subsample': subsample, 'colsample_bytree': colsample_bytree, 'alpha': reg_alpha,'gamma': gamma,  \n",
    "              'seed': seed,'eval_metric': ['rmse', 'mae']}\n",
    "elif task == 'classification':\n",
    "    params = {'objective': 'binary:logistic', \"tree_method\": \"gpu_hist\", 'eta': lr, 'max_depth': max_d,\n",
    "                'subsample': subsample, 'colsample_bytree': colsample_bytree, 'alpha': reg_alpha,'gamma': gamma,  \n",
    "                'seed': seed,'eval_metric': ['error','logloss','aucpr']}\n",
    "\n",
    "model2 = xgb.train(\n",
    "    params=params,\n",
    "    dtrain=train_data,\n",
    "    num_boost_round=600,\n",
    "    evals=[(train_data, 'train'), (test_data, 'valid')],\n",
    "    early_stopping_rounds=10,\n",
    "    # verbose_eval=False\n",
    ")"
   ]
  },
  {
   "cell_type": "code",
   "execution_count": null,
   "metadata": {},
   "outputs": [],
   "source": [
    "preds2 = model2.predict(test_data)"
   ]
  },
  {
   "cell_type": "code",
   "execution_count": null,
   "metadata": {},
   "outputs": [],
   "source": [
    "plt.figure(figsize=(8, 6))\n",
    "x = 400\n",
    "y = 500\n",
    "plt.plot(preds2[x:y], label = 'preds')\n",
    "plt.plot(y_test2_fore[x:y], label = 'true')\n",
    "plt.ylim([0,predict_t])\n",
    "plt.legend()\n",
    "plt.show()"
   ]
  },
  {
   "cell_type": "markdown",
   "metadata": {},
   "source": [
    "## Visualization"
   ]
  },
  {
   "cell_type": "code",
   "execution_count": null,
   "metadata": {},
   "outputs": [],
   "source": [
    "test_data = xgb.DMatrix(X_test_2d)\n",
    "preds_ho = model1.predict(test_data)\n",
    "preds_ho_time = model2.predict(test_data)"
   ]
  },
  {
   "cell_type": "code",
   "execution_count": null,
   "metadata": {},
   "outputs": [],
   "source": [
    "ans = np.where(preds_ho>0.5, preds_ho_time, 0)"
   ]
  },
  {
   "cell_type": "code",
   "execution_count": null,
   "metadata": {},
   "outputs": [],
   "source": [
    "# visulized on many sample on validation data\n",
    "sample_value = 2\n",
    "# samples = random.sample(split_time_test, sample_value)\n",
    "samples = [split_time_test[0], split_time_test[1]]\n",
    "\n",
    "fig, axs = plt.subplots(1, sample_value, figsize=(14, 2.5))\n",
    "\n",
    "for i in range(sample_value):\n",
    "    \n",
    "    true_ho_time = [y_test2[i] for i in range(samples[i][0], samples[i][1])]\n",
    "        \n",
    "    axs[i].plot(true_ho_time, label='true')\n",
    "    prediciton_ho = [ans[i] for i in range(samples[i][0], samples[i][1])]\n",
    "    axs[i].plot(prediciton_ho, label='pred')\n",
    "\n",
    "plt.legend()\n",
    "plt.show()"
   ]
  },
  {
   "cell_type": "code",
   "execution_count": null,
   "metadata": {},
   "outputs": [],
   "source": [
    "# save model\n",
    "save_path = '/home/wmnlab/Documents/sheng-ru/YU/model/'\n",
    "save_name = 'nr_HO_fcst_xgb.json'\n",
    "f = os.path.join(save_path, save_name)\n",
    "model2.save_model(f)"
   ]
  },
  {
   "cell_type": "code",
   "execution_count": null,
   "metadata": {},
   "outputs": [],
   "source": []
  }
 ],
 "metadata": {
  "accelerator": "GPU",
  "colab": {
   "provenance": []
  },
  "gpuClass": "standard",
  "kernelspec": {
   "display_name": "Python 3 (ipykernel)",
   "language": "python",
   "name": "python3"
  },
  "language_info": {
   "codemirror_mode": {
    "name": "ipython",
    "version": 3
   },
   "file_extension": ".py",
   "mimetype": "text/x-python",
   "name": "python",
   "nbconvert_exporter": "python",
   "pygments_lexer": "ipython3",
   "version": "3.10.11"
  },
  "vscode": {
   "interpreter": {
    "hash": "c7771dd1fbefba0f9e49b3f12d6cb05ea3fc9d8cb4bbb591d0ecb9d07210ade7"
   }
  },
  "widgets": {
   "application/vnd.jupyter.widget-state+json": {
    "0b790cbe3fbb4473a6a2032f3289978c": {
     "model_module": "@jupyter-widgets/controls",
     "model_module_version": "1.5.0",
     "model_name": "HTMLModel",
     "state": {
      "_dom_classes": [],
      "_model_module": "@jupyter-widgets/controls",
      "_model_module_version": "1.5.0",
      "_model_name": "HTMLModel",
      "_view_count": null,
      "_view_module": "@jupyter-widgets/controls",
      "_view_module_version": "1.5.0",
      "_view_name": "HTMLView",
      "description": "",
      "description_tooltip": null,
      "layout": "IPY_MODEL_da193c2493f94ffa83f9515c593dec7b",
      "placeholder": "​",
      "style": "IPY_MODEL_e52a8d7a89ef4e69a51ec0beba114f88",
      "value": " 10/10 [00:00&lt;00:00, 64.32it/s]"
     }
    },
    "3f3f3722cda848e4bd9d91dab9d5a039": {
     "model_module": "@jupyter-widgets/controls",
     "model_module_version": "1.5.0",
     "model_name": "DescriptionStyleModel",
     "state": {
      "_model_module": "@jupyter-widgets/controls",
      "_model_module_version": "1.5.0",
      "_model_name": "DescriptionStyleModel",
      "_view_count": null,
      "_view_module": "@jupyter-widgets/base",
      "_view_module_version": "1.2.0",
      "_view_name": "StyleView",
      "description_width": ""
     }
    },
    "40d6481fc76a434684edc487e01598d7": {
     "model_module": "@jupyter-widgets/base",
     "model_module_version": "1.2.0",
     "model_name": "LayoutModel",
     "state": {
      "_model_module": "@jupyter-widgets/base",
      "_model_module_version": "1.2.0",
      "_model_name": "LayoutModel",
      "_view_count": null,
      "_view_module": "@jupyter-widgets/base",
      "_view_module_version": "1.2.0",
      "_view_name": "LayoutView",
      "align_content": null,
      "align_items": null,
      "align_self": null,
      "border": null,
      "bottom": null,
      "display": null,
      "flex": null,
      "flex_flow": null,
      "grid_area": null,
      "grid_auto_columns": null,
      "grid_auto_flow": null,
      "grid_auto_rows": null,
      "grid_column": null,
      "grid_gap": null,
      "grid_row": null,
      "grid_template_areas": null,
      "grid_template_columns": null,
      "grid_template_rows": null,
      "height": null,
      "justify_content": null,
      "justify_items": null,
      "left": null,
      "margin": null,
      "max_height": null,
      "max_width": null,
      "min_height": null,
      "min_width": null,
      "object_fit": null,
      "object_position": null,
      "order": null,
      "overflow": null,
      "overflow_x": null,
      "overflow_y": null,
      "padding": null,
      "right": null,
      "top": null,
      "visibility": null,
      "width": null
     }
    },
    "4d1d9bc4b7cf4c7fa24ead7c520b89ec": {
     "model_module": "@jupyter-widgets/base",
     "model_module_version": "1.2.0",
     "model_name": "LayoutModel",
     "state": {
      "_model_module": "@jupyter-widgets/base",
      "_model_module_version": "1.2.0",
      "_model_name": "LayoutModel",
      "_view_count": null,
      "_view_module": "@jupyter-widgets/base",
      "_view_module_version": "1.2.0",
      "_view_name": "LayoutView",
      "align_content": null,
      "align_items": null,
      "align_self": null,
      "border": null,
      "bottom": null,
      "display": null,
      "flex": null,
      "flex_flow": null,
      "grid_area": null,
      "grid_auto_columns": null,
      "grid_auto_flow": null,
      "grid_auto_rows": null,
      "grid_column": null,
      "grid_gap": null,
      "grid_row": null,
      "grid_template_areas": null,
      "grid_template_columns": null,
      "grid_template_rows": null,
      "height": null,
      "justify_content": null,
      "justify_items": null,
      "left": null,
      "margin": null,
      "max_height": null,
      "max_width": null,
      "min_height": null,
      "min_width": null,
      "object_fit": null,
      "object_position": null,
      "order": null,
      "overflow": null,
      "overflow_x": null,
      "overflow_y": null,
      "padding": null,
      "right": null,
      "top": null,
      "visibility": null,
      "width": null
     }
    },
    "5636d2bb0cd449b48d116d3298d58bee": {
     "model_module": "@jupyter-widgets/controls",
     "model_module_version": "1.5.0",
     "model_name": "HTMLModel",
     "state": {
      "_dom_classes": [],
      "_model_module": "@jupyter-widgets/controls",
      "_model_module_version": "1.5.0",
      "_model_name": "HTMLModel",
      "_view_count": null,
      "_view_module": "@jupyter-widgets/controls",
      "_view_module_version": "1.5.0",
      "_view_name": "HTMLView",
      "description": "",
      "description_tooltip": null,
      "layout": "IPY_MODEL_ebc772528cf84271998836470aeba36c",
      "placeholder": "​",
      "style": "IPY_MODEL_678f5fea727e457a8c870f25ff6a05cf",
      "value": "100%"
     }
    },
    "5bbf1cb462d049ad88d8499bab6cc95b": {
     "model_module": "@jupyter-widgets/controls",
     "model_module_version": "1.5.0",
     "model_name": "ProgressStyleModel",
     "state": {
      "_model_module": "@jupyter-widgets/controls",
      "_model_module_version": "1.5.0",
      "_model_name": "ProgressStyleModel",
      "_view_count": null,
      "_view_module": "@jupyter-widgets/base",
      "_view_module_version": "1.2.0",
      "_view_name": "StyleView",
      "bar_color": null,
      "description_width": ""
     }
    },
    "678f5fea727e457a8c870f25ff6a05cf": {
     "model_module": "@jupyter-widgets/controls",
     "model_module_version": "1.5.0",
     "model_name": "DescriptionStyleModel",
     "state": {
      "_model_module": "@jupyter-widgets/controls",
      "_model_module_version": "1.5.0",
      "_model_name": "DescriptionStyleModel",
      "_view_count": null,
      "_view_module": "@jupyter-widgets/base",
      "_view_module_version": "1.2.0",
      "_view_name": "StyleView",
      "description_width": ""
     }
    },
    "73cf02420329491992b68f57829cdbc2": {
     "model_module": "@jupyter-widgets/controls",
     "model_module_version": "1.5.0",
     "model_name": "ProgressStyleModel",
     "state": {
      "_model_module": "@jupyter-widgets/controls",
      "_model_module_version": "1.5.0",
      "_model_name": "ProgressStyleModel",
      "_view_count": null,
      "_view_module": "@jupyter-widgets/base",
      "_view_module_version": "1.2.0",
      "_view_name": "StyleView",
      "bar_color": null,
      "description_width": ""
     }
    },
    "7bcca89101404ec5934817decb555743": {
     "model_module": "@jupyter-widgets/controls",
     "model_module_version": "1.5.0",
     "model_name": "FloatProgressModel",
     "state": {
      "_dom_classes": [],
      "_model_module": "@jupyter-widgets/controls",
      "_model_module_version": "1.5.0",
      "_model_name": "FloatProgressModel",
      "_view_count": null,
      "_view_module": "@jupyter-widgets/controls",
      "_view_module_version": "1.5.0",
      "_view_name": "ProgressView",
      "bar_style": "success",
      "description": "",
      "description_tooltip": null,
      "layout": "IPY_MODEL_b0bc8f855a78471f8dce833c0fc5c784",
      "max": 10,
      "min": 0,
      "orientation": "horizontal",
      "style": "IPY_MODEL_73cf02420329491992b68f57829cdbc2",
      "value": 10
     }
    },
    "96b79b33bdcb44be81a3c4d7ac67003e": {
     "model_module": "@jupyter-widgets/controls",
     "model_module_version": "1.5.0",
     "model_name": "HTMLModel",
     "state": {
      "_dom_classes": [],
      "_model_module": "@jupyter-widgets/controls",
      "_model_module_version": "1.5.0",
      "_model_name": "HTMLModel",
      "_view_count": null,
      "_view_module": "@jupyter-widgets/controls",
      "_view_module_version": "1.5.0",
      "_view_name": "HTMLView",
      "description": "",
      "description_tooltip": null,
      "layout": "IPY_MODEL_4d1d9bc4b7cf4c7fa24ead7c520b89ec",
      "placeholder": "​",
      "style": "IPY_MODEL_a62edc7a241244888ba8a015c9bda9e2",
      "value": " 13/13 [00:00&lt;00:00, 63.95it/s]"
     }
    },
    "a62edc7a241244888ba8a015c9bda9e2": {
     "model_module": "@jupyter-widgets/controls",
     "model_module_version": "1.5.0",
     "model_name": "DescriptionStyleModel",
     "state": {
      "_model_module": "@jupyter-widgets/controls",
      "_model_module_version": "1.5.0",
      "_model_name": "DescriptionStyleModel",
      "_view_count": null,
      "_view_module": "@jupyter-widgets/base",
      "_view_module_version": "1.2.0",
      "_view_name": "StyleView",
      "description_width": ""
     }
    },
    "a8fda64c546e4b348c749f051194faba": {
     "model_module": "@jupyter-widgets/controls",
     "model_module_version": "1.5.0",
     "model_name": "HBoxModel",
     "state": {
      "_dom_classes": [],
      "_model_module": "@jupyter-widgets/controls",
      "_model_module_version": "1.5.0",
      "_model_name": "HBoxModel",
      "_view_count": null,
      "_view_module": "@jupyter-widgets/controls",
      "_view_module_version": "1.5.0",
      "_view_name": "HBoxView",
      "box_style": "",
      "children": [
       "IPY_MODEL_5636d2bb0cd449b48d116d3298d58bee",
       "IPY_MODEL_e8d4d6ecd06a4e5db72690a07218e55b",
       "IPY_MODEL_96b79b33bdcb44be81a3c4d7ac67003e"
      ],
      "layout": "IPY_MODEL_f50b59266ff241b79ff92690b3639788"
     }
    },
    "b0bc8f855a78471f8dce833c0fc5c784": {
     "model_module": "@jupyter-widgets/base",
     "model_module_version": "1.2.0",
     "model_name": "LayoutModel",
     "state": {
      "_model_module": "@jupyter-widgets/base",
      "_model_module_version": "1.2.0",
      "_model_name": "LayoutModel",
      "_view_count": null,
      "_view_module": "@jupyter-widgets/base",
      "_view_module_version": "1.2.0",
      "_view_name": "LayoutView",
      "align_content": null,
      "align_items": null,
      "align_self": null,
      "border": null,
      "bottom": null,
      "display": null,
      "flex": null,
      "flex_flow": null,
      "grid_area": null,
      "grid_auto_columns": null,
      "grid_auto_flow": null,
      "grid_auto_rows": null,
      "grid_column": null,
      "grid_gap": null,
      "grid_row": null,
      "grid_template_areas": null,
      "grid_template_columns": null,
      "grid_template_rows": null,
      "height": null,
      "justify_content": null,
      "justify_items": null,
      "left": null,
      "margin": null,
      "max_height": null,
      "max_width": null,
      "min_height": null,
      "min_width": null,
      "object_fit": null,
      "object_position": null,
      "order": null,
      "overflow": null,
      "overflow_x": null,
      "overflow_y": null,
      "padding": null,
      "right": null,
      "top": null,
      "visibility": null,
      "width": null
     }
    },
    "b1d6f2469ad440fc83453f57a549a91e": {
     "model_module": "@jupyter-widgets/base",
     "model_module_version": "1.2.0",
     "model_name": "LayoutModel",
     "state": {
      "_model_module": "@jupyter-widgets/base",
      "_model_module_version": "1.2.0",
      "_model_name": "LayoutModel",
      "_view_count": null,
      "_view_module": "@jupyter-widgets/base",
      "_view_module_version": "1.2.0",
      "_view_name": "LayoutView",
      "align_content": null,
      "align_items": null,
      "align_self": null,
      "border": null,
      "bottom": null,
      "display": null,
      "flex": null,
      "flex_flow": null,
      "grid_area": null,
      "grid_auto_columns": null,
      "grid_auto_flow": null,
      "grid_auto_rows": null,
      "grid_column": null,
      "grid_gap": null,
      "grid_row": null,
      "grid_template_areas": null,
      "grid_template_columns": null,
      "grid_template_rows": null,
      "height": null,
      "justify_content": null,
      "justify_items": null,
      "left": null,
      "margin": null,
      "max_height": null,
      "max_width": null,
      "min_height": null,
      "min_width": null,
      "object_fit": null,
      "object_position": null,
      "order": null,
      "overflow": null,
      "overflow_x": null,
      "overflow_y": null,
      "padding": null,
      "right": null,
      "top": null,
      "visibility": null,
      "width": null
     }
    },
    "b5375aa7864748c89a420c181e6c91af": {
     "model_module": "@jupyter-widgets/controls",
     "model_module_version": "1.5.0",
     "model_name": "HTMLModel",
     "state": {
      "_dom_classes": [],
      "_model_module": "@jupyter-widgets/controls",
      "_model_module_version": "1.5.0",
      "_model_name": "HTMLModel",
      "_view_count": null,
      "_view_module": "@jupyter-widgets/controls",
      "_view_module_version": "1.5.0",
      "_view_name": "HTMLView",
      "description": "",
      "description_tooltip": null,
      "layout": "IPY_MODEL_40d6481fc76a434684edc487e01598d7",
      "placeholder": "​",
      "style": "IPY_MODEL_3f3f3722cda848e4bd9d91dab9d5a039",
      "value": "100%"
     }
    },
    "c2a1a91fd6634e5297125ba0837fee03": {
     "model_module": "@jupyter-widgets/controls",
     "model_module_version": "1.5.0",
     "model_name": "HBoxModel",
     "state": {
      "_dom_classes": [],
      "_model_module": "@jupyter-widgets/controls",
      "_model_module_version": "1.5.0",
      "_model_name": "HBoxModel",
      "_view_count": null,
      "_view_module": "@jupyter-widgets/controls",
      "_view_module_version": "1.5.0",
      "_view_name": "HBoxView",
      "box_style": "",
      "children": [
       "IPY_MODEL_b5375aa7864748c89a420c181e6c91af",
       "IPY_MODEL_7bcca89101404ec5934817decb555743",
       "IPY_MODEL_0b790cbe3fbb4473a6a2032f3289978c"
      ],
      "layout": "IPY_MODEL_e7534fee1e8c4b099c1922e2360d5459"
     }
    },
    "da193c2493f94ffa83f9515c593dec7b": {
     "model_module": "@jupyter-widgets/base",
     "model_module_version": "1.2.0",
     "model_name": "LayoutModel",
     "state": {
      "_model_module": "@jupyter-widgets/base",
      "_model_module_version": "1.2.0",
      "_model_name": "LayoutModel",
      "_view_count": null,
      "_view_module": "@jupyter-widgets/base",
      "_view_module_version": "1.2.0",
      "_view_name": "LayoutView",
      "align_content": null,
      "align_items": null,
      "align_self": null,
      "border": null,
      "bottom": null,
      "display": null,
      "flex": null,
      "flex_flow": null,
      "grid_area": null,
      "grid_auto_columns": null,
      "grid_auto_flow": null,
      "grid_auto_rows": null,
      "grid_column": null,
      "grid_gap": null,
      "grid_row": null,
      "grid_template_areas": null,
      "grid_template_columns": null,
      "grid_template_rows": null,
      "height": null,
      "justify_content": null,
      "justify_items": null,
      "left": null,
      "margin": null,
      "max_height": null,
      "max_width": null,
      "min_height": null,
      "min_width": null,
      "object_fit": null,
      "object_position": null,
      "order": null,
      "overflow": null,
      "overflow_x": null,
      "overflow_y": null,
      "padding": null,
      "right": null,
      "top": null,
      "visibility": null,
      "width": null
     }
    },
    "e52a8d7a89ef4e69a51ec0beba114f88": {
     "model_module": "@jupyter-widgets/controls",
     "model_module_version": "1.5.0",
     "model_name": "DescriptionStyleModel",
     "state": {
      "_model_module": "@jupyter-widgets/controls",
      "_model_module_version": "1.5.0",
      "_model_name": "DescriptionStyleModel",
      "_view_count": null,
      "_view_module": "@jupyter-widgets/base",
      "_view_module_version": "1.2.0",
      "_view_name": "StyleView",
      "description_width": ""
     }
    },
    "e7534fee1e8c4b099c1922e2360d5459": {
     "model_module": "@jupyter-widgets/base",
     "model_module_version": "1.2.0",
     "model_name": "LayoutModel",
     "state": {
      "_model_module": "@jupyter-widgets/base",
      "_model_module_version": "1.2.0",
      "_model_name": "LayoutModel",
      "_view_count": null,
      "_view_module": "@jupyter-widgets/base",
      "_view_module_version": "1.2.0",
      "_view_name": "LayoutView",
      "align_content": null,
      "align_items": null,
      "align_self": null,
      "border": null,
      "bottom": null,
      "display": null,
      "flex": null,
      "flex_flow": null,
      "grid_area": null,
      "grid_auto_columns": null,
      "grid_auto_flow": null,
      "grid_auto_rows": null,
      "grid_column": null,
      "grid_gap": null,
      "grid_row": null,
      "grid_template_areas": null,
      "grid_template_columns": null,
      "grid_template_rows": null,
      "height": null,
      "justify_content": null,
      "justify_items": null,
      "left": null,
      "margin": null,
      "max_height": null,
      "max_width": null,
      "min_height": null,
      "min_width": null,
      "object_fit": null,
      "object_position": null,
      "order": null,
      "overflow": null,
      "overflow_x": null,
      "overflow_y": null,
      "padding": null,
      "right": null,
      "top": null,
      "visibility": null,
      "width": null
     }
    },
    "e8d4d6ecd06a4e5db72690a07218e55b": {
     "model_module": "@jupyter-widgets/controls",
     "model_module_version": "1.5.0",
     "model_name": "FloatProgressModel",
     "state": {
      "_dom_classes": [],
      "_model_module": "@jupyter-widgets/controls",
      "_model_module_version": "1.5.0",
      "_model_name": "FloatProgressModel",
      "_view_count": null,
      "_view_module": "@jupyter-widgets/controls",
      "_view_module_version": "1.5.0",
      "_view_name": "ProgressView",
      "bar_style": "success",
      "description": "",
      "description_tooltip": null,
      "layout": "IPY_MODEL_b1d6f2469ad440fc83453f57a549a91e",
      "max": 13,
      "min": 0,
      "orientation": "horizontal",
      "style": "IPY_MODEL_5bbf1cb462d049ad88d8499bab6cc95b",
      "value": 13
     }
    },
    "ebc772528cf84271998836470aeba36c": {
     "model_module": "@jupyter-widgets/base",
     "model_module_version": "1.2.0",
     "model_name": "LayoutModel",
     "state": {
      "_model_module": "@jupyter-widgets/base",
      "_model_module_version": "1.2.0",
      "_model_name": "LayoutModel",
      "_view_count": null,
      "_view_module": "@jupyter-widgets/base",
      "_view_module_version": "1.2.0",
      "_view_name": "LayoutView",
      "align_content": null,
      "align_items": null,
      "align_self": null,
      "border": null,
      "bottom": null,
      "display": null,
      "flex": null,
      "flex_flow": null,
      "grid_area": null,
      "grid_auto_columns": null,
      "grid_auto_flow": null,
      "grid_auto_rows": null,
      "grid_column": null,
      "grid_gap": null,
      "grid_row": null,
      "grid_template_areas": null,
      "grid_template_columns": null,
      "grid_template_rows": null,
      "height": null,
      "justify_content": null,
      "justify_items": null,
      "left": null,
      "margin": null,
      "max_height": null,
      "max_width": null,
      "min_height": null,
      "min_width": null,
      "object_fit": null,
      "object_position": null,
      "order": null,
      "overflow": null,
      "overflow_x": null,
      "overflow_y": null,
      "padding": null,
      "right": null,
      "top": null,
      "visibility": null,
      "width": null
     }
    },
    "f50b59266ff241b79ff92690b3639788": {
     "model_module": "@jupyter-widgets/base",
     "model_module_version": "1.2.0",
     "model_name": "LayoutModel",
     "state": {
      "_model_module": "@jupyter-widgets/base",
      "_model_module_version": "1.2.0",
      "_model_name": "LayoutModel",
      "_view_count": null,
      "_view_module": "@jupyter-widgets/base",
      "_view_module_version": "1.2.0",
      "_view_name": "LayoutView",
      "align_content": null,
      "align_items": null,
      "align_self": null,
      "border": null,
      "bottom": null,
      "display": null,
      "flex": null,
      "flex_flow": null,
      "grid_area": null,
      "grid_auto_columns": null,
      "grid_auto_flow": null,
      "grid_auto_rows": null,
      "grid_column": null,
      "grid_gap": null,
      "grid_row": null,
      "grid_template_areas": null,
      "grid_template_columns": null,
      "grid_template_rows": null,
      "height": null,
      "justify_content": null,
      "justify_items": null,
      "left": null,
      "margin": null,
      "max_height": null,
      "max_width": null,
      "min_height": null,
      "min_width": null,
      "object_fit": null,
      "object_position": null,
      "order": null,
      "overflow": null,
      "overflow_x": null,
      "overflow_y": null,
      "padding": null,
      "right": null,
      "top": null,
      "visibility": null,
      "width": null
     }
    }
   }
  }
 },
 "nbformat": 4,
 "nbformat_minor": 1
}

{
 "cells": [
  {
   "cell_type": "code",
   "execution_count": 2,
   "id": "ddfa7de5",
   "metadata": {},
   "outputs": [
    {
     "name": "stdout",
     "output_type": "stream",
     "text": [
      "# conda environments:\r\n",
      "#\r\n",
      "                         /home/wmnlab/Documents/r11942156/trySomething/.conda\r\n",
      "base                  *  /home/wmnlab/anaconda3\r\n",
      "Yong-Tai                 /home/wmnlab/anaconda3/envs/Yong-Tai\r\n",
      "bacteremia               /home/wmnlab/anaconda3/envs/bacteremia\r\n",
      "bill                     /home/wmnlab/anaconda3/envs/bill\r\n",
      "chat                     /home/wmnlab/anaconda3/envs/chat\r\n",
      "chatglm_etuning          /home/wmnlab/anaconda3/envs/chatglm_etuning\r\n",
      "fubon                    /home/wmnlab/anaconda3/envs/fubon\r\n",
      "ldm                      /home/wmnlab/anaconda3/envs/ldm\r\n",
      "py9                      /home/wmnlab/anaconda3/envs/py9\r\n",
      "sheng-ru                 /home/wmnlab/anaconda3/envs/sheng-ru\r\n",
      "tensorflow210            /home/wmnlab/anaconda3/envs/tensorflow210\r\n",
      "test                     /home/wmnlab/anaconda3/envs/test\r\n",
      "yenKuo                   /home/wmnlab/anaconda3/envs/yenKuo\r\n",
      "yu                       /home/wmnlab/anaconda3/envs/yu\r\n",
      "\r\n"
     ]
    }
   ],
   "source": [
    "!conda env list"
   ]
  },
  {
   "cell_type": "code",
   "execution_count": 3,
   "id": "7ad02fe6",
   "metadata": {},
   "outputs": [
    {
     "name": "stdout",
     "output_type": "stream",
     "text": [
      "\r\n",
      "CommandNotFoundError: Your shell has not been properly configured to use 'conda activate'.\r\n",
      "To initialize your shell, run\r\n",
      "\r\n",
      "    $ conda init <SHELL_NAME>\r\n",
      "\r\n",
      "Currently supported shells are:\r\n",
      "  - bash\r\n",
      "  - fish\r\n",
      "  - tcsh\r\n",
      "  - xonsh\r\n",
      "  - zsh\r\n",
      "  - powershell\r\n",
      "\r\n",
      "See 'conda init --help' for more information and options.\r\n",
      "\r\n",
      "IMPORTANT: You may need to close and restart your shell after running 'conda init'.\r\n",
      "\r\n",
      "\r\n"
     ]
    }
   ],
   "source": [
    "!conda activate sheng-ru"
   ]
  },
  {
   "cell_type": "code",
   "execution_count": null,
   "id": "fe7d1a0a",
   "metadata": {},
   "outputs": [],
   "source": []
  }
 ],
 "metadata": {
  "kernelspec": {
   "display_name": "Python 3 (ipykernel)",
   "language": "python",
   "name": "python3"
  },
  "language_info": {
   "codemirror_mode": {
    "name": "ipython",
    "version": 3
   },
   "file_extension": ".py",
   "mimetype": "text/x-python",
   "name": "python",
   "nbconvert_exporter": "python",
   "pygments_lexer": "ipython3",
   "version": "3.10.12"
  }
 },
 "nbformat": 4,
 "nbformat_minor": 5
}
